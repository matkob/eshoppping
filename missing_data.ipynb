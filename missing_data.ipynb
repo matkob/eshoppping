{
 "cells": [
  {
   "cell_type": "code",
   "execution_count": 1,
   "metadata": {},
   "outputs": [],
   "source": [
    "import pandas as pd\n",
    "import numpy as np\n",
    "import calendar\n",
    "from sklearn.feature_selection import mutual_info_classif\n",
    "from sklearn import metrics\n",
    "np.set_printoptions(suppress=True)"
   ]
  },
  {
   "cell_type": "code",
   "execution_count": 2,
   "metadata": {},
   "outputs": [
    {
     "data": {
      "text/html": [
       "<div>\n",
       "<style scoped>\n",
       "    .dataframe tbody tr th:only-of-type {\n",
       "        vertical-align: middle;\n",
       "    }\n",
       "\n",
       "    .dataframe tbody tr th {\n",
       "        vertical-align: top;\n",
       "    }\n",
       "\n",
       "    .dataframe thead th {\n",
       "        text-align: right;\n",
       "    }\n",
       "</style>\n",
       "<table border=\"1\" class=\"dataframe\">\n",
       "  <thead>\n",
       "    <tr style=\"text-align: right;\">\n",
       "      <th></th>\n",
       "      <th>session_id</th>\n",
       "      <th>time</th>\n",
       "      <th>user_id</th>\n",
       "      <th>product_id</th>\n",
       "      <th>event</th>\n",
       "      <th>discount</th>\n",
       "      <th>purchase_id</th>\n",
       "      <th>made_purchase</th>\n",
       "      <th>known_product</th>\n",
       "      <th>is_user_invalid</th>\n",
       "      <th>...</th>\n",
       "      <th>duration</th>\n",
       "      <th>syntetic_duration</th>\n",
       "      <th>agg_time_spent</th>\n",
       "      <th>weekday</th>\n",
       "      <th>hour</th>\n",
       "      <th>weekday_sin</th>\n",
       "      <th>weekday_cos</th>\n",
       "      <th>hour_sin</th>\n",
       "      <th>hour_cos</th>\n",
       "      <th>ends_with_purchase</th>\n",
       "    </tr>\n",
       "  </thead>\n",
       "  <tbody>\n",
       "    <tr>\n",
       "      <th>0</th>\n",
       "      <td>100001.0</td>\n",
       "      <td>2020-01-17 16:08:57</td>\n",
       "      <td>102.0</td>\n",
       "      <td>1001.0</td>\n",
       "      <td>view_product</td>\n",
       "      <td>0</td>\n",
       "      <td>NaN</td>\n",
       "      <td>False</td>\n",
       "      <td>True</td>\n",
       "      <td>False</td>\n",
       "      <td>...</td>\n",
       "      <td>00:02:32.306757</td>\n",
       "      <td>True</td>\n",
       "      <td>00:07:44.613515</td>\n",
       "      <td>4</td>\n",
       "      <td>16</td>\n",
       "      <td>-0.433884</td>\n",
       "      <td>-0.900969</td>\n",
       "      <td>-0.866025</td>\n",
       "      <td>-0.500000</td>\n",
       "      <td>False</td>\n",
       "    </tr>\n",
       "    <tr>\n",
       "      <th>1</th>\n",
       "      <td>100002.0</td>\n",
       "      <td>2020-01-07 05:10:41</td>\n",
       "      <td>102.0</td>\n",
       "      <td>1277.0</td>\n",
       "      <td>view_product</td>\n",
       "      <td>20</td>\n",
       "      <td>NaN</td>\n",
       "      <td>False</td>\n",
       "      <td>True</td>\n",
       "      <td>False</td>\n",
       "      <td>...</td>\n",
       "      <td>00:03:45</td>\n",
       "      <td>False</td>\n",
       "      <td>00:05:12.306757</td>\n",
       "      <td>1</td>\n",
       "      <td>5</td>\n",
       "      <td>0.781831</td>\n",
       "      <td>0.623490</td>\n",
       "      <td>0.965926</td>\n",
       "      <td>0.258819</td>\n",
       "      <td>False</td>\n",
       "    </tr>\n",
       "    <tr>\n",
       "      <th>2</th>\n",
       "      <td>100002.0</td>\n",
       "      <td>2020-01-07 05:14:26</td>\n",
       "      <td>102.0</td>\n",
       "      <td>1276.0</td>\n",
       "      <td>view_product</td>\n",
       "      <td>20</td>\n",
       "      <td>NaN</td>\n",
       "      <td>False</td>\n",
       "      <td>True</td>\n",
       "      <td>False</td>\n",
       "      <td>...</td>\n",
       "      <td>00:02:32.306757</td>\n",
       "      <td>True</td>\n",
       "      <td>00:03:45</td>\n",
       "      <td>1</td>\n",
       "      <td>5</td>\n",
       "      <td>0.781831</td>\n",
       "      <td>0.623490</td>\n",
       "      <td>0.965926</td>\n",
       "      <td>0.258819</td>\n",
       "      <td>False</td>\n",
       "    </tr>\n",
       "    <tr>\n",
       "      <th>3</th>\n",
       "      <td>100003.0</td>\n",
       "      <td>2020-01-16 09:37:42</td>\n",
       "      <td>102.0</td>\n",
       "      <td>1276.0</td>\n",
       "      <td>view_product</td>\n",
       "      <td>0</td>\n",
       "      <td>NaN</td>\n",
       "      <td>False</td>\n",
       "      <td>True</td>\n",
       "      <td>False</td>\n",
       "      <td>...</td>\n",
       "      <td>00:00:40</td>\n",
       "      <td>False</td>\n",
       "      <td>00:06:17.306757</td>\n",
       "      <td>3</td>\n",
       "      <td>9</td>\n",
       "      <td>0.433884</td>\n",
       "      <td>-0.900969</td>\n",
       "      <td>0.707107</td>\n",
       "      <td>-0.707107</td>\n",
       "      <td>False</td>\n",
       "    </tr>\n",
       "    <tr>\n",
       "      <th>4</th>\n",
       "      <td>100003.0</td>\n",
       "      <td>2020-01-16 09:38:22</td>\n",
       "      <td>102.0</td>\n",
       "      <td>1277.0</td>\n",
       "      <td>view_product</td>\n",
       "      <td>0</td>\n",
       "      <td>NaN</td>\n",
       "      <td>False</td>\n",
       "      <td>True</td>\n",
       "      <td>False</td>\n",
       "      <td>...</td>\n",
       "      <td>00:02:32.306757</td>\n",
       "      <td>True</td>\n",
       "      <td>00:08:57.306757</td>\n",
       "      <td>3</td>\n",
       "      <td>9</td>\n",
       "      <td>0.433884</td>\n",
       "      <td>-0.900969</td>\n",
       "      <td>0.707107</td>\n",
       "      <td>-0.707107</td>\n",
       "      <td>False</td>\n",
       "    </tr>\n",
       "  </tbody>\n",
       "</table>\n",
       "<p>5 rows × 38 columns</p>\n",
       "</div>"
      ],
      "text/plain": [
       "   session_id                time  user_id  product_id         event  \\\n",
       "0    100001.0 2020-01-17 16:08:57    102.0      1001.0  view_product   \n",
       "1    100002.0 2020-01-07 05:10:41    102.0      1277.0  view_product   \n",
       "2    100002.0 2020-01-07 05:14:26    102.0      1276.0  view_product   \n",
       "3    100003.0 2020-01-16 09:37:42    102.0      1276.0  view_product   \n",
       "4    100003.0 2020-01-16 09:38:22    102.0      1277.0  view_product   \n",
       "\n",
       "   discount  purchase_id  made_purchase  known_product  is_user_invalid  ...  \\\n",
       "0         0          NaN          False           True            False  ...   \n",
       "1        20          NaN          False           True            False  ...   \n",
       "2        20          NaN          False           True            False  ...   \n",
       "3         0          NaN          False           True            False  ...   \n",
       "4         0          NaN          False           True            False  ...   \n",
       "\n",
       "         duration  syntetic_duration  agg_time_spent weekday hour weekday_sin  \\\n",
       "0 00:02:32.306757               True 00:07:44.613515       4   16   -0.433884   \n",
       "1        00:03:45              False 00:05:12.306757       1    5    0.781831   \n",
       "2 00:02:32.306757               True        00:03:45       1    5    0.781831   \n",
       "3        00:00:40              False 00:06:17.306757       3    9    0.433884   \n",
       "4 00:02:32.306757               True 00:08:57.306757       3    9    0.433884   \n",
       "\n",
       "   weekday_cos  hour_sin  hour_cos ends_with_purchase  \n",
       "0    -0.900969 -0.866025 -0.500000              False  \n",
       "1     0.623490  0.965926  0.258819              False  \n",
       "2     0.623490  0.965926  0.258819              False  \n",
       "3    -0.900969  0.707107 -0.707107              False  \n",
       "4    -0.900969  0.707107 -0.707107              False  \n",
       "\n",
       "[5 rows x 38 columns]"
      ]
     },
     "execution_count": 2,
     "metadata": {},
     "output_type": "execute_result"
    }
   ],
   "source": [
    "data = pd.read_pickle('data/merged_with_missing.pickle')\n",
    "data.head()"
   ]
  },
  {
   "cell_type": "markdown",
   "metadata": {},
   "source": [
    "# Missing data analysis"
   ]
  },
  {
   "cell_type": "markdown",
   "metadata": {},
   "source": [
    "To decide if missing data is MCAR or MAR problem we are using mutual_info_classif from sklearn library to estimate mutual information between each feature and the target ('is_user_invalid', 'is_delivery_invalid', 'is_price_invalid', 'known_product').\n",
    "\n",
    "Mutual information (MI) between two random variables is a non-negative value, which measures the dependency between the variables. It is equal to zero if and only if two random variables are independent, and higher values mean higher dependency."
   ]
  },
  {
   "cell_type": "markdown",
   "metadata": {},
   "source": [
    "### Invalid user info"
   ]
  },
  {
   "cell_type": "code",
   "execution_count": 3,
   "metadata": {},
   "outputs": [
    {
     "data": {
      "text/plain": [
       "ends_with_purchase     0.000002\n",
       "event                  0.000003\n",
       "made_purchase          0.000003\n",
       "known_product          0.000009\n",
       "is_price_invalid       0.000014\n",
       "name_2                 0.000014\n",
       "syntetic_duration      0.000015\n",
       "cat_3                  0.000020\n",
       "cat_0                  0.000038\n",
       "cat_2                  0.000055\n",
       "discount               0.000057\n",
       "cat_1                  0.000084\n",
       "weekday_sin            0.000084\n",
       "weekday                0.000084\n",
       "weekday_cos            0.000084\n",
       "hour_sin               0.000438\n",
       "hour_cos               0.000454\n",
       "hour                   0.000455\n",
       "product                0.000786\n",
       "duration               0.000998\n",
       "is_delivery_invalid    0.004806\n",
       "female                 0.057365\n",
       "session_id             0.090562\n",
       "agg_time_spent         0.121231\n",
       "time                   0.194409\n",
       "surname                0.194888\n",
       "street                 0.194888\n",
       "name_1                 0.194888\n",
       "city                   0.194888\n",
       "is_user_invalid        0.194888\n",
       "dtype: float64"
      ]
     },
     "execution_count": 3,
     "metadata": {},
     "output_type": "execute_result"
    }
   ],
   "source": [
    "columns = data.dropna(axis=1).columns.to_series()\n",
    "user_info = columns.apply(lambda c: metrics.mutual_info_score(data[c], data.is_user_invalid))\n",
    "user_info.sort_values()"
   ]
  },
  {
   "cell_type": "markdown",
   "metadata": {},
   "source": [
    "### Invalid delivery info"
   ]
  },
  {
   "cell_type": "code",
   "execution_count": 4,
   "metadata": {},
   "outputs": [
    {
     "data": {
      "text/plain": [
       "ends_with_purchase     0.000000\n",
       "name_2                 0.000000\n",
       "duration               0.000000\n",
       "made_purchase          0.000000\n",
       "syntetic_duration      0.000000\n",
       "event                  0.000000\n",
       "discount               0.000531\n",
       "weekday                0.000778\n",
       "weekday_sin            0.000778\n",
       "weekday_cos            0.000778\n",
       "is_price_invalid       0.000963\n",
       "cat_3                  0.002268\n",
       "hour_sin               0.003119\n",
       "hour_cos               0.003344\n",
       "hour                   0.003380\n",
       "female                 0.025391\n",
       "cat_2                  0.033347\n",
       "is_user_invalid        0.121829\n",
       "city                   0.122716\n",
       "known_product          0.142053\n",
       "cat_0                  0.142116\n",
       "cat_1                  0.143369\n",
       "name_1                 0.143428\n",
       "surname                0.152253\n",
       "street                 0.154015\n",
       "product                0.154724\n",
       "agg_time_spent         0.220211\n",
       "purchase_time          0.323026\n",
       "purchase_id            0.323026\n",
       "time                   0.323026\n",
       "session_id             0.323026\n",
       "is_delivery_invalid    0.323026\n",
       "dtype: float64"
      ]
     },
     "execution_count": 4,
     "metadata": {},
     "output_type": "execute_result"
    }
   ],
   "source": [
    "columns = data[data.made_purchase].dropna(axis=1).columns.to_series()\n",
    "delivery_info = columns.apply(lambda c: metrics.mutual_info_score(data[data.made_purchase][c], data[data.made_purchase].is_delivery_invalid))\n",
    "delivery_info.sort_values()"
   ]
  },
  {
   "cell_type": "markdown",
   "metadata": {},
   "source": [
    "### Invalid price info"
   ]
  },
  {
   "cell_type": "code",
   "execution_count": 5,
   "metadata": {},
   "outputs": [
    {
     "data": {
      "text/plain": [
       "female                 0.000004\n",
       "name_2                 0.000004\n",
       "is_user_invalid        0.000014\n",
       "ends_with_purchase     0.000063\n",
       "discount               0.000066\n",
       "weekday                0.000076\n",
       "weekday_cos            0.000076\n",
       "weekday_sin            0.000076\n",
       "syntetic_duration      0.000081\n",
       "is_delivery_invalid    0.000094\n",
       "city                   0.000105\n",
       "made_purchase          0.000174\n",
       "event                  0.000174\n",
       "hour_sin               0.000549\n",
       "hour_cos               0.000550\n",
       "hour                   0.000577\n",
       "duration               0.000825\n",
       "name_1                 0.001884\n",
       "surname                0.003035\n",
       "known_product          0.003064\n",
       "street                 0.003092\n",
       "cat_3                  0.008480\n",
       "agg_time_spent         0.016810\n",
       "cat_0                  0.027105\n",
       "cat_1                  0.050821\n",
       "cat_2                  0.073548\n",
       "session_id             0.105790\n",
       "time                   0.218753\n",
       "is_price_invalid       0.219191\n",
       "product                0.219191\n",
       "dtype: float64"
      ]
     },
     "execution_count": 5,
     "metadata": {},
     "output_type": "execute_result"
    }
   ],
   "source": [
    "columns = data.dropna(axis=1).columns.to_series()\n",
    "price_info = columns.apply(lambda c: metrics.mutual_info_score(data[c], data.is_price_invalid))\n",
    "price_info.sort_values()"
   ]
  },
  {
   "cell_type": "code",
   "execution_count": 23,
   "metadata": {},
   "outputs": [
    {
     "data": {
      "text/plain": [
       "Index(['call of duty 2 (pc)', 'plantronics savi w740', 'oki b840dn',\n",
       "       'bioshock infinite (xbox 360)', 'jabra talk'],\n",
       "      dtype='object', name='product')"
      ]
     },
     "execution_count": 23,
     "metadata": {},
     "output_type": "execute_result"
    }
   ],
   "source": [
    "data[data.is_price_invalid].set_index('product').index.unique()"
   ]
  },
  {
   "cell_type": "markdown",
   "metadata": {},
   "source": [
    "Price of those products is invalid."
   ]
  },
  {
   "cell_type": "markdown",
   "metadata": {},
   "source": [
    "### Invalid product info"
   ]
  },
  {
   "cell_type": "code",
   "execution_count": 24,
   "metadata": {},
   "outputs": [
    {
     "data": {
      "text/plain": [
       "female                 7.987249e-08\n",
       "syntetic_duration      4.787389e-06\n",
       "is_user_invalid        9.021084e-06\n",
       "ends_with_purchase     1.054449e-05\n",
       "event                  1.349698e-05\n",
       "made_purchase          1.349698e-05\n",
       "name_2                 1.494774e-05\n",
       "discount               1.598062e-05\n",
       "weekday_cos            6.307612e-05\n",
       "weekday_sin            6.307612e-05\n",
       "weekday                6.307612e-05\n",
       "city                   9.557460e-05\n",
       "hour_cos               3.598095e-04\n",
       "hour_sin               4.027123e-04\n",
       "hour                   4.329925e-04\n",
       "duration               8.714671e-04\n",
       "name_1                 1.735197e-03\n",
       "surname                2.923973e-03\n",
       "street                 2.975770e-03\n",
       "is_price_invalid       3.063506e-03\n",
       "is_delivery_invalid    4.995716e-03\n",
       "cat_3                  7.480535e-03\n",
       "agg_time_spent         7.173252e-02\n",
       "cat_2                  8.082401e-02\n",
       "session_id             9.171798e-02\n",
       "time                   2.000048e-01\n",
       "known_product          2.004034e-01\n",
       "cat_1                  2.004034e-01\n",
       "product                2.004034e-01\n",
       "cat_0                  2.004034e-01\n",
       "dtype: float64"
      ]
     },
     "execution_count": 24,
     "metadata": {},
     "output_type": "execute_result"
    }
   ],
   "source": [
    "columns = data.dropna(axis=1).columns.to_series()\n",
    "product_info = columns.apply(lambda c: metrics.mutual_info_score(data[c], data.known_product))\n",
    "product_info.sort_values()"
   ]
  },
  {
   "cell_type": "markdown",
   "metadata": {},
   "source": [
    "# Conclusions"
   ]
  },
  {
   "cell_type": "markdown",
   "metadata": {},
   "source": [
    "High mutual information score of time feature suggests that there were random problems with the systems data aggregation module. In most cases invalid data seems to be occurring at random thus it can be dropped safely."
   ]
  }
 ],
 "metadata": {
  "kernelspec": {
   "display_name": "local",
   "language": "python",
   "name": "local"
  },
  "language_info": {
   "codemirror_mode": {
    "name": "ipython",
    "version": 3
   },
   "file_extension": ".py",
   "mimetype": "text/x-python",
   "name": "python",
   "nbconvert_exporter": "python",
   "pygments_lexer": "ipython3",
   "version": "3.7.7"
  }
 },
 "nbformat": 4,
 "nbformat_minor": 4
}
