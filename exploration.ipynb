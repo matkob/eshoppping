{
 "cells": [
  {
   "cell_type": "code",
   "execution_count": 1,
   "metadata": {},
   "outputs": [],
   "source": [
    "import pandas as pd\n",
    "import numpy as np\n",
    "\n",
    "raw_users = pd.read_json('data/users.jsonl', lines=True)\n",
    "raw_sessions = pd.read_json('data/sessions.jsonl', lines=True)\n",
    "raw_products = pd.read_json('data/products.jsonl', lines=True)\n",
    "raw_deliveries = pd.read_json('data/deliveries.jsonl', lines=True)"
   ]
  },
  {
   "cell_type": "code",
   "execution_count": 2,
   "metadata": {},
   "outputs": [
    {
     "data": {
      "text/plain": [
       "city       object\n",
       "name       object\n",
       "street     object\n",
       "user_id     int64\n",
       "dtype: object"
      ]
     },
     "execution_count": 2,
     "metadata": {},
     "output_type": "execute_result"
    }
   ],
   "source": [
    "raw_users.dtypes"
   ]
  },
  {
   "cell_type": "code",
   "execution_count": 3,
   "metadata": {},
   "outputs": [
    {
     "data": {
      "text/plain": [
       "event_type                  object\n",
       "offered_discount             int64\n",
       "product_id                 float64\n",
       "purchase_id                float64\n",
       "session_id                   int64\n",
       "timestamp           datetime64[ns]\n",
       "user_id                    float64\n",
       "dtype: object"
      ]
     },
     "execution_count": 3,
     "metadata": {},
     "output_type": "execute_result"
    }
   ],
   "source": [
    "raw_sessions.dtypes"
   ]
  },
  {
   "cell_type": "code",
   "execution_count": 4,
   "metadata": {},
   "outputs": [
    {
     "data": {
      "text/plain": [
       "category_path     object\n",
       "price            float64\n",
       "product_id         int64\n",
       "product_name      object\n",
       "dtype: object"
      ]
     },
     "execution_count": 4,
     "metadata": {},
     "output_type": "execute_result"
    }
   ],
   "source": [
    "raw_products.dtypes"
   ]
  },
  {
   "cell_type": "code",
   "execution_count": 5,
   "metadata": {},
   "outputs": [
    {
     "data": {
      "text/plain": [
       "delivery_company      float64\n",
       "delivery_timestamp     object\n",
       "purchase_id             int64\n",
       "purchase_timestamp     object\n",
       "dtype: object"
      ]
     },
     "execution_count": 5,
     "metadata": {},
     "output_type": "execute_result"
    }
   ],
   "source": [
    "raw_deliveries.dtypes"
   ]
  },
  {
   "cell_type": "markdown",
   "metadata": {},
   "source": [
    "### Clean session data"
   ]
  },
  {
   "cell_type": "code",
   "execution_count": 6,
   "metadata": {},
   "outputs": [
    {
     "data": {
      "text/plain": [
       "event_type                  object\n",
       "offered_discount             int64\n",
       "product_id                 float64\n",
       "purchase_id                float64\n",
       "session_id                 float64\n",
       "timestamp           datetime64[ns]\n",
       "user_id                    float64\n",
       "dtype: object"
      ]
     },
     "execution_count": 6,
     "metadata": {},
     "output_type": "execute_result"
    }
   ],
   "source": [
    "sessions = raw_sessions.astype({'session_id': 'float64'})\n",
    "sessions.dtypes"
   ]
  },
  {
   "cell_type": "code",
   "execution_count": 11,
   "metadata": {},
   "outputs": [
    {
     "data": {
      "text/html": [
       "<div>\n",
       "<style scoped>\n",
       "    .dataframe tbody tr th:only-of-type {\n",
       "        vertical-align: middle;\n",
       "    }\n",
       "\n",
       "    .dataframe tbody tr th {\n",
       "        vertical-align: top;\n",
       "    }\n",
       "\n",
       "    .dataframe thead th {\n",
       "        text-align: right;\n",
       "    }\n",
       "</style>\n",
       "<table border=\"1\" class=\"dataframe\">\n",
       "  <thead>\n",
       "    <tr style=\"text-align: right;\">\n",
       "      <th></th>\n",
       "      <th>event_type</th>\n",
       "      <th>offered_discount</th>\n",
       "      <th>product_id</th>\n",
       "      <th>purchase_id</th>\n",
       "      <th>session_id</th>\n",
       "      <th>timestamp</th>\n",
       "      <th>user_id</th>\n",
       "      <th>purchased</th>\n",
       "    </tr>\n",
       "  </thead>\n",
       "  <tbody>\n",
       "    <tr>\n",
       "      <th>0</th>\n",
       "      <td>VIEW_PRODUCT</td>\n",
       "      <td>0</td>\n",
       "      <td>1001.0</td>\n",
       "      <td>NaN</td>\n",
       "      <td>100001.0</td>\n",
       "      <td>2020-01-17 16:08:57</td>\n",
       "      <td>102.0</td>\n",
       "      <td>False</td>\n",
       "    </tr>\n",
       "    <tr>\n",
       "      <th>1</th>\n",
       "      <td>VIEW_PRODUCT</td>\n",
       "      <td>20</td>\n",
       "      <td>1277.0</td>\n",
       "      <td>NaN</td>\n",
       "      <td>100002.0</td>\n",
       "      <td>2020-01-07 05:10:41</td>\n",
       "      <td>102.0</td>\n",
       "      <td>False</td>\n",
       "    </tr>\n",
       "    <tr>\n",
       "      <th>2</th>\n",
       "      <td>VIEW_PRODUCT</td>\n",
       "      <td>20</td>\n",
       "      <td>1276.0</td>\n",
       "      <td>NaN</td>\n",
       "      <td>100002.0</td>\n",
       "      <td>2020-01-07 05:14:26</td>\n",
       "      <td>102.0</td>\n",
       "      <td>False</td>\n",
       "    </tr>\n",
       "    <tr>\n",
       "      <th>3</th>\n",
       "      <td>VIEW_PRODUCT</td>\n",
       "      <td>0</td>\n",
       "      <td>1276.0</td>\n",
       "      <td>NaN</td>\n",
       "      <td>100003.0</td>\n",
       "      <td>2020-01-16 09:37:42</td>\n",
       "      <td>102.0</td>\n",
       "      <td>False</td>\n",
       "    </tr>\n",
       "    <tr>\n",
       "      <th>4</th>\n",
       "      <td>VIEW_PRODUCT</td>\n",
       "      <td>0</td>\n",
       "      <td>1277.0</td>\n",
       "      <td>NaN</td>\n",
       "      <td>100003.0</td>\n",
       "      <td>2020-01-16 09:38:22</td>\n",
       "      <td>102.0</td>\n",
       "      <td>False</td>\n",
       "    </tr>\n",
       "  </tbody>\n",
       "</table>\n",
       "</div>"
      ],
      "text/plain": [
       "     event_type  offered_discount  product_id  purchase_id  session_id  \\\n",
       "0  VIEW_PRODUCT                 0      1001.0          NaN    100001.0   \n",
       "1  VIEW_PRODUCT                20      1277.0          NaN    100002.0   \n",
       "2  VIEW_PRODUCT                20      1276.0          NaN    100002.0   \n",
       "3  VIEW_PRODUCT                 0      1276.0          NaN    100003.0   \n",
       "4  VIEW_PRODUCT                 0      1277.0          NaN    100003.0   \n",
       "\n",
       "            timestamp  user_id  purchased  \n",
       "0 2020-01-17 16:08:57    102.0      False  \n",
       "1 2020-01-07 05:10:41    102.0      False  \n",
       "2 2020-01-07 05:14:26    102.0      False  \n",
       "3 2020-01-16 09:37:42    102.0      False  \n",
       "4 2020-01-16 09:38:22    102.0      False  "
      ]
     },
     "execution_count": 11,
     "metadata": {},
     "output_type": "execute_result"
    }
   ],
   "source": [
    "sessions['purchased'] = sessions.purchase_id.map(lambda x: False if pd.isnull(x) else True)\n",
    "sessions.head()"
   ]
  },
  {
   "cell_type": "markdown",
   "metadata": {},
   "source": [
    "### Clean product data"
   ]
  },
  {
   "cell_type": "code",
   "execution_count": 15,
   "metadata": {},
   "outputs": [
    {
     "data": {
      "text/plain": [
       "category_path     object\n",
       "price            float64\n",
       "product_id       float64\n",
       "product_name      object\n",
       "dtype: object"
      ]
     },
     "execution_count": 15,
     "metadata": {},
     "output_type": "execute_result"
    }
   ],
   "source": [
    "products = raw_products.astype({'product_id': 'float64', 'category_path': 'unicode'})\n",
    "products.set_index('product_id')\n",
    "products.dtypes"
   ]
  },
  {
   "cell_type": "code",
   "execution_count": 21,
   "metadata": {},
   "outputs": [
    {
     "data": {
      "text/html": [
       "<div>\n",
       "<style scoped>\n",
       "    .dataframe tbody tr th:only-of-type {\n",
       "        vertical-align: middle;\n",
       "    }\n",
       "\n",
       "    .dataframe tbody tr th {\n",
       "        vertical-align: top;\n",
       "    }\n",
       "\n",
       "    .dataframe thead th {\n",
       "        text-align: right;\n",
       "    }\n",
       "</style>\n",
       "<table border=\"1\" class=\"dataframe\">\n",
       "  <thead>\n",
       "    <tr style=\"text-align: right;\">\n",
       "      <th></th>\n",
       "      <th>category_path</th>\n",
       "      <th>price</th>\n",
       "      <th>product_id</th>\n",
       "      <th>product_name</th>\n",
       "      <th>categories</th>\n",
       "    </tr>\n",
       "  </thead>\n",
       "  <tbody>\n",
       "    <tr>\n",
       "      <th>0</th>\n",
       "      <td>Telefony i akcesoria;Telefony stacjonarne</td>\n",
       "      <td>58.97</td>\n",
       "      <td>1001.0</td>\n",
       "      <td>Telefon Siemens Gigaset DA310</td>\n",
       "      <td>[Telefony i akcesoria, Telefony stacjonarne]</td>\n",
       "    </tr>\n",
       "    <tr>\n",
       "      <th>1</th>\n",
       "      <td>Komputery;Drukarki i skanery;Biurowe urządzeni...</td>\n",
       "      <td>2048.50</td>\n",
       "      <td>1002.0</td>\n",
       "      <td>Kyocera FS-1135MFP</td>\n",
       "      <td>[Komputery, Drukarki i skanery, Biurowe urządz...</td>\n",
       "    </tr>\n",
       "    <tr>\n",
       "      <th>2</th>\n",
       "      <td>Komputery;Drukarki i skanery;Biurowe urządzeni...</td>\n",
       "      <td>7639.00</td>\n",
       "      <td>1003.0</td>\n",
       "      <td>Kyocera FS-3640MFP</td>\n",
       "      <td>[Komputery, Drukarki i skanery, Biurowe urządz...</td>\n",
       "    </tr>\n",
       "    <tr>\n",
       "      <th>3</th>\n",
       "      <td>Gry i konsole;Gry na konsole;Gry Xbox 360</td>\n",
       "      <td>49.99</td>\n",
       "      <td>1004.0</td>\n",
       "      <td>Fallout 3 (Xbox 360)</td>\n",
       "      <td>[Gry i konsole, Gry na konsole, Gry Xbox 360]</td>\n",
       "    </tr>\n",
       "    <tr>\n",
       "      <th>4</th>\n",
       "      <td>Gry i konsole;Gry na konsole;Gry Xbox 360</td>\n",
       "      <td>49.99</td>\n",
       "      <td>1005.0</td>\n",
       "      <td>Szalone Króliki Na żywo i w kolorze (Xbox 360)</td>\n",
       "      <td>[Gry i konsole, Gry na konsole, Gry Xbox 360]</td>\n",
       "    </tr>\n",
       "  </tbody>\n",
       "</table>\n",
       "</div>"
      ],
      "text/plain": [
       "                                       category_path    price  product_id  \\\n",
       "0          Telefony i akcesoria;Telefony stacjonarne    58.97      1001.0   \n",
       "1  Komputery;Drukarki i skanery;Biurowe urządzeni...  2048.50      1002.0   \n",
       "2  Komputery;Drukarki i skanery;Biurowe urządzeni...  7639.00      1003.0   \n",
       "3          Gry i konsole;Gry na konsole;Gry Xbox 360    49.99      1004.0   \n",
       "4          Gry i konsole;Gry na konsole;Gry Xbox 360    49.99      1005.0   \n",
       "\n",
       "                                     product_name  \\\n",
       "0                   Telefon Siemens Gigaset DA310   \n",
       "1                              Kyocera FS-1135MFP   \n",
       "2                              Kyocera FS-3640MFP   \n",
       "3                            Fallout 3 (Xbox 360)   \n",
       "4  Szalone Króliki Na żywo i w kolorze (Xbox 360)   \n",
       "\n",
       "                                          categories  \n",
       "0       [Telefony i akcesoria, Telefony stacjonarne]  \n",
       "1  [Komputery, Drukarki i skanery, Biurowe urządz...  \n",
       "2  [Komputery, Drukarki i skanery, Biurowe urządz...  \n",
       "3      [Gry i konsole, Gry na konsole, Gry Xbox 360]  \n",
       "4      [Gry i konsole, Gry na konsole, Gry Xbox 360]  "
      ]
     },
     "execution_count": 21,
     "metadata": {},
     "output_type": "execute_result"
    }
   ],
   "source": [
    "products['categories'] = products.category_path.apply(lambda s: s.split(';'))\n",
    "products.head()"
   ]
  },
  {
   "cell_type": "markdown",
   "metadata": {},
   "source": [
    "### Clean user data"
   ]
  },
  {
   "cell_type": "code",
   "execution_count": 23,
   "metadata": {},
   "outputs": [
    {
     "data": {
      "text/plain": [
       "city        object\n",
       "name        object\n",
       "street      object\n",
       "user_id    float64\n",
       "dtype: object"
      ]
     },
     "execution_count": 23,
     "metadata": {},
     "output_type": "execute_result"
    }
   ],
   "source": [
    "users = raw_users.astype({'user_id': 'float64'})\n",
    "users.set_index('user_id')\n",
    "users.dtypes"
   ]
  },
  {
   "cell_type": "code",
   "execution_count": 25,
   "metadata": {},
   "outputs": [
    {
     "data": {
      "text/html": [
       "<div>\n",
       "<style scoped>\n",
       "    .dataframe tbody tr th:only-of-type {\n",
       "        vertical-align: middle;\n",
       "    }\n",
       "\n",
       "    .dataframe tbody tr th {\n",
       "        vertical-align: top;\n",
       "    }\n",
       "\n",
       "    .dataframe thead th {\n",
       "        text-align: right;\n",
       "    }\n",
       "</style>\n",
       "<table border=\"1\" class=\"dataframe\">\n",
       "  <thead>\n",
       "    <tr style=\"text-align: right;\">\n",
       "      <th></th>\n",
       "      <th>city</th>\n",
       "      <th>name</th>\n",
       "      <th>street</th>\n",
       "      <th>user_id</th>\n",
       "    </tr>\n",
       "  </thead>\n",
       "  <tbody>\n",
       "    <tr>\n",
       "      <th>0</th>\n",
       "      <td>Warszawa</td>\n",
       "      <td>Juliusz Męcik</td>\n",
       "      <td>plac Krakowska 69</td>\n",
       "      <td>102.0</td>\n",
       "    </tr>\n",
       "    <tr>\n",
       "      <th>1</th>\n",
       "      <td>Radom</td>\n",
       "      <td>Eliza Miętka</td>\n",
       "      <td>ul. Bursztynowa 56/10</td>\n",
       "      <td>103.0</td>\n",
       "    </tr>\n",
       "    <tr>\n",
       "      <th>2</th>\n",
       "      <td>Warszawa</td>\n",
       "      <td>Kacper Kolarz</td>\n",
       "      <td>plac Wiślana 99</td>\n",
       "      <td>104.0</td>\n",
       "    </tr>\n",
       "    <tr>\n",
       "      <th>3</th>\n",
       "      <td>Gdynia</td>\n",
       "      <td>Tobiasz Radko</td>\n",
       "      <td>ulica Zwycięstwa 76/98</td>\n",
       "      <td>105.0</td>\n",
       "    </tr>\n",
       "    <tr>\n",
       "      <th>4</th>\n",
       "      <td>Kutno</td>\n",
       "      <td>Roksana Merchel</td>\n",
       "      <td>plac Głogowa 53/95</td>\n",
       "      <td>106.0</td>\n",
       "    </tr>\n",
       "  </tbody>\n",
       "</table>\n",
       "</div>"
      ],
      "text/plain": [
       "       city             name                  street  user_id\n",
       "0  Warszawa    Juliusz Męcik       plac Krakowska 69    102.0\n",
       "1     Radom     Eliza Miętka   ul. Bursztynowa 56/10    103.0\n",
       "2  Warszawa    Kacper Kolarz         plac Wiślana 99    104.0\n",
       "3    Gdynia    Tobiasz Radko  ulica Zwycięstwa 76/98    105.0\n",
       "4     Kutno  Roksana Merchel      plac Głogowa 53/95    106.0"
      ]
     },
     "execution_count": 25,
     "metadata": {},
     "output_type": "execute_result"
    }
   ],
   "source": [
    "users.head()"
   ]
  },
  {
   "cell_type": "markdown",
   "metadata": {},
   "source": [
    "### Merge datasets"
   ]
  },
  {
   "cell_type": "code",
   "execution_count": 30,
   "metadata": {},
   "outputs": [
    {
     "data": {
      "text/html": [
       "<div>\n",
       "<style scoped>\n",
       "    .dataframe tbody tr th:only-of-type {\n",
       "        vertical-align: middle;\n",
       "    }\n",
       "\n",
       "    .dataframe tbody tr th {\n",
       "        vertical-align: top;\n",
       "    }\n",
       "\n",
       "    .dataframe thead th {\n",
       "        text-align: right;\n",
       "    }\n",
       "</style>\n",
       "<table border=\"1\" class=\"dataframe\">\n",
       "  <thead>\n",
       "    <tr style=\"text-align: right;\">\n",
       "      <th></th>\n",
       "      <th>event_type</th>\n",
       "      <th>offered_discount</th>\n",
       "      <th>product_id</th>\n",
       "      <th>purchase_id</th>\n",
       "      <th>session_id</th>\n",
       "      <th>timestamp</th>\n",
       "      <th>user_id</th>\n",
       "      <th>purchased</th>\n",
       "      <th>price</th>\n",
       "      <th>product_name</th>\n",
       "      <th>categories</th>\n",
       "      <th>city</th>\n",
       "      <th>name</th>\n",
       "      <th>street</th>\n",
       "    </tr>\n",
       "  </thead>\n",
       "  <tbody>\n",
       "    <tr>\n",
       "      <th>0</th>\n",
       "      <td>VIEW_PRODUCT</td>\n",
       "      <td>0</td>\n",
       "      <td>1001.0</td>\n",
       "      <td>NaN</td>\n",
       "      <td>100001.0</td>\n",
       "      <td>2020-01-17 16:08:57</td>\n",
       "      <td>102.0</td>\n",
       "      <td>False</td>\n",
       "      <td>58.97</td>\n",
       "      <td>Telefon Siemens Gigaset DA310</td>\n",
       "      <td>[Telefony i akcesoria, Telefony stacjonarne]</td>\n",
       "      <td>Warszawa</td>\n",
       "      <td>Juliusz Męcik</td>\n",
       "      <td>plac Krakowska 69</td>\n",
       "    </tr>\n",
       "    <tr>\n",
       "      <th>1</th>\n",
       "      <td>VIEW_PRODUCT</td>\n",
       "      <td>20</td>\n",
       "      <td>1277.0</td>\n",
       "      <td>NaN</td>\n",
       "      <td>100002.0</td>\n",
       "      <td>2020-01-07 05:10:41</td>\n",
       "      <td>102.0</td>\n",
       "      <td>False</td>\n",
       "      <td>2317.02</td>\n",
       "      <td>Apple iPad mini 64GB 4G</td>\n",
       "      <td>[Komputery, Tablety i akcesoria, Tablety]</td>\n",
       "      <td>Warszawa</td>\n",
       "      <td>Juliusz Męcik</td>\n",
       "      <td>plac Krakowska 69</td>\n",
       "    </tr>\n",
       "    <tr>\n",
       "      <th>2</th>\n",
       "      <td>VIEW_PRODUCT</td>\n",
       "      <td>20</td>\n",
       "      <td>1276.0</td>\n",
       "      <td>NaN</td>\n",
       "      <td>100002.0</td>\n",
       "      <td>2020-01-07 05:14:26</td>\n",
       "      <td>102.0</td>\n",
       "      <td>False</td>\n",
       "      <td>1816.97</td>\n",
       "      <td>Apple iPad mini 64GB</td>\n",
       "      <td>[Komputery, Tablety i akcesoria, Tablety]</td>\n",
       "      <td>Warszawa</td>\n",
       "      <td>Juliusz Męcik</td>\n",
       "      <td>plac Krakowska 69</td>\n",
       "    </tr>\n",
       "    <tr>\n",
       "      <th>3</th>\n",
       "      <td>VIEW_PRODUCT</td>\n",
       "      <td>0</td>\n",
       "      <td>1276.0</td>\n",
       "      <td>NaN</td>\n",
       "      <td>100003.0</td>\n",
       "      <td>2020-01-16 09:37:42</td>\n",
       "      <td>102.0</td>\n",
       "      <td>False</td>\n",
       "      <td>1816.97</td>\n",
       "      <td>Apple iPad mini 64GB</td>\n",
       "      <td>[Komputery, Tablety i akcesoria, Tablety]</td>\n",
       "      <td>Warszawa</td>\n",
       "      <td>Juliusz Męcik</td>\n",
       "      <td>plac Krakowska 69</td>\n",
       "    </tr>\n",
       "    <tr>\n",
       "      <th>4</th>\n",
       "      <td>VIEW_PRODUCT</td>\n",
       "      <td>0</td>\n",
       "      <td>1277.0</td>\n",
       "      <td>NaN</td>\n",
       "      <td>100003.0</td>\n",
       "      <td>2020-01-16 09:38:22</td>\n",
       "      <td>102.0</td>\n",
       "      <td>False</td>\n",
       "      <td>2317.02</td>\n",
       "      <td>Apple iPad mini 64GB 4G</td>\n",
       "      <td>[Komputery, Tablety i akcesoria, Tablety]</td>\n",
       "      <td>Warszawa</td>\n",
       "      <td>Juliusz Męcik</td>\n",
       "      <td>plac Krakowska 69</td>\n",
       "    </tr>\n",
       "  </tbody>\n",
       "</table>\n",
       "</div>"
      ],
      "text/plain": [
       "     event_type  offered_discount  product_id  purchase_id  session_id  \\\n",
       "0  VIEW_PRODUCT                 0      1001.0          NaN    100001.0   \n",
       "1  VIEW_PRODUCT                20      1277.0          NaN    100002.0   \n",
       "2  VIEW_PRODUCT                20      1276.0          NaN    100002.0   \n",
       "3  VIEW_PRODUCT                 0      1276.0          NaN    100003.0   \n",
       "4  VIEW_PRODUCT                 0      1277.0          NaN    100003.0   \n",
       "\n",
       "            timestamp  user_id  purchased    price  \\\n",
       "0 2020-01-17 16:08:57    102.0      False    58.97   \n",
       "1 2020-01-07 05:10:41    102.0      False  2317.02   \n",
       "2 2020-01-07 05:14:26    102.0      False  1816.97   \n",
       "3 2020-01-16 09:37:42    102.0      False  1816.97   \n",
       "4 2020-01-16 09:38:22    102.0      False  2317.02   \n",
       "\n",
       "                    product_name  \\\n",
       "0  Telefon Siemens Gigaset DA310   \n",
       "1        Apple iPad mini 64GB 4G   \n",
       "2           Apple iPad mini 64GB   \n",
       "3           Apple iPad mini 64GB   \n",
       "4        Apple iPad mini 64GB 4G   \n",
       "\n",
       "                                     categories      city           name  \\\n",
       "0  [Telefony i akcesoria, Telefony stacjonarne]  Warszawa  Juliusz Męcik   \n",
       "1     [Komputery, Tablety i akcesoria, Tablety]  Warszawa  Juliusz Męcik   \n",
       "2     [Komputery, Tablety i akcesoria, Tablety]  Warszawa  Juliusz Męcik   \n",
       "3     [Komputery, Tablety i akcesoria, Tablety]  Warszawa  Juliusz Męcik   \n",
       "4     [Komputery, Tablety i akcesoria, Tablety]  Warszawa  Juliusz Męcik   \n",
       "\n",
       "              street  \n",
       "0  plac Krakowska 69  \n",
       "1  plac Krakowska 69  \n",
       "2  plac Krakowska 69  \n",
       "3  plac Krakowska 69  \n",
       "4  plac Krakowska 69  "
      ]
     },
     "execution_count": 30,
     "metadata": {},
     "output_type": "execute_result"
    }
   ],
   "source": [
    "data = sessions.merge(products, how='left', on='product_id').merge(users, how='left', on='user_id')\n",
    "data = data.drop(['category_path'], axis=1)\n",
    "data.head()"
   ]
  }
 ],
 "metadata": {
  "kernelspec": {
   "display_name": "Python 3",
   "language": "python",
   "name": "python3"
  },
  "language_info": {
   "codemirror_mode": {
    "name": "ipython",
    "version": 2
   },
   "file_extension": ".py",
   "mimetype": "text/x-python",
   "name": "python",
   "nbconvert_exporter": "python",
   "pygments_lexer": "ipython2",
   "version": "2.7.17"
  }
 },
 "nbformat": 4,
 "nbformat_minor": 2
}
