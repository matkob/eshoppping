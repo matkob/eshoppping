{
 "cells": [
  {
   "cell_type": "code",
   "execution_count": 434,
   "metadata": {},
   "outputs": [],
   "source": [
    "import pandas as pd\n",
    "import numpy as np\n",
    "\n",
    "raw_users = pd.read_json('data/users.jsonl', lines=True)\n",
    "raw_products = pd.read_json('data/products.jsonl', lines=True)\n",
    "raw_sessions = pd.read_json('data/sessions.jsonl', lines=True)\n",
    "raw_deliveries = pd.read_json('data/deliveries.jsonl', lines=True)"
   ]
  },
  {
   "cell_type": "code",
   "execution_count": 435,
   "metadata": {},
   "outputs": [
    {
     "data": {
      "text/plain": [
       "user_id     int64\n",
       "name       object\n",
       "city       object\n",
       "street     object\n",
       "dtype: object"
      ]
     },
     "execution_count": 435,
     "metadata": {},
     "output_type": "execute_result"
    }
   ],
   "source": [
    "raw_users.dtypes"
   ]
  },
  {
   "cell_type": "code",
   "execution_count": 436,
   "metadata": {},
   "outputs": [
    {
     "data": {
      "text/plain": [
       "product_id         int64\n",
       "product_name      object\n",
       "category_path     object\n",
       "price            float64\n",
       "dtype: object"
      ]
     },
     "execution_count": 436,
     "metadata": {},
     "output_type": "execute_result"
    }
   ],
   "source": [
    "raw_products.dtypes"
   ]
  },
  {
   "cell_type": "code",
   "execution_count": 437,
   "metadata": {},
   "outputs": [
    {
     "data": {
      "text/plain": [
       "purchase_id             int64\n",
       "purchase_timestamp     object\n",
       "delivery_timestamp     object\n",
       "delivery_company      float64\n",
       "dtype: object"
      ]
     },
     "execution_count": 437,
     "metadata": {},
     "output_type": "execute_result"
    }
   ],
   "source": [
    "raw_deliveries.dtypes"
   ]
  },
  {
   "cell_type": "code",
   "execution_count": 438,
   "metadata": {
    "scrolled": true
   },
   "outputs": [
    {
     "data": {
      "text/plain": [
       "session_id                   int64\n",
       "timestamp           datetime64[ns]\n",
       "user_id                    float64\n",
       "product_id                 float64\n",
       "event_type                  object\n",
       "offered_discount             int64\n",
       "purchase_id                float64\n",
       "dtype: object"
      ]
     },
     "execution_count": 438,
     "metadata": {},
     "output_type": "execute_result"
    }
   ],
   "source": [
    "raw_sessions.dtypes"
   ]
  },
  {
   "cell_type": "markdown",
   "metadata": {},
   "source": [
    "### Clean user data"
   ]
  },
  {
   "cell_type": "code",
   "execution_count": 439,
   "metadata": {
    "scrolled": false
   },
   "outputs": [
    {
     "data": {
      "text/html": [
       "<div>\n",
       "<style scoped>\n",
       "    .dataframe tbody tr th:only-of-type {\n",
       "        vertical-align: middle;\n",
       "    }\n",
       "\n",
       "    .dataframe tbody tr th {\n",
       "        vertical-align: top;\n",
       "    }\n",
       "\n",
       "    .dataframe thead th {\n",
       "        text-align: right;\n",
       "    }\n",
       "</style>\n",
       "<table border=\"1\" class=\"dataframe\">\n",
       "  <thead>\n",
       "    <tr style=\"text-align: right;\">\n",
       "      <th></th>\n",
       "      <th>user_id</th>\n",
       "      <th>city</th>\n",
       "      <th>street</th>\n",
       "      <th>name_1</th>\n",
       "      <th>name_2</th>\n",
       "      <th>surname</th>\n",
       "      <th>female</th>\n",
       "    </tr>\n",
       "  </thead>\n",
       "  <tbody>\n",
       "    <tr>\n",
       "      <th>0</th>\n",
       "      <td>102.0</td>\n",
       "      <td>Warszawa</td>\n",
       "      <td>plac Krakowska 69</td>\n",
       "      <td>Juliusz</td>\n",
       "      <td>NaN</td>\n",
       "      <td>Męcik</td>\n",
       "      <td>False</td>\n",
       "    </tr>\n",
       "    <tr>\n",
       "      <th>1</th>\n",
       "      <td>103.0</td>\n",
       "      <td>Radom</td>\n",
       "      <td>ul. Bursztynowa 56/10</td>\n",
       "      <td>Eliza</td>\n",
       "      <td>NaN</td>\n",
       "      <td>Miętka</td>\n",
       "      <td>True</td>\n",
       "    </tr>\n",
       "    <tr>\n",
       "      <th>2</th>\n",
       "      <td>104.0</td>\n",
       "      <td>Warszawa</td>\n",
       "      <td>plac Wiślana 99</td>\n",
       "      <td>Kacper</td>\n",
       "      <td>NaN</td>\n",
       "      <td>Kolarz</td>\n",
       "      <td>False</td>\n",
       "    </tr>\n",
       "    <tr>\n",
       "      <th>3</th>\n",
       "      <td>105.0</td>\n",
       "      <td>Gdynia</td>\n",
       "      <td>ulica Zwycięstwa 76/98</td>\n",
       "      <td>Tobiasz</td>\n",
       "      <td>NaN</td>\n",
       "      <td>Radko</td>\n",
       "      <td>False</td>\n",
       "    </tr>\n",
       "    <tr>\n",
       "      <th>4</th>\n",
       "      <td>106.0</td>\n",
       "      <td>Kutno</td>\n",
       "      <td>plac Głogowa 53/95</td>\n",
       "      <td>Roksana</td>\n",
       "      <td>NaN</td>\n",
       "      <td>Merchel</td>\n",
       "      <td>True</td>\n",
       "    </tr>\n",
       "  </tbody>\n",
       "</table>\n",
       "</div>"
      ],
      "text/plain": [
       "   user_id      city                  street   name_1 name_2  surname  female\n",
       "0    102.0  Warszawa       plac Krakowska 69  Juliusz    NaN    Męcik   False\n",
       "1    103.0     Radom   ul. Bursztynowa 56/10    Eliza    NaN   Miętka    True\n",
       "2    104.0  Warszawa         plac Wiślana 99   Kacper    NaN   Kolarz   False\n",
       "3    105.0    Gdynia  ulica Zwycięstwa 76/98  Tobiasz    NaN    Radko   False\n",
       "4    106.0     Kutno      plac Głogowa 53/95  Roksana    NaN  Merchel    True"
      ]
     },
     "execution_count": 439,
     "metadata": {},
     "output_type": "execute_result"
    }
   ],
   "source": [
    "users = raw_users.astype({\n",
    "    'user_id': 'float64'\n",
    "})\n",
    "users.set_index('user_id')\n",
    "identities = users.name.apply(lambda n: n.strip().split(' ')).apply(pd.Series)\n",
    "columns = ['name_1', 'name_2', 'surname']\n",
    "two_named = identities[identities[2].isnull()][[0,2,1]]\n",
    "two_named.columns = columns\n",
    "identities.columns = columns\n",
    "identities = pd.concat([identities[~identities.surname.isnull()], two_named]).sort_index()\n",
    "users = pd.concat([users, identities], axis=1).drop('name', axis=1)\n",
    "users['female'] = users.name_1.apply(lambda n: n.endswith('a'))\n",
    "users.head()"
   ]
  },
  {
   "cell_type": "markdown",
   "metadata": {},
   "source": [
    "### Clean product data"
   ]
  },
  {
   "cell_type": "code",
   "execution_count": 440,
   "metadata": {},
   "outputs": [
    {
     "data": {
      "text/html": [
       "<div>\n",
       "<style scoped>\n",
       "    .dataframe tbody tr th:only-of-type {\n",
       "        vertical-align: middle;\n",
       "    }\n",
       "\n",
       "    .dataframe tbody tr th {\n",
       "        vertical-align: top;\n",
       "    }\n",
       "\n",
       "    .dataframe thead th {\n",
       "        text-align: right;\n",
       "    }\n",
       "</style>\n",
       "<table border=\"1\" class=\"dataframe\">\n",
       "  <thead>\n",
       "    <tr style=\"text-align: right;\">\n",
       "      <th></th>\n",
       "      <th>product_id</th>\n",
       "      <th>product_name</th>\n",
       "      <th>category_path</th>\n",
       "      <th>price</th>\n",
       "      <th>cat_0</th>\n",
       "      <th>cat_1</th>\n",
       "      <th>cat_2</th>\n",
       "      <th>cat_3</th>\n",
       "      <th>main_category</th>\n",
       "    </tr>\n",
       "  </thead>\n",
       "  <tbody>\n",
       "    <tr>\n",
       "      <th>0</th>\n",
       "      <td>1001.0</td>\n",
       "      <td>Telefon Siemens Gigaset DA310</td>\n",
       "      <td>Telefony i akcesoria;Telefony stacjonarne</td>\n",
       "      <td>58.97</td>\n",
       "      <td>Telefony i akcesoria</td>\n",
       "      <td>Telefony stacjonarne</td>\n",
       "      <td>NaN</td>\n",
       "      <td>NaN</td>\n",
       "      <td>Telefony i akcesoria</td>\n",
       "    </tr>\n",
       "    <tr>\n",
       "      <th>1</th>\n",
       "      <td>1002.0</td>\n",
       "      <td>Kyocera FS-1135MFP</td>\n",
       "      <td>Komputery;Drukarki i skanery;Biurowe urządzeni...</td>\n",
       "      <td>2048.50</td>\n",
       "      <td>Komputery</td>\n",
       "      <td>Drukarki i skanery</td>\n",
       "      <td>Biurowe urządzenia wielofunkcyjne</td>\n",
       "      <td>NaN</td>\n",
       "      <td>Komputery</td>\n",
       "    </tr>\n",
       "    <tr>\n",
       "      <th>2</th>\n",
       "      <td>1003.0</td>\n",
       "      <td>Kyocera FS-3640MFP</td>\n",
       "      <td>Komputery;Drukarki i skanery;Biurowe urządzeni...</td>\n",
       "      <td>7639.00</td>\n",
       "      <td>Komputery</td>\n",
       "      <td>Drukarki i skanery</td>\n",
       "      <td>Biurowe urządzenia wielofunkcyjne</td>\n",
       "      <td>NaN</td>\n",
       "      <td>Komputery</td>\n",
       "    </tr>\n",
       "    <tr>\n",
       "      <th>3</th>\n",
       "      <td>1004.0</td>\n",
       "      <td>Fallout 3 (Xbox 360)</td>\n",
       "      <td>Gry i konsole;Gry na konsole;Gry Xbox 360</td>\n",
       "      <td>49.99</td>\n",
       "      <td>Gry i konsole</td>\n",
       "      <td>Gry na konsole</td>\n",
       "      <td>Gry Xbox 360</td>\n",
       "      <td>NaN</td>\n",
       "      <td>Gry i konsole</td>\n",
       "    </tr>\n",
       "    <tr>\n",
       "      <th>4</th>\n",
       "      <td>1005.0</td>\n",
       "      <td>Szalone Króliki Na żywo i w kolorze (Xbox 360)</td>\n",
       "      <td>Gry i konsole;Gry na konsole;Gry Xbox 360</td>\n",
       "      <td>49.99</td>\n",
       "      <td>Gry i konsole</td>\n",
       "      <td>Gry na konsole</td>\n",
       "      <td>Gry Xbox 360</td>\n",
       "      <td>NaN</td>\n",
       "      <td>Gry i konsole</td>\n",
       "    </tr>\n",
       "  </tbody>\n",
       "</table>\n",
       "</div>"
      ],
      "text/plain": [
       "   product_id                                    product_name  \\\n",
       "0      1001.0                   Telefon Siemens Gigaset DA310   \n",
       "1      1002.0                              Kyocera FS-1135MFP   \n",
       "2      1003.0                              Kyocera FS-3640MFP   \n",
       "3      1004.0                            Fallout 3 (Xbox 360)   \n",
       "4      1005.0  Szalone Króliki Na żywo i w kolorze (Xbox 360)   \n",
       "\n",
       "                                       category_path    price  \\\n",
       "0          Telefony i akcesoria;Telefony stacjonarne    58.97   \n",
       "1  Komputery;Drukarki i skanery;Biurowe urządzeni...  2048.50   \n",
       "2  Komputery;Drukarki i skanery;Biurowe urządzeni...  7639.00   \n",
       "3          Gry i konsole;Gry na konsole;Gry Xbox 360    49.99   \n",
       "4          Gry i konsole;Gry na konsole;Gry Xbox 360    49.99   \n",
       "\n",
       "                  cat_0                 cat_1  \\\n",
       "0  Telefony i akcesoria  Telefony stacjonarne   \n",
       "1             Komputery    Drukarki i skanery   \n",
       "2             Komputery    Drukarki i skanery   \n",
       "3         Gry i konsole        Gry na konsole   \n",
       "4         Gry i konsole        Gry na konsole   \n",
       "\n",
       "                               cat_2 cat_3         main_category  \n",
       "0                                NaN   NaN  Telefony i akcesoria  \n",
       "1  Biurowe urządzenia wielofunkcyjne   NaN             Komputery  \n",
       "2  Biurowe urządzenia wielofunkcyjne   NaN             Komputery  \n",
       "3                       Gry Xbox 360   NaN         Gry i konsole  \n",
       "4                       Gry Xbox 360   NaN         Gry i konsole  "
      ]
     },
     "execution_count": 440,
     "metadata": {},
     "output_type": "execute_result"
    }
   ],
   "source": [
    "products = raw_products.astype({\n",
    "    'product_id': 'float64', \n",
    "    'category_path': 'unicode',\n",
    "})\n",
    "products.set_index('product_id')\n",
    "categories = products.category_path.apply(lambda s: s.split(';')).apply(pd.Series)\n",
    "categories = categories.rename(columns = lambda x : 'cat_' + str(x))\n",
    "products = pd.concat([products, categories], axis=1)\n",
    "products['main_category'] = products.cat_0\n",
    "products.head()"
   ]
  },
  {
   "cell_type": "code",
   "execution_count": 441,
   "metadata": {},
   "outputs": [
    {
     "data": {
      "text/plain": [
       "<matplotlib.axes._subplots.AxesSubplot at 0x1c5afe30>"
      ]
     },
     "execution_count": 441,
     "metadata": {},
     "output_type": "execute_result"
    },
    {
     "data": {
      "image/png": "[encoded data removed]",
      "text/plain": [
       "<Figure size 432x288 with 1 Axes>"
      ]
     },
     "metadata": {
      "needs_background": "light"
     },
     "output_type": "display_data"
    },
    {
     "data": {
      "image/png": "[encoded data removed]",
      "text/plain": [
       "<Figure size 432x288 with 1 Axes>"
      ]
     },
     "metadata": {
      "needs_background": "light"
     },
     "output_type": "display_data"
    }
   ],
   "source": [
    "# analyse invalid products\n",
    "invalid_prices_filter = (products['price']>0) & (products['price']<100000)\n",
    "\n",
    "pd.concat([\n",
    "    products['main_category'].value_counts().rename('Products'), \n",
    "    products[~invalid_prices_filter]['main_category'].value_counts().rename('Invalid products')\n",
    "          ], axis=1).fillna(value=0).sort_values(by='Products', ascending=False).plot(kind='bar', \n",
    "        title='Invalid products by main category')\n",
    "\n",
    "cp_df = pd.concat([\n",
    "    products['category_path'].value_counts().rename('Products'), \n",
    "    products[~invalid_prices_filter]['category_path'].value_counts().rename('Invalid products')\n",
    "          ], axis=1).fillna(value=0).sort_values(by='Products', ascending=False)\n",
    "cp_df[cp_df['Invalid products']>0].plot(kind='bar', title='Invalid products by category path')"
   ]
  },
  {
   "cell_type": "code",
   "execution_count": 442,
   "metadata": {},
   "outputs": [
    {
     "data": {
      "text/html": [
       "<div>\n",
       "<style scoped>\n",
       "    .dataframe tbody tr th:only-of-type {\n",
       "        vertical-align: middle;\n",
       "    }\n",
       "\n",
       "    .dataframe tbody tr th {\n",
       "        vertical-align: top;\n",
       "    }\n",
       "\n",
       "    .dataframe thead th {\n",
       "        text-align: right;\n",
       "    }\n",
       "</style>\n",
       "<table border=\"1\" class=\"dataframe\">\n",
       "  <thead>\n",
       "    <tr style=\"text-align: right;\">\n",
       "      <th></th>\n",
       "      <th>Products</th>\n",
       "      <th>Invalid products</th>\n",
       "      <th>invalid_percent</th>\n",
       "    </tr>\n",
       "  </thead>\n",
       "  <tbody>\n",
       "    <tr>\n",
       "      <th>Gry i konsole;Gry komputerowe</th>\n",
       "      <td>202</td>\n",
       "      <td>24.0</td>\n",
       "      <td>11.9</td>\n",
       "    </tr>\n",
       "    <tr>\n",
       "      <th>Gry i konsole;Gry na konsole;Gry Xbox 360</th>\n",
       "      <td>32</td>\n",
       "      <td>2.0</td>\n",
       "      <td>6.2</td>\n",
       "    </tr>\n",
       "    <tr>\n",
       "      <th>Telefony i akcesoria;Akcesoria telefoniczne;Zestawy słuchawkowe</th>\n",
       "      <td>4</td>\n",
       "      <td>2.0</td>\n",
       "      <td>50.0</td>\n",
       "    </tr>\n",
       "    <tr>\n",
       "      <th>Komputery;Monitory;Monitory LCD</th>\n",
       "      <td>17</td>\n",
       "      <td>1.0</td>\n",
       "      <td>5.9</td>\n",
       "    </tr>\n",
       "    <tr>\n",
       "      <th>Komputery;Drukarki i skanery;Biurowe urządzenia wielofunkcyjne</th>\n",
       "      <td>9</td>\n",
       "      <td>1.0</td>\n",
       "      <td>11.1</td>\n",
       "    </tr>\n",
       "  </tbody>\n",
       "</table>\n",
       "</div>"
      ],
      "text/plain": [
       "                                                    Products  \\\n",
       "Gry i konsole;Gry komputerowe                            202   \n",
       "Gry i konsole;Gry na konsole;Gry Xbox 360                 32   \n",
       "Telefony i akcesoria;Akcesoria telefoniczne;Zes...         4   \n",
       "Komputery;Monitory;Monitory LCD                           17   \n",
       "Komputery;Drukarki i skanery;Biurowe urządzenia...         9   \n",
       "\n",
       "                                                    Invalid products  \\\n",
       "Gry i konsole;Gry komputerowe                                   24.0   \n",
       "Gry i konsole;Gry na konsole;Gry Xbox 360                        2.0   \n",
       "Telefony i akcesoria;Akcesoria telefoniczne;Zes...               2.0   \n",
       "Komputery;Monitory;Monitory LCD                                  1.0   \n",
       "Komputery;Drukarki i skanery;Biurowe urządzenia...               1.0   \n",
       "\n",
       "                                                    invalid_percent  \n",
       "Gry i konsole;Gry komputerowe                                  11.9  \n",
       "Gry i konsole;Gry na konsole;Gry Xbox 360                       6.2  \n",
       "Telefony i akcesoria;Akcesoria telefoniczne;Zes...             50.0  \n",
       "Komputery;Monitory;Monitory LCD                                 5.9  \n",
       "Komputery;Drukarki i skanery;Biurowe urządzenia...             11.1  "
      ]
     },
     "execution_count": 442,
     "metadata": {},
     "output_type": "execute_result"
    }
   ],
   "source": [
    "cat_df = pd.concat([\n",
    "    products['category_path'].value_counts().rename('Products'), \n",
    "    products[~invalid_prices_filter]['category_path'].value_counts().rename('Invalid products')\n",
    "          ], axis=1).fillna(value=0)\n",
    "cat_df['invalid_percent'] = cat_df.apply(lambda r: round(100*r['Invalid products']/r['Products'],1), axis=1)\n",
    "cat_df[cat_df['invalid_percent'] > 0].sort_values(by='Invalid products', ascending=False)\n"
   ]
  },
  {
   "cell_type": "code",
   "execution_count": 443,
   "metadata": {},
   "outputs": [
    {
     "name": "stdout",
     "output_type": "stream",
     "text": [
      "Detected 9.4% invalid rows (before 289, after 319).\n"
     ]
    }
   ],
   "source": [
    "# Filter invalid prices: out of range (0.01, 100 000)\n",
    "products['is_price_invalid'] = ~invalid_prices_filter\n",
    "\n",
    "print('Detected {:.1f}% invalid rows (before {}, after {}).'.format(\n",
    "    100-100*len(products[invalid_prices_filter])/len(raw_products), \n",
    "    len(products[invalid_prices_filter]), len(raw_products)))"
   ]
  },
  {
   "cell_type": "code",
   "execution_count": 444,
   "metadata": {},
   "outputs": [
    {
     "data": {
      "text/html": [
       "<div>\n",
       "<style scoped>\n",
       "    .dataframe tbody tr th:only-of-type {\n",
       "        vertical-align: middle;\n",
       "    }\n",
       "\n",
       "    .dataframe tbody tr th {\n",
       "        vertical-align: top;\n",
       "    }\n",
       "\n",
       "    .dataframe thead th {\n",
       "        text-align: right;\n",
       "    }\n",
       "</style>\n",
       "<table border=\"1\" class=\"dataframe\">\n",
       "  <thead>\n",
       "    <tr style=\"text-align: right;\">\n",
       "      <th></th>\n",
       "      <th>product_id</th>\n",
       "      <th>product_name</th>\n",
       "      <th>category_path</th>\n",
       "      <th>price</th>\n",
       "      <th>cat_0</th>\n",
       "      <th>cat_1</th>\n",
       "      <th>cat_2</th>\n",
       "      <th>cat_3</th>\n",
       "      <th>main_category</th>\n",
       "      <th>is_price_invalid</th>\n",
       "    </tr>\n",
       "  </thead>\n",
       "  <tbody>\n",
       "    <tr>\n",
       "      <th>0</th>\n",
       "      <td>1001.0</td>\n",
       "      <td>Telefon Siemens Gigaset DA310</td>\n",
       "      <td>Telefony i akcesoria;Telefony stacjonarne</td>\n",
       "      <td>58.97</td>\n",
       "      <td>Telefony i akcesoria</td>\n",
       "      <td>Telefony stacjonarne</td>\n",
       "      <td>NaN</td>\n",
       "      <td>NaN</td>\n",
       "      <td>Telefony i akcesoria</td>\n",
       "      <td>False</td>\n",
       "    </tr>\n",
       "    <tr>\n",
       "      <th>1</th>\n",
       "      <td>1002.0</td>\n",
       "      <td>Kyocera FS-1135MFP</td>\n",
       "      <td>Komputery;Drukarki i skanery;Biurowe urządzeni...</td>\n",
       "      <td>2048.50</td>\n",
       "      <td>Komputery</td>\n",
       "      <td>Drukarki i skanery</td>\n",
       "      <td>Biurowe urządzenia wielofunkcyjne</td>\n",
       "      <td>NaN</td>\n",
       "      <td>Komputery</td>\n",
       "      <td>False</td>\n",
       "    </tr>\n",
       "    <tr>\n",
       "      <th>2</th>\n",
       "      <td>1003.0</td>\n",
       "      <td>Kyocera FS-3640MFP</td>\n",
       "      <td>Komputery;Drukarki i skanery;Biurowe urządzeni...</td>\n",
       "      <td>7639.00</td>\n",
       "      <td>Komputery</td>\n",
       "      <td>Drukarki i skanery</td>\n",
       "      <td>Biurowe urządzenia wielofunkcyjne</td>\n",
       "      <td>NaN</td>\n",
       "      <td>Komputery</td>\n",
       "      <td>False</td>\n",
       "    </tr>\n",
       "    <tr>\n",
       "      <th>3</th>\n",
       "      <td>1004.0</td>\n",
       "      <td>Fallout 3 (Xbox 360)</td>\n",
       "      <td>Gry i konsole;Gry na konsole;Gry Xbox 360</td>\n",
       "      <td>49.99</td>\n",
       "      <td>Gry i konsole</td>\n",
       "      <td>Gry na konsole</td>\n",
       "      <td>Gry Xbox 360</td>\n",
       "      <td>NaN</td>\n",
       "      <td>Gry i konsole</td>\n",
       "      <td>False</td>\n",
       "    </tr>\n",
       "    <tr>\n",
       "      <th>4</th>\n",
       "      <td>1005.0</td>\n",
       "      <td>Szalone Króliki Na żywo i w kolorze (Xbox 360)</td>\n",
       "      <td>Gry i konsole;Gry na konsole;Gry Xbox 360</td>\n",
       "      <td>49.99</td>\n",
       "      <td>Gry i konsole</td>\n",
       "      <td>Gry na konsole</td>\n",
       "      <td>Gry Xbox 360</td>\n",
       "      <td>NaN</td>\n",
       "      <td>Gry i konsole</td>\n",
       "      <td>False</td>\n",
       "    </tr>\n",
       "  </tbody>\n",
       "</table>\n",
       "</div>"
      ],
      "text/plain": [
       "   product_id                                    product_name  \\\n",
       "0      1001.0                   Telefon Siemens Gigaset DA310   \n",
       "1      1002.0                              Kyocera FS-1135MFP   \n",
       "2      1003.0                              Kyocera FS-3640MFP   \n",
       "3      1004.0                            Fallout 3 (Xbox 360)   \n",
       "4      1005.0  Szalone Króliki Na żywo i w kolorze (Xbox 360)   \n",
       "\n",
       "                                       category_path    price  \\\n",
       "0          Telefony i akcesoria;Telefony stacjonarne    58.97   \n",
       "1  Komputery;Drukarki i skanery;Biurowe urządzeni...  2048.50   \n",
       "2  Komputery;Drukarki i skanery;Biurowe urządzeni...  7639.00   \n",
       "3          Gry i konsole;Gry na konsole;Gry Xbox 360    49.99   \n",
       "4          Gry i konsole;Gry na konsole;Gry Xbox 360    49.99   \n",
       "\n",
       "                  cat_0                 cat_1  \\\n",
       "0  Telefony i akcesoria  Telefony stacjonarne   \n",
       "1             Komputery    Drukarki i skanery   \n",
       "2             Komputery    Drukarki i skanery   \n",
       "3         Gry i konsole        Gry na konsole   \n",
       "4         Gry i konsole        Gry na konsole   \n",
       "\n",
       "                               cat_2 cat_3         main_category  \\\n",
       "0                                NaN   NaN  Telefony i akcesoria   \n",
       "1  Biurowe urządzenia wielofunkcyjne   NaN             Komputery   \n",
       "2  Biurowe urządzenia wielofunkcyjne   NaN             Komputery   \n",
       "3                       Gry Xbox 360   NaN         Gry i konsole   \n",
       "4                       Gry Xbox 360   NaN         Gry i konsole   \n",
       "\n",
       "   is_price_invalid  \n",
       "0             False  \n",
       "1             False  \n",
       "2             False  \n",
       "3             False  \n",
       "4             False  "
      ]
     },
     "execution_count": 444,
     "metadata": {},
     "output_type": "execute_result"
    }
   ],
   "source": [
    "products.head()"
   ]
  },
  {
   "cell_type": "markdown",
   "metadata": {},
   "source": [
    "### Clean session data"
   ]
  },
  {
   "cell_type": "code",
   "execution_count": 445,
   "metadata": {},
   "outputs": [
    {
     "data": {
      "text/plain": [
       "session_id                 float64\n",
       "timestamp           datetime64[ns]\n",
       "user_id                    float64\n",
       "product_id                 float64\n",
       "event_type                  object\n",
       "offered_discount             int64\n",
       "purchase_id                float64\n",
       "made_purchase                 bool\n",
       "dtype: object"
      ]
     },
     "execution_count": 445,
     "metadata": {},
     "output_type": "execute_result"
    }
   ],
   "source": [
    "sessions = raw_sessions.astype({\n",
    "    'session_id': 'float64'\n",
    "})\n",
    "sessions['made_purchase'] = sessions.purchase_id.map(lambda x: False if pd.isnull(x) else True)\n",
    "\n",
    "sessions.dtypes"
   ]
  },
  {
   "cell_type": "code",
   "execution_count": 446,
   "metadata": {},
   "outputs": [],
   "source": [
    "valid_session_cond = sessions['product_id'].isin(products['product_id'].unique()) & sessions['user_id'].isin(users['user_id'].unique())"
   ]
  },
  {
   "cell_type": "markdown",
   "metadata": {},
   "source": [
    "#### Invalid sessions OVER CONVERSIONS"
   ]
  },
  {
   "cell_type": "code",
   "execution_count": 447,
   "metadata": {},
   "outputs": [
    {
     "data": {
      "text/plain": [
       "known_product  made_purchase\n",
       "False          False             1570\n",
       "               True               191\n",
       "True           False            29670\n",
       "               True              3342\n",
       "Name: session_id, dtype: int64"
      ]
     },
     "execution_count": 447,
     "metadata": {},
     "output_type": "execute_result"
    }
   ],
   "source": [
    "sessions['known_product'] = sessions['product_id'].isin(products['product_id'].unique())\n",
    "\n",
    "sessions.groupby(['known_product', 'made_purchase']).session_id.count()"
   ]
  },
  {
   "cell_type": "markdown",
   "metadata": {},
   "source": [
    "#### Invalid sessions NO USER ID"
   ]
  },
  {
   "cell_type": "code",
   "execution_count": 448,
   "metadata": {},
   "outputs": [
    {
     "data": {
      "text/plain": [
       "is_user_invalid  made_purchase\n",
       "False            False            29711\n",
       "                 True              3366\n",
       "True             False             1529\n",
       "                 True               167\n",
       "Name: session_id, dtype: int64"
      ]
     },
     "execution_count": 448,
     "metadata": {},
     "output_type": "execute_result"
    }
   ],
   "source": [
    "sessions['is_user_invalid'] = ~sessions.apply(lambda row: row['user_id'] in users['user_id'].unique(), axis=1)\n",
    "sessions.groupby(['is_user_invalid', 'made_purchase']).session_id.count()\n"
   ]
  },
  {
   "cell_type": "markdown",
   "metadata": {},
   "source": [
    "#### Invalid sessions OVER USERS"
   ]
  },
  {
   "cell_type": "code",
   "execution_count": 449,
   "metadata": {},
   "outputs": [
    {
     "data": {
      "text/plain": [
       "count    201.000000\n",
       "mean       5.642680\n",
       "std        7.441606\n",
       "min        0.000000\n",
       "25%        3.846154\n",
       "50%        4.907975\n",
       "75%        6.140351\n",
       "max      100.000000\n",
       "Name: invalid_percent_per_user, dtype: float64"
      ]
     },
     "execution_count": 449,
     "metadata": {},
     "output_type": "execute_result"
    },
    {
     "data": {
      "image/png": "[encoded data removed]",
      "text/plain": [
       "<Figure size 1080x360 with 1 Axes>"
      ]
     },
     "metadata": {
      "needs_background": "light"
     },
     "output_type": "display_data"
    }
   ],
   "source": [
    "plt = pd.concat([\n",
    "    sessions['user_id'].value_counts().rename('User sessions'), \n",
    "    sessions[~valid_session_cond]['user_id'].value_counts().rename('User invalid sessions')\n",
    "          ], axis=1).fillna(value=0).sort_values(by='User sessions', ascending=False)\\\n",
    "    .plot(kind='bar', title='Invalid sessions over users', figsize=(15,5), xticks=None).axis('off')\n",
    "\n",
    "\n",
    "df = pd.concat([\n",
    "    sessions['user_id'].value_counts(dropna=False).rename('User sessions'), \n",
    "    sessions[~valid_session_cond]['user_id'].value_counts(dropna=False).rename('User invalid sessions')\n",
    "          ], axis=1).fillna(value=0).sort_values(by='User sessions', ascending=False)\n",
    "df['invalid_percent_per_user'] = df.apply(lambda r: 100*r['User invalid sessions']/r['User sessions'], axis=1)\n",
    "df['invalid_percent_per_user'].describe()"
   ]
  },
  {
   "cell_type": "markdown",
   "metadata": {},
   "source": [
    "#### Invalid sessions OVER TIME"
   ]
  },
  {
   "cell_type": "code",
   "execution_count": 450,
   "metadata": {},
   "outputs": [
    {
     "data": {
      "text/plain": [
       "(-0.5, 88.5, 0.0, 574.35)"
      ]
     },
     "execution_count": 450,
     "metadata": {},
     "output_type": "execute_result"
    },
    {
     "data": {
      "image/png": "[encoded data removed]",
      "text/plain": [
       "<Figure size 432x288 with 1 Axes>"
      ]
     },
     "metadata": {
      "needs_background": "light"
     },
     "output_type": "display_data"
    }
   ],
   "source": [
    "sessions['timestamp_date'] = sessions['timestamp'].dt.date\n",
    "\n",
    "pd.concat([\n",
    "    sessions['timestamp_date'].value_counts().rename('Sessions'), \n",
    "    sessions[~valid_session_cond]['timestamp_date'].value_counts().rename('Invalid sessions')\n",
    "          ], axis=1).fillna(value=0).sort_values(by='Sessions', ascending=True)\\\n",
    "    .plot(kind='bar', title='Invalid sessions over timestamp.date').axis('off')\n"
   ]
  },
  {
   "cell_type": "markdown",
   "metadata": {},
   "source": [
    "#### Filtering sessions"
   ]
  },
  {
   "cell_type": "code",
   "execution_count": 451,
   "metadata": {},
   "outputs": [
    {
     "name": "stdout",
     "output_type": "stream",
     "text": [
      "Detected 9.7% invalid rows (before 34773, after 31395).\n"
     ]
    },
    {
     "data": {
      "text/html": [
       "<div>\n",
       "<style scoped>\n",
       "    .dataframe tbody tr th:only-of-type {\n",
       "        vertical-align: middle;\n",
       "    }\n",
       "\n",
       "    .dataframe tbody tr th {\n",
       "        vertical-align: top;\n",
       "    }\n",
       "\n",
       "    .dataframe thead th {\n",
       "        text-align: right;\n",
       "    }\n",
       "</style>\n",
       "<table border=\"1\" class=\"dataframe\">\n",
       "  <thead>\n",
       "    <tr style=\"text-align: right;\">\n",
       "      <th></th>\n",
       "      <th>session_id</th>\n",
       "      <th>timestamp</th>\n",
       "      <th>user_id</th>\n",
       "      <th>product_id</th>\n",
       "      <th>event_type</th>\n",
       "      <th>offered_discount</th>\n",
       "      <th>purchase_id</th>\n",
       "      <th>made_purchase</th>\n",
       "      <th>known_product</th>\n",
       "      <th>is_user_invalid</th>\n",
       "      <th>timestamp_date</th>\n",
       "    </tr>\n",
       "  </thead>\n",
       "  <tbody>\n",
       "    <tr>\n",
       "      <th>0</th>\n",
       "      <td>100001.0</td>\n",
       "      <td>2020-01-17 16:08:57</td>\n",
       "      <td>102.0</td>\n",
       "      <td>1001.0</td>\n",
       "      <td>VIEW_PRODUCT</td>\n",
       "      <td>0</td>\n",
       "      <td>NaN</td>\n",
       "      <td>False</td>\n",
       "      <td>True</td>\n",
       "      <td>False</td>\n",
       "      <td>2020-01-17</td>\n",
       "    </tr>\n",
       "    <tr>\n",
       "      <th>1</th>\n",
       "      <td>100002.0</td>\n",
       "      <td>2020-01-07 05:10:41</td>\n",
       "      <td>102.0</td>\n",
       "      <td>1277.0</td>\n",
       "      <td>VIEW_PRODUCT</td>\n",
       "      <td>20</td>\n",
       "      <td>NaN</td>\n",
       "      <td>False</td>\n",
       "      <td>True</td>\n",
       "      <td>False</td>\n",
       "      <td>2020-01-07</td>\n",
       "    </tr>\n",
       "    <tr>\n",
       "      <th>2</th>\n",
       "      <td>100002.0</td>\n",
       "      <td>2020-01-07 05:14:26</td>\n",
       "      <td>102.0</td>\n",
       "      <td>1276.0</td>\n",
       "      <td>VIEW_PRODUCT</td>\n",
       "      <td>20</td>\n",
       "      <td>NaN</td>\n",
       "      <td>False</td>\n",
       "      <td>True</td>\n",
       "      <td>False</td>\n",
       "      <td>2020-01-07</td>\n",
       "    </tr>\n",
       "    <tr>\n",
       "      <th>3</th>\n",
       "      <td>100003.0</td>\n",
       "      <td>2020-01-16 09:37:42</td>\n",
       "      <td>102.0</td>\n",
       "      <td>1276.0</td>\n",
       "      <td>VIEW_PRODUCT</td>\n",
       "      <td>0</td>\n",
       "      <td>NaN</td>\n",
       "      <td>False</td>\n",
       "      <td>True</td>\n",
       "      <td>False</td>\n",
       "      <td>2020-01-16</td>\n",
       "    </tr>\n",
       "    <tr>\n",
       "      <th>4</th>\n",
       "      <td>100003.0</td>\n",
       "      <td>2020-01-16 09:38:22</td>\n",
       "      <td>102.0</td>\n",
       "      <td>1277.0</td>\n",
       "      <td>VIEW_PRODUCT</td>\n",
       "      <td>0</td>\n",
       "      <td>NaN</td>\n",
       "      <td>False</td>\n",
       "      <td>True</td>\n",
       "      <td>False</td>\n",
       "      <td>2020-01-16</td>\n",
       "    </tr>\n",
       "  </tbody>\n",
       "</table>\n",
       "</div>"
      ],
      "text/plain": [
       "   session_id           timestamp  user_id  product_id    event_type  \\\n",
       "0    100001.0 2020-01-17 16:08:57    102.0      1001.0  VIEW_PRODUCT   \n",
       "1    100002.0 2020-01-07 05:10:41    102.0      1277.0  VIEW_PRODUCT   \n",
       "2    100002.0 2020-01-07 05:14:26    102.0      1276.0  VIEW_PRODUCT   \n",
       "3    100003.0 2020-01-16 09:37:42    102.0      1276.0  VIEW_PRODUCT   \n",
       "4    100003.0 2020-01-16 09:38:22    102.0      1277.0  VIEW_PRODUCT   \n",
       "\n",
       "   offered_discount  purchase_id  made_purchase  known_product  \\\n",
       "0                 0          NaN          False           True   \n",
       "1                20          NaN          False           True   \n",
       "2                20          NaN          False           True   \n",
       "3                 0          NaN          False           True   \n",
       "4                 0          NaN          False           True   \n",
       "\n",
       "   is_user_invalid timestamp_date  \n",
       "0            False     2020-01-17  \n",
       "1            False     2020-01-07  \n",
       "2            False     2020-01-07  \n",
       "3            False     2020-01-16  \n",
       "4            False     2020-01-16  "
      ]
     },
     "execution_count": 451,
     "metadata": {},
     "output_type": "execute_result"
    }
   ],
   "source": [
    "print('Detected {:.1f}% invalid rows (before {}, after {}).'.format(\n",
    "    100-100*len(sessions[valid_session_cond])/len(raw_sessions), len(raw_sessions), len(sessions[valid_session_cond])))\n",
    "\n",
    "\n",
    "sessions.head()"
   ]
  },
  {
   "cell_type": "markdown",
   "metadata": {},
   "source": [
    "### Clean delivery data"
   ]
  },
  {
   "cell_type": "code",
   "execution_count": 452,
   "metadata": {},
   "outputs": [
    {
     "data": {
      "text/plain": [
       "purchase_id                  float64\n",
       "purchase_timestamp    datetime64[ns]\n",
       "delivery_timestamp    datetime64[ns]\n",
       "delivery_company             float64\n",
       "dtype: object"
      ]
     },
     "execution_count": 452,
     "metadata": {},
     "output_type": "execute_result"
    }
   ],
   "source": [
    "deliveries = raw_deliveries.astype({\n",
    "    'purchase_id': 'float64', \n",
    "    'delivery_timestamp': 'datetime64',\n",
    "    'purchase_timestamp': 'datetime64'\n",
    "})\n",
    "deliveries.set_index('purchase_id')\n",
    "\n",
    "deliveries.dtypes"
   ]
  },
  {
   "cell_type": "code",
   "execution_count": 453,
   "metadata": {},
   "outputs": [
    {
     "data": {
      "text/plain": [
       "True     3183\n",
       "False     350\n",
       "Name: is_delivery_invalid, dtype: int64"
      ]
     },
     "execution_count": 453,
     "metadata": {},
     "output_type": "execute_result"
    }
   ],
   "source": [
    "invalid_delivery_cond = deliveries.purchase_id.isin(sessions[valid_session_cond]['purchase_id'])\n",
    "deliveries['is_delivery_invalid'] = invalid_delivery_cond\n",
    "\n",
    "deliveries['is_delivery_invalid'].value_counts()"
   ]
  },
  {
   "cell_type": "code",
   "execution_count": 454,
   "metadata": {},
   "outputs": [
    {
     "data": {
      "text/html": [
       "<div>\n",
       "<style scoped>\n",
       "    .dataframe tbody tr th:only-of-type {\n",
       "        vertical-align: middle;\n",
       "    }\n",
       "\n",
       "    .dataframe tbody tr th {\n",
       "        vertical-align: top;\n",
       "    }\n",
       "\n",
       "    .dataframe thead th {\n",
       "        text-align: right;\n",
       "    }\n",
       "</style>\n",
       "<table border=\"1\" class=\"dataframe\">\n",
       "  <thead>\n",
       "    <tr style=\"text-align: right;\">\n",
       "      <th></th>\n",
       "      <th>purchase_id</th>\n",
       "      <th>purchase_timestamp</th>\n",
       "      <th>delivery_timestamp</th>\n",
       "      <th>delivery_company</th>\n",
       "      <th>is_delivery_invalid</th>\n",
       "      <th>delivery_time</th>\n",
       "    </tr>\n",
       "  </thead>\n",
       "  <tbody>\n",
       "    <tr>\n",
       "      <th>0</th>\n",
       "      <td>20001.0</td>\n",
       "      <td>2020-01-13 00:29:10</td>\n",
       "      <td>2020-01-17 00:31:53</td>\n",
       "      <td>516.0</td>\n",
       "      <td>True</td>\n",
       "      <td>4 days 00:02:43</td>\n",
       "    </tr>\n",
       "    <tr>\n",
       "      <th>1</th>\n",
       "      <td>20002.0</td>\n",
       "      <td>2020-02-04 19:09:12</td>\n",
       "      <td>2020-02-06 19:13:06</td>\n",
       "      <td>516.0</td>\n",
       "      <td>True</td>\n",
       "      <td>2 days 00:03:54</td>\n",
       "    </tr>\n",
       "    <tr>\n",
       "      <th>2</th>\n",
       "      <td>20003.0</td>\n",
       "      <td>2020-01-16 14:40:39</td>\n",
       "      <td>2020-01-18 14:41:27</td>\n",
       "      <td>620.0</td>\n",
       "      <td>True</td>\n",
       "      <td>2 days 00:00:48</td>\n",
       "    </tr>\n",
       "    <tr>\n",
       "      <th>3</th>\n",
       "      <td>20004.0</td>\n",
       "      <td>2020-02-05 08:08:59</td>\n",
       "      <td>NaT</td>\n",
       "      <td>360.0</td>\n",
       "      <td>True</td>\n",
       "      <td>NaT</td>\n",
       "    </tr>\n",
       "    <tr>\n",
       "      <th>4</th>\n",
       "      <td>20005.0</td>\n",
       "      <td>2020-02-18 09:27:06</td>\n",
       "      <td>2020-02-21 09:31:35</td>\n",
       "      <td>620.0</td>\n",
       "      <td>False</td>\n",
       "      <td>3 days 00:04:29</td>\n",
       "    </tr>\n",
       "  </tbody>\n",
       "</table>\n",
       "</div>"
      ],
      "text/plain": [
       "   purchase_id  purchase_timestamp  delivery_timestamp  delivery_company  \\\n",
       "0      20001.0 2020-01-13 00:29:10 2020-01-17 00:31:53             516.0   \n",
       "1      20002.0 2020-02-04 19:09:12 2020-02-06 19:13:06             516.0   \n",
       "2      20003.0 2020-01-16 14:40:39 2020-01-18 14:41:27             620.0   \n",
       "3      20004.0 2020-02-05 08:08:59                 NaT             360.0   \n",
       "4      20005.0 2020-02-18 09:27:06 2020-02-21 09:31:35             620.0   \n",
       "\n",
       "   is_delivery_invalid   delivery_time  \n",
       "0                 True 4 days 00:02:43  \n",
       "1                 True 2 days 00:03:54  \n",
       "2                 True 2 days 00:00:48  \n",
       "3                 True             NaT  \n",
       "4                False 3 days 00:04:29  "
      ]
     },
     "execution_count": 454,
     "metadata": {},
     "output_type": "execute_result"
    }
   ],
   "source": [
    "deliveries['delivery_time'] = deliveries.apply(lambda row: row['delivery_timestamp'] - row['purchase_timestamp'], axis=1)\n",
    "deliveries.head()"
   ]
  },
  {
   "cell_type": "code",
   "execution_count": 455,
   "metadata": {},
   "outputs": [
    {
     "name": "stdout",
     "output_type": "stream",
     "text": [
      "Detected 9.9% invalid rows (before 3533, after 3183).\n"
     ]
    }
   ],
   "source": [
    "\n",
    "print('Detected {:.1f}% invalid rows (before {}, after {}).'.format(\n",
    "    100-100*len(deliveries[invalid_delivery_cond])/len(raw_deliveries), len(raw_deliveries), len(deliveries[invalid_delivery_cond])))\n"
   ]
  },
  {
   "cell_type": "markdown",
   "metadata": {},
   "source": [
    "## Merge datasets"
   ]
  },
  {
   "cell_type": "code",
   "execution_count": 456,
   "metadata": {},
   "outputs": [
    {
     "data": {
      "text/plain": [
       "Index(['session_id', 'time', 'user_id', 'product_id', 'event', 'discount',\n",
       "       'purchase_id', 'made_purchase', 'known_product', 'is_user_invalid',\n",
       "       'product', 'price', 'cat_0', 'cat_1', 'cat_2', 'cat_3',\n",
       "       'is_price_invalid', 'city', 'street', 'name_1', 'name_2', 'surname',\n",
       "       'female', 'purchase_time', 'delivery_time', 'delivery_company',\n",
       "       'is_delivery_invalid', 'delivery_duration'],\n",
       "      dtype='object')"
      ]
     },
     "execution_count": 456,
     "metadata": {},
     "output_type": "execute_result"
    }
   ],
   "source": [
    "data = sessions.merge(products, how='left', on='product_id')\n",
    "data = data.merge(users, how='left', on='user_id')\n",
    "data = data.merge(deliveries, how='left', on='purchase_id')\n",
    "data = data.drop(['category_path', 'main_category', 'timestamp_date'], axis=1)\n",
    "\n",
    "data.columns = [\n",
    "    'session_id', 'time', 'user_id', 'product_id', 'event',\n",
    "    'discount', 'purchase_id', 'made_purchase', 'known_product',\n",
    "    'is_user_invalid', 'product', 'price', 'cat_0', 'cat_1', 'cat_2',\n",
    "    'cat_3', 'is_price_invalid', 'city', 'street', 'name_1', 'name_2',\n",
    "    'surname', 'female', 'purchase_time', 'delivery_time',\n",
    "    'delivery_company', 'is_delivery_invalid', 'delivery_duration'\n",
    "]\n",
    "data.head()\n",
    "\n",
    "data.columns"
   ]
  },
  {
   "cell_type": "markdown",
   "metadata": {},
   "source": [
    "## Add event duration"
   ]
  },
  {
   "cell_type": "code",
   "execution_count": 457,
   "metadata": {},
   "outputs": [],
   "source": [
    "def event_dur(row, times):\n",
    "    next_event = min([t for t in times[row.session_id] if t > row.time], default=None)\n",
    "    return min([(next_event - row.time).round('5s'), pd.Timedelta('10m')]) if next_event is not None else None\n",
    "\n",
    "times = data.groupby('session_id').time.apply(list)\n",
    "data['duration'] = data.apply(lambda row: event_dur(row, times), axis=1)\n",
    "data['syntetic_duration'] = data.duration.isna()\n",
    "mean = data.duration.mean()\n",
    "data['duration'] = data.duration.fillna(value=mean)"
   ]
  },
  {
   "cell_type": "markdown",
   "metadata": {},
   "source": [
    "## Add aggregated time spent on product"
   ]
  },
  {
   "cell_type": "code",
   "execution_count": 458,
   "metadata": {},
   "outputs": [],
   "source": [
    "def time_spent_on_product(row, times):\n",
    "    all_events = times['duration'][row.product_id][row.user_id]\n",
    "    return all_events[all_events.index < row.time].sum()\n",
    "\n",
    "zero_time = pd.Timedelta('0s')\n",
    "times = data.set_index(['product_id', 'user_id', 'time'])\n",
    "data['agg_time_spent'] = data.apply(lambda row: time_spent_on_product(row, times), axis=1).fillna(value=zero_time)"
   ]
  },
  {
   "cell_type": "markdown",
   "metadata": {},
   "source": [
    "## Add weekday"
   ]
  },
  {
   "cell_type": "code",
   "execution_count": 459,
   "metadata": {},
   "outputs": [],
   "source": [
    "data['weekday'] = data.time.apply(lambda t: t.weekday())"
   ]
  },
  {
   "cell_type": "markdown",
   "metadata": {},
   "source": [
    "## Add hour"
   ]
  },
  {
   "cell_type": "code",
   "execution_count": 460,
   "metadata": {},
   "outputs": [],
   "source": [
    "data['hour'] = data.time.apply(lambda t: t.hour)"
   ]
  },
  {
   "cell_type": "markdown",
   "metadata": {},
   "source": [
    "## Add weekday sin and cos features"
   ]
  },
  {
   "cell_type": "code",
   "execution_count": 461,
   "metadata": {},
   "outputs": [],
   "source": [
    "data['weekday_sin'] = np.sin(2*np.pi*data.weekday/7)\n",
    "data['weekday_cos'] = np.cos(2*np.pi*data.weekday/7)"
   ]
  },
  {
   "cell_type": "markdown",
   "metadata": {},
   "source": [
    "## Add hour sin and cos features"
   ]
  },
  {
   "cell_type": "code",
   "execution_count": 462,
   "metadata": {},
   "outputs": [],
   "source": [
    "data['hour_sin'] = np.sin(2*np.pi*data.hour/24)\n",
    "data['hour_cos'] = np.cos(2*np.pi*data.hour/24)"
   ]
  },
  {
   "cell_type": "markdown",
   "metadata": {},
   "source": [
    "## Add session outcome"
   ]
  },
  {
   "cell_type": "code",
   "execution_count": 463,
   "metadata": {},
   "outputs": [],
   "source": [
    "grouped = data.groupby('session_id').made_purchase.any()\n",
    "data['ends_with_purchase'] = data.session_id.apply(lambda id: grouped[id])"
   ]
  },
  {
   "cell_type": "markdown",
   "metadata": {},
   "source": [
    "# Save merged"
   ]
  },
  {
   "cell_type": "code",
   "execution_count": 477,
   "metadata": {},
   "outputs": [],
   "source": [
    "data = data.astype({'female': 'bool', 'ends_with_purchase': 'bool'})\n",
    "\n",
    "string_cols = ['event', 'product', 'cat_0', 'cat_1', 'cat_2', \\\n",
    "               'cat_3', 'city', 'street', 'name_1', 'name_2', 'surname']\n",
    "\n",
    "for col in string_cols:\n",
    "    data[col] = data[col].astype(str).str.lower()\n",
    "    \n",
    "data['is_user_invalid'].fillna(False, inplace=True)\n",
    "data['is_delivery_invalid'].fillna(False, inplace=True)\n",
    "data['is_price_invalid'].fillna(False, inplace=True)"
   ]
  },
  {
   "cell_type": "markdown",
   "metadata": {},
   "source": [
    "## Save with missing data"
   ]
  },
  {
   "cell_type": "code",
   "execution_count": 465,
   "metadata": {},
   "outputs": [],
   "source": [
    "data.to_pickle('data/merged_with_missing.pickle')"
   ]
  },
  {
   "cell_type": "markdown",
   "metadata": {},
   "source": [
    "## Save only valid"
   ]
  },
  {
   "cell_type": "code",
   "execution_count": 483,
   "metadata": {},
   "outputs": [
    {
     "data": {
      "text/plain": [
       "False    32784\n",
       "True      1989\n",
       "Name: is_price_invalid, dtype: int64"
      ]
     },
     "execution_count": 483,
     "metadata": {},
     "output_type": "execute_result"
    }
   ],
   "source": [
    "data[['is_user_invalid', 'is_delivery_invalid']]\n",
    "data['is_price_invalid'].value_counts()"
   ]
  },
  {
   "cell_type": "code",
   "execution_count": 485,
   "metadata": {},
   "outputs": [],
   "source": [
    "valid_data = data[~data['is_user_invalid'] & ~data['is_delivery_invalid'] & ~data['is_price_invalid'] & data['known_product']]\n"
   ]
  },
  {
   "cell_type": "code",
   "execution_count": null,
   "metadata": {},
   "outputs": [],
   "source": [
    "valid_data = data.drop(['is_user_invalid', 'is_delivery_invalid','is_price_invalid',], axis=1)"
   ]
  },
  {
   "cell_type": "code",
   "execution_count": null,
   "metadata": {},
   "outputs": [],
   "source": [
    "valid_data.to_json('data/merged.jsonl', orient='records', lines=True)\n",
    "valid_data.to_pickle('data/merged.pickle')"
   ]
  }
 ],
 "metadata": {
  "kernelspec": {
   "display_name": "Python 3",
   "language": "python",
   "name": "python3"
  },
  "language_info": {
   "codemirror_mode": {
    "name": "ipython",
    "version": 3
   },
   "file_extension": ".py",
   "mimetype": "text/x-python",
   "name": "python",
   "nbconvert_exporter": "python",
   "pygments_lexer": "ipython3",
   "version": "3.7.3"
  }
 },
 "nbformat": 4,
 "nbformat_minor": 2
}
