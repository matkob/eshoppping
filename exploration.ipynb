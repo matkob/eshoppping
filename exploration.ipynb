{
 "cells": [
  {
   "cell_type": "code",
   "execution_count": 422,
   "metadata": {},
   "outputs": [],
   "source": [
    "import pandas as pd\n",
    "import numpy as np\n",
    "\n",
    "raw_users = pd.read_json('data/users.jsonl', lines=True)\n",
    "raw_products = pd.read_json('data/products.jsonl', lines=True)\n",
    "raw_sessions = pd.read_json('data/sessions.jsonl', lines=True)\n",
    "raw_deliveries = pd.read_json('data/deliveries.jsonl', lines=True)"
   ]
  },
  {
   "cell_type": "code",
   "execution_count": 423,
   "metadata": {},
   "outputs": [
    {
     "data": {
      "text/plain": [
       "user_id     int64\n",
       "name       object\n",
       "city       object\n",
       "street     object\n",
       "dtype: object"
      ]
     },
     "execution_count": 423,
     "metadata": {},
     "output_type": "execute_result"
    }
   ],
   "source": [
    "raw_users.dtypes"
   ]
  },
  {
   "cell_type": "code",
   "execution_count": 424,
   "metadata": {},
   "outputs": [
    {
     "data": {
      "text/plain": [
       "product_id         int64\n",
       "product_name      object\n",
       "category_path     object\n",
       "price            float64\n",
       "dtype: object"
      ]
     },
     "execution_count": 424,
     "metadata": {},
     "output_type": "execute_result"
    }
   ],
   "source": [
    "raw_products.dtypes"
   ]
  },
  {
   "cell_type": "code",
   "execution_count": 425,
   "metadata": {},
   "outputs": [
    {
     "data": {
      "text/plain": [
       "purchase_id             int64\n",
       "purchase_timestamp     object\n",
       "delivery_timestamp     object\n",
       "delivery_company      float64\n",
       "dtype: object"
      ]
     },
     "execution_count": 425,
     "metadata": {},
     "output_type": "execute_result"
    }
   ],
   "source": [
    "raw_deliveries.dtypes"
   ]
  },
  {
   "cell_type": "code",
   "execution_count": 426,
   "metadata": {
    "scrolled": true
   },
   "outputs": [
    {
     "data": {
      "text/plain": [
       "session_id                   int64\n",
       "timestamp           datetime64[ns]\n",
       "user_id                    float64\n",
       "product_id                 float64\n",
       "event_type                  object\n",
       "offered_discount             int64\n",
       "purchase_id                float64\n",
       "dtype: object"
      ]
     },
     "execution_count": 426,
     "metadata": {},
     "output_type": "execute_result"
    }
   ],
   "source": [
    "raw_sessions.dtypes"
   ]
  },
  {
   "cell_type": "markdown",
   "metadata": {},
   "source": [
    "### Clean user data"
   ]
  },
  {
   "cell_type": "code",
   "execution_count": 427,
   "metadata": {},
   "outputs": [
    {
     "data": {
      "text/plain": [
       "user_id    float64\n",
       "name        object\n",
       "city        object\n",
       "street      object\n",
       "dtype: object"
      ]
     },
     "execution_count": 427,
     "metadata": {},
     "output_type": "execute_result"
    }
   ],
   "source": [
    "users = raw_users.astype({\n",
    "    'user_id': 'float64'\n",
    "})\n",
    "users.set_index('user_id')\n",
    "users.dtypes"
   ]
  },
  {
   "cell_type": "code",
   "execution_count": 428,
   "metadata": {
    "scrolled": true
   },
   "outputs": [
    {
     "data": {
      "text/html": [
       "<div>\n",
       "<style scoped>\n",
       "    .dataframe tbody tr th:only-of-type {\n",
       "        vertical-align: middle;\n",
       "    }\n",
       "\n",
       "    .dataframe tbody tr th {\n",
       "        vertical-align: top;\n",
       "    }\n",
       "\n",
       "    .dataframe thead th {\n",
       "        text-align: right;\n",
       "    }\n",
       "</style>\n",
       "<table border=\"1\" class=\"dataframe\">\n",
       "  <thead>\n",
       "    <tr style=\"text-align: right;\">\n",
       "      <th></th>\n",
       "      <th>user_id</th>\n",
       "      <th>name</th>\n",
       "      <th>city</th>\n",
       "      <th>street</th>\n",
       "    </tr>\n",
       "  </thead>\n",
       "  <tbody>\n",
       "    <tr>\n",
       "      <th>0</th>\n",
       "      <td>102.0</td>\n",
       "      <td>Juliusz Męcik</td>\n",
       "      <td>Warszawa</td>\n",
       "      <td>plac Krakowska 69</td>\n",
       "    </tr>\n",
       "    <tr>\n",
       "      <th>1</th>\n",
       "      <td>103.0</td>\n",
       "      <td>Eliza Miętka</td>\n",
       "      <td>Radom</td>\n",
       "      <td>ul. Bursztynowa 56/10</td>\n",
       "    </tr>\n",
       "    <tr>\n",
       "      <th>2</th>\n",
       "      <td>104.0</td>\n",
       "      <td>Kacper Kolarz</td>\n",
       "      <td>Warszawa</td>\n",
       "      <td>plac Wiślana 99</td>\n",
       "    </tr>\n",
       "    <tr>\n",
       "      <th>3</th>\n",
       "      <td>105.0</td>\n",
       "      <td>Tobiasz Radko</td>\n",
       "      <td>Gdynia</td>\n",
       "      <td>ulica Zwycięstwa 76/98</td>\n",
       "    </tr>\n",
       "    <tr>\n",
       "      <th>4</th>\n",
       "      <td>106.0</td>\n",
       "      <td>Roksana Merchel</td>\n",
       "      <td>Kutno</td>\n",
       "      <td>plac Głogowa 53/95</td>\n",
       "    </tr>\n",
       "  </tbody>\n",
       "</table>\n",
       "</div>"
      ],
      "text/plain": [
       "   user_id             name      city                  street\n",
       "0    102.0    Juliusz Męcik  Warszawa       plac Krakowska 69\n",
       "1    103.0     Eliza Miętka     Radom   ul. Bursztynowa 56/10\n",
       "2    104.0    Kacper Kolarz  Warszawa         plac Wiślana 99\n",
       "3    105.0    Tobiasz Radko    Gdynia  ulica Zwycięstwa 76/98\n",
       "4    106.0  Roksana Merchel     Kutno      plac Głogowa 53/95"
      ]
     },
     "execution_count": 428,
     "metadata": {},
     "output_type": "execute_result"
    }
   ],
   "source": [
    "users.head()"
   ]
  },
  {
   "cell_type": "markdown",
   "metadata": {},
   "source": [
    "### Clean product data"
   ]
  },
  {
   "cell_type": "code",
   "execution_count": 429,
   "metadata": {},
   "outputs": [
    {
     "data": {
      "text/html": [
       "<div>\n",
       "<style scoped>\n",
       "    .dataframe tbody tr th:only-of-type {\n",
       "        vertical-align: middle;\n",
       "    }\n",
       "\n",
       "    .dataframe tbody tr th {\n",
       "        vertical-align: top;\n",
       "    }\n",
       "\n",
       "    .dataframe thead th {\n",
       "        text-align: right;\n",
       "    }\n",
       "</style>\n",
       "<table border=\"1\" class=\"dataframe\">\n",
       "  <thead>\n",
       "    <tr style=\"text-align: right;\">\n",
       "      <th></th>\n",
       "      <th>product_id</th>\n",
       "      <th>product_name</th>\n",
       "      <th>category_path</th>\n",
       "      <th>price</th>\n",
       "      <th>categories</th>\n",
       "      <th>main_category</th>\n",
       "    </tr>\n",
       "  </thead>\n",
       "  <tbody>\n",
       "    <tr>\n",
       "      <th>0</th>\n",
       "      <td>1001.0</td>\n",
       "      <td>Telefon Siemens Gigaset DA310</td>\n",
       "      <td>Telefony i akcesoria;Telefony stacjonarne</td>\n",
       "      <td>58.97</td>\n",
       "      <td>[Telefony i akcesoria, Telefony stacjonarne]</td>\n",
       "      <td>Telefony i akcesoria</td>\n",
       "    </tr>\n",
       "    <tr>\n",
       "      <th>1</th>\n",
       "      <td>1002.0</td>\n",
       "      <td>Kyocera FS-1135MFP</td>\n",
       "      <td>Komputery;Drukarki i skanery;Biurowe urządzeni...</td>\n",
       "      <td>2048.50</td>\n",
       "      <td>[Komputery, Drukarki i skanery, Biurowe urządz...</td>\n",
       "      <td>Komputery</td>\n",
       "    </tr>\n",
       "    <tr>\n",
       "      <th>2</th>\n",
       "      <td>1003.0</td>\n",
       "      <td>Kyocera FS-3640MFP</td>\n",
       "      <td>Komputery;Drukarki i skanery;Biurowe urządzeni...</td>\n",
       "      <td>7639.00</td>\n",
       "      <td>[Komputery, Drukarki i skanery, Biurowe urządz...</td>\n",
       "      <td>Komputery</td>\n",
       "    </tr>\n",
       "    <tr>\n",
       "      <th>3</th>\n",
       "      <td>1004.0</td>\n",
       "      <td>Fallout 3 (Xbox 360)</td>\n",
       "      <td>Gry i konsole;Gry na konsole;Gry Xbox 360</td>\n",
       "      <td>49.99</td>\n",
       "      <td>[Gry i konsole, Gry na konsole, Gry Xbox 360]</td>\n",
       "      <td>Gry i konsole</td>\n",
       "    </tr>\n",
       "    <tr>\n",
       "      <th>4</th>\n",
       "      <td>1005.0</td>\n",
       "      <td>Szalone Króliki Na żywo i w kolorze (Xbox 360)</td>\n",
       "      <td>Gry i konsole;Gry na konsole;Gry Xbox 360</td>\n",
       "      <td>49.99</td>\n",
       "      <td>[Gry i konsole, Gry na konsole, Gry Xbox 360]</td>\n",
       "      <td>Gry i konsole</td>\n",
       "    </tr>\n",
       "  </tbody>\n",
       "</table>\n",
       "</div>"
      ],
      "text/plain": [
       "   product_id                                    product_name  \\\n",
       "0      1001.0                   Telefon Siemens Gigaset DA310   \n",
       "1      1002.0                              Kyocera FS-1135MFP   \n",
       "2      1003.0                              Kyocera FS-3640MFP   \n",
       "3      1004.0                            Fallout 3 (Xbox 360)   \n",
       "4      1005.0  Szalone Króliki Na żywo i w kolorze (Xbox 360)   \n",
       "\n",
       "                                       category_path    price  \\\n",
       "0          Telefony i akcesoria;Telefony stacjonarne    58.97   \n",
       "1  Komputery;Drukarki i skanery;Biurowe urządzeni...  2048.50   \n",
       "2  Komputery;Drukarki i skanery;Biurowe urządzeni...  7639.00   \n",
       "3          Gry i konsole;Gry na konsole;Gry Xbox 360    49.99   \n",
       "4          Gry i konsole;Gry na konsole;Gry Xbox 360    49.99   \n",
       "\n",
       "                                          categories         main_category  \n",
       "0       [Telefony i akcesoria, Telefony stacjonarne]  Telefony i akcesoria  \n",
       "1  [Komputery, Drukarki i skanery, Biurowe urządz...             Komputery  \n",
       "2  [Komputery, Drukarki i skanery, Biurowe urządz...             Komputery  \n",
       "3      [Gry i konsole, Gry na konsole, Gry Xbox 360]         Gry i konsole  \n",
       "4      [Gry i konsole, Gry na konsole, Gry Xbox 360]         Gry i konsole  "
      ]
     },
     "execution_count": 429,
     "metadata": {},
     "output_type": "execute_result"
    }
   ],
   "source": [
    "products = raw_products.astype({\n",
    "    'product_id': 'float64', \n",
    "    'category_path': 'unicode',\n",
    "})\n",
    "products.set_index('product_id')\n",
    "products.dtypes\n",
    "products['categories'] = products.category_path.apply(lambda s: s.split(';'))\n",
    "products['main_category'] = products.categories.apply(lambda s: s[0])\n",
    "products.head()"
   ]
  },
  {
   "cell_type": "code",
   "execution_count": 430,
   "metadata": {},
   "outputs": [
    {
     "data": {
      "text/plain": [
       "<matplotlib.axes._subplots.AxesSubplot at 0x31aa6930>"
      ]
     },
     "execution_count": 430,
     "metadata": {},
     "output_type": "execute_result"
    },
    {
     "data": {
      "image/png": "[encoded data removed]",
      "text/plain": [
       "<Figure size 432x288 with 1 Axes>"
      ]
     },
     "metadata": {
      "needs_background": "light"
     },
     "output_type": "display_data"
    },
    {
     "data": {
      "image/png": "[encoded data removed]",
      "text/plain": [
       "<Figure size 432x288 with 1 Axes>"
      ]
     },
     "metadata": {
      "needs_background": "light"
     },
     "output_type": "display_data"
    }
   ],
   "source": [
    "# analyse invalid products\n",
    "invalid_prices_filter = (products['price']>0) & (products['price']<100000)\n",
    "\n",
    "x = pd.concat([\n",
    "    products['main_category'].value_counts().rename('Products'), \n",
    "    products[~invalid_prices_filter]['main_category'].value_counts().rename('Invalid products')\n",
    "          ], axis=1).fillna(value=0).sort_values(by='Products', ascending=False).plot(kind='bar')\n",
    "\n",
    "pd.concat([\n",
    "    products['category_path'].value_counts().rename('Products'), \n",
    "    products[~invalid_prices_filter]['category_path'].value_counts().rename('Invalid products')\n",
    "          ], axis=1).fillna(value=0).sort_values(by='Products', ascending=False).plot(kind='bar')"
   ]
  },
  {
   "cell_type": "code",
   "execution_count": 431,
   "metadata": {},
   "outputs": [
    {
     "name": "stdout",
     "output_type": "stream",
     "text": [
      "Removed 9.4% of rows (before 289, after 319).\n"
     ]
    }
   ],
   "source": [
    "# Filter invalid prices: out of range (0.01, 100 000)\n",
    "products = products[invalid_prices_filter]\n",
    "print('Removed {:.1f}% of rows (before {}, after {}).'.format(\n",
    "    100-100*len(products)/len(raw_products), len(products), len(raw_products)))"
   ]
  },
  {
   "cell_type": "code",
   "execution_count": 432,
   "metadata": {},
   "outputs": [
    {
     "data": {
      "text/html": [
       "<div>\n",
       "<style scoped>\n",
       "    .dataframe tbody tr th:only-of-type {\n",
       "        vertical-align: middle;\n",
       "    }\n",
       "\n",
       "    .dataframe tbody tr th {\n",
       "        vertical-align: top;\n",
       "    }\n",
       "\n",
       "    .dataframe thead th {\n",
       "        text-align: right;\n",
       "    }\n",
       "</style>\n",
       "<table border=\"1\" class=\"dataframe\">\n",
       "  <thead>\n",
       "    <tr style=\"text-align: right;\">\n",
       "      <th></th>\n",
       "      <th>product_id</th>\n",
       "      <th>product_name</th>\n",
       "      <th>category_path</th>\n",
       "      <th>price</th>\n",
       "      <th>categories</th>\n",
       "      <th>main_category</th>\n",
       "    </tr>\n",
       "  </thead>\n",
       "  <tbody>\n",
       "    <tr>\n",
       "      <th>0</th>\n",
       "      <td>1001.0</td>\n",
       "      <td>Telefon Siemens Gigaset DA310</td>\n",
       "      <td>Telefony i akcesoria;Telefony stacjonarne</td>\n",
       "      <td>58.97</td>\n",
       "      <td>[Telefony i akcesoria, Telefony stacjonarne]</td>\n",
       "      <td>Telefony i akcesoria</td>\n",
       "    </tr>\n",
       "    <tr>\n",
       "      <th>1</th>\n",
       "      <td>1002.0</td>\n",
       "      <td>Kyocera FS-1135MFP</td>\n",
       "      <td>Komputery;Drukarki i skanery;Biurowe urządzeni...</td>\n",
       "      <td>2048.50</td>\n",
       "      <td>[Komputery, Drukarki i skanery, Biurowe urządz...</td>\n",
       "      <td>Komputery</td>\n",
       "    </tr>\n",
       "    <tr>\n",
       "      <th>2</th>\n",
       "      <td>1003.0</td>\n",
       "      <td>Kyocera FS-3640MFP</td>\n",
       "      <td>Komputery;Drukarki i skanery;Biurowe urządzeni...</td>\n",
       "      <td>7639.00</td>\n",
       "      <td>[Komputery, Drukarki i skanery, Biurowe urządz...</td>\n",
       "      <td>Komputery</td>\n",
       "    </tr>\n",
       "    <tr>\n",
       "      <th>3</th>\n",
       "      <td>1004.0</td>\n",
       "      <td>Fallout 3 (Xbox 360)</td>\n",
       "      <td>Gry i konsole;Gry na konsole;Gry Xbox 360</td>\n",
       "      <td>49.99</td>\n",
       "      <td>[Gry i konsole, Gry na konsole, Gry Xbox 360]</td>\n",
       "      <td>Gry i konsole</td>\n",
       "    </tr>\n",
       "    <tr>\n",
       "      <th>4</th>\n",
       "      <td>1005.0</td>\n",
       "      <td>Szalone Króliki Na żywo i w kolorze (Xbox 360)</td>\n",
       "      <td>Gry i konsole;Gry na konsole;Gry Xbox 360</td>\n",
       "      <td>49.99</td>\n",
       "      <td>[Gry i konsole, Gry na konsole, Gry Xbox 360]</td>\n",
       "      <td>Gry i konsole</td>\n",
       "    </tr>\n",
       "  </tbody>\n",
       "</table>\n",
       "</div>"
      ],
      "text/plain": [
       "   product_id                                    product_name  \\\n",
       "0      1001.0                   Telefon Siemens Gigaset DA310   \n",
       "1      1002.0                              Kyocera FS-1135MFP   \n",
       "2      1003.0                              Kyocera FS-3640MFP   \n",
       "3      1004.0                            Fallout 3 (Xbox 360)   \n",
       "4      1005.0  Szalone Króliki Na żywo i w kolorze (Xbox 360)   \n",
       "\n",
       "                                       category_path    price  \\\n",
       "0          Telefony i akcesoria;Telefony stacjonarne    58.97   \n",
       "1  Komputery;Drukarki i skanery;Biurowe urządzeni...  2048.50   \n",
       "2  Komputery;Drukarki i skanery;Biurowe urządzeni...  7639.00   \n",
       "3          Gry i konsole;Gry na konsole;Gry Xbox 360    49.99   \n",
       "4          Gry i konsole;Gry na konsole;Gry Xbox 360    49.99   \n",
       "\n",
       "                                          categories         main_category  \n",
       "0       [Telefony i akcesoria, Telefony stacjonarne]  Telefony i akcesoria  \n",
       "1  [Komputery, Drukarki i skanery, Biurowe urządz...             Komputery  \n",
       "2  [Komputery, Drukarki i skanery, Biurowe urządz...             Komputery  \n",
       "3      [Gry i konsole, Gry na konsole, Gry Xbox 360]         Gry i konsole  \n",
       "4      [Gry i konsole, Gry na konsole, Gry Xbox 360]         Gry i konsole  "
      ]
     },
     "execution_count": 432,
     "metadata": {},
     "output_type": "execute_result"
    }
   ],
   "source": [
    "products.head()"
   ]
  },
  {
   "cell_type": "markdown",
   "metadata": {},
   "source": [
    "### Clean session data"
   ]
  },
  {
   "cell_type": "code",
   "execution_count": 433,
   "metadata": {},
   "outputs": [
    {
     "data": {
      "text/plain": [
       "session_id                 float64\n",
       "timestamp           datetime64[ns]\n",
       "user_id                    float64\n",
       "product_id                 float64\n",
       "event_type                  object\n",
       "offered_discount             int64\n",
       "purchase_id                float64\n",
       "made_purchase                 bool\n",
       "dtype: object"
      ]
     },
     "execution_count": 433,
     "metadata": {},
     "output_type": "execute_result"
    }
   ],
   "source": [
    "sessions = raw_sessions.astype({\n",
    "    'session_id': 'float64'\n",
    "})\n",
    "sessions['made_purchase'] = sessions.purchase_id.map(lambda x: False if pd.isnull(x) else True)\n",
    "\n",
    "sessions.dtypes"
   ]
  },
  {
   "cell_type": "markdown",
   "metadata": {},
   "source": [
    "#### Invalid sessions OVER CONVERSIONS"
   ]
  },
  {
   "cell_type": "code",
   "execution_count": 434,
   "metadata": {},
   "outputs": [
    {
     "data": {
      "text/plain": [
       "is_invalid  made_purchase\n",
       "False       False             3401\n",
       "            True               349\n",
       "True        False            27839\n",
       "            True              3184\n",
       "Name: session_id, dtype: int64"
      ]
     },
     "execution_count": 434,
     "metadata": {},
     "output_type": "execute_result"
    }
   ],
   "source": [
    "invalid_session_cond = sessions['product_id'].isin(products['product_id'].unique())\n",
    "sessions['is_invalid'] = sessions['product_id'].isin(products['product_id'].unique())\n",
    "\n",
    "sessions.groupby(['is_invalid', 'made_purchase']).session_id.count()"
   ]
  },
  {
   "cell_type": "markdown",
   "metadata": {},
   "source": [
    "#### Invalid sessions OVER USERS"
   ]
  },
  {
   "cell_type": "code",
   "execution_count": 435,
   "metadata": {},
   "outputs": [
    {
     "data": {
      "text/plain": [
       "count    201.000000\n",
       "mean      11.202830\n",
       "std        4.893347\n",
       "min        0.000000\n",
       "25%        9.248555\n",
       "50%       10.714286\n",
       "75%       12.337662\n",
       "max       50.000000\n",
       "Name: invalid_percent_per_user, dtype: float64"
      ]
     },
     "execution_count": 435,
     "metadata": {},
     "output_type": "execute_result"
    },
    {
     "data": {
      "image/png": "[encoded data removed]",
      "text/plain": [
       "<Figure size 1080x360 with 1 Axes>"
      ]
     },
     "metadata": {
      "needs_background": "light"
     },
     "output_type": "display_data"
    }
   ],
   "source": [
    "plt = pd.concat([\n",
    "    sessions['user_id'].value_counts().rename('User sessions'), \n",
    "    sessions[~invalid_session_cond]['user_id'].value_counts().rename('User invalid sessions')\n",
    "          ], axis=1).fillna(value=0).sort_values(by='User sessions', ascending=False)\\\n",
    "    .plot(kind='bar', title='Invalid sessions over users', figsize=(15,5), xticks=None).axis('off')\n",
    "\n",
    "\n",
    "df = pd.concat([\n",
    "    sessions['user_id'].value_counts(dropna=False).rename('User sessions'), \n",
    "    sessions[~invalid_session_cond]['user_id'].value_counts(dropna=False).rename('User invalid sessions')\n",
    "          ], axis=1).fillna(value=0).sort_values(by='User sessions', ascending=False)\n",
    "df['invalid_percent_per_user'] = df.apply(lambda r: 100*r['User invalid sessions']/r['User sessions'], axis=1)\n",
    "df['invalid_percent_per_user'].describe()"
   ]
  },
  {
   "cell_type": "markdown",
   "metadata": {},
   "source": [
    "#### Invalid sessions OVER TIME"
   ]
  },
  {
   "cell_type": "code",
   "execution_count": 436,
   "metadata": {},
   "outputs": [
    {
     "data": {
      "text/plain": [
       "(-0.5, 88.5, 0.0, 574.35)"
      ]
     },
     "execution_count": 436,
     "metadata": {},
     "output_type": "execute_result"
    },
    {
     "data": {
      "image/png": "[encoded data removed]",
      "text/plain": [
       "<Figure size 432x288 with 1 Axes>"
      ]
     },
     "metadata": {
      "needs_background": "light"
     },
     "output_type": "display_data"
    }
   ],
   "source": [
    "sessions['timestamp_date'] = sessions['timestamp'].dt.date\n",
    "\n",
    "pd.concat([\n",
    "    sessions['timestamp_date'].value_counts().rename('Sessions'), \n",
    "    sessions[~invalid_session_cond]['timestamp_date'].value_counts().rename('Invalid sessions')\n",
    "          ], axis=1).fillna(value=0).sort_values(by='Sessions', ascending=True)\\\n",
    "    .plot(kind='bar', title='Invalid sessions over timestamp.date').axis('off')\n"
   ]
  },
  {
   "cell_type": "markdown",
   "metadata": {},
   "source": [
    "#### Filtering sessions"
   ]
  },
  {
   "cell_type": "code",
   "execution_count": 437,
   "metadata": {},
   "outputs": [
    {
     "name": "stdout",
     "output_type": "stream",
     "text": [
      "Removed 10.8% of rows (before 31023, after 34773).\n"
     ]
    },
    {
     "data": {
      "text/html": [
       "<div>\n",
       "<style scoped>\n",
       "    .dataframe tbody tr th:only-of-type {\n",
       "        vertical-align: middle;\n",
       "    }\n",
       "\n",
       "    .dataframe tbody tr th {\n",
       "        vertical-align: top;\n",
       "    }\n",
       "\n",
       "    .dataframe thead th {\n",
       "        text-align: right;\n",
       "    }\n",
       "</style>\n",
       "<table border=\"1\" class=\"dataframe\">\n",
       "  <thead>\n",
       "    <tr style=\"text-align: right;\">\n",
       "      <th></th>\n",
       "      <th>session_id</th>\n",
       "      <th>timestamp</th>\n",
       "      <th>user_id</th>\n",
       "      <th>product_id</th>\n",
       "      <th>event_type</th>\n",
       "      <th>offered_discount</th>\n",
       "      <th>purchase_id</th>\n",
       "      <th>made_purchase</th>\n",
       "      <th>is_invalid</th>\n",
       "      <th>timestamp_date</th>\n",
       "    </tr>\n",
       "  </thead>\n",
       "  <tbody>\n",
       "    <tr>\n",
       "      <th>0</th>\n",
       "      <td>100001.0</td>\n",
       "      <td>2020-01-17 16:08:57</td>\n",
       "      <td>102.0</td>\n",
       "      <td>1001.0</td>\n",
       "      <td>VIEW_PRODUCT</td>\n",
       "      <td>0</td>\n",
       "      <td>NaN</td>\n",
       "      <td>False</td>\n",
       "      <td>True</td>\n",
       "      <td>2020-01-17</td>\n",
       "    </tr>\n",
       "    <tr>\n",
       "      <th>1</th>\n",
       "      <td>100002.0</td>\n",
       "      <td>2020-01-07 05:10:41</td>\n",
       "      <td>102.0</td>\n",
       "      <td>1277.0</td>\n",
       "      <td>VIEW_PRODUCT</td>\n",
       "      <td>20</td>\n",
       "      <td>NaN</td>\n",
       "      <td>False</td>\n",
       "      <td>True</td>\n",
       "      <td>2020-01-07</td>\n",
       "    </tr>\n",
       "    <tr>\n",
       "      <th>2</th>\n",
       "      <td>100002.0</td>\n",
       "      <td>2020-01-07 05:14:26</td>\n",
       "      <td>102.0</td>\n",
       "      <td>1276.0</td>\n",
       "      <td>VIEW_PRODUCT</td>\n",
       "      <td>20</td>\n",
       "      <td>NaN</td>\n",
       "      <td>False</td>\n",
       "      <td>True</td>\n",
       "      <td>2020-01-07</td>\n",
       "    </tr>\n",
       "    <tr>\n",
       "      <th>3</th>\n",
       "      <td>100003.0</td>\n",
       "      <td>2020-01-16 09:37:42</td>\n",
       "      <td>102.0</td>\n",
       "      <td>1276.0</td>\n",
       "      <td>VIEW_PRODUCT</td>\n",
       "      <td>0</td>\n",
       "      <td>NaN</td>\n",
       "      <td>False</td>\n",
       "      <td>True</td>\n",
       "      <td>2020-01-16</td>\n",
       "    </tr>\n",
       "    <tr>\n",
       "      <th>4</th>\n",
       "      <td>100003.0</td>\n",
       "      <td>2020-01-16 09:38:22</td>\n",
       "      <td>102.0</td>\n",
       "      <td>1277.0</td>\n",
       "      <td>VIEW_PRODUCT</td>\n",
       "      <td>0</td>\n",
       "      <td>NaN</td>\n",
       "      <td>False</td>\n",
       "      <td>True</td>\n",
       "      <td>2020-01-16</td>\n",
       "    </tr>\n",
       "  </tbody>\n",
       "</table>\n",
       "</div>"
      ],
      "text/plain": [
       "   session_id           timestamp  user_id  product_id    event_type  \\\n",
       "0    100001.0 2020-01-17 16:08:57    102.0      1001.0  VIEW_PRODUCT   \n",
       "1    100002.0 2020-01-07 05:10:41    102.0      1277.0  VIEW_PRODUCT   \n",
       "2    100002.0 2020-01-07 05:14:26    102.0      1276.0  VIEW_PRODUCT   \n",
       "3    100003.0 2020-01-16 09:37:42    102.0      1276.0  VIEW_PRODUCT   \n",
       "4    100003.0 2020-01-16 09:38:22    102.0      1277.0  VIEW_PRODUCT   \n",
       "\n",
       "   offered_discount  purchase_id  made_purchase  is_invalid timestamp_date  \n",
       "0                 0          NaN          False        True     2020-01-17  \n",
       "1                20          NaN          False        True     2020-01-07  \n",
       "2                20          NaN          False        True     2020-01-07  \n",
       "3                 0          NaN          False        True     2020-01-16  \n",
       "4                 0          NaN          False        True     2020-01-16  "
      ]
     },
     "execution_count": 437,
     "metadata": {},
     "output_type": "execute_result"
    }
   ],
   "source": [
    "sessions = sessions[invalid_session_cond]\n",
    "print('Removed {:.1f}% of rows (before {}, after {}).'.format(\n",
    "    100-100*len(sessions)/len(raw_sessions), len(sessions), len(raw_sessions)))\n",
    "\n",
    "\n",
    "sessions.head()"
   ]
  },
  {
   "cell_type": "markdown",
   "metadata": {},
   "source": [
    "### Clean delivery data"
   ]
  },
  {
   "cell_type": "code",
   "execution_count": 438,
   "metadata": {},
   "outputs": [
    {
     "data": {
      "text/plain": [
       "purchase_id                  float64\n",
       "purchase_timestamp    datetime64[ns]\n",
       "delivery_timestamp    datetime64[ns]\n",
       "delivery_company             float64\n",
       "dtype: object"
      ]
     },
     "execution_count": 438,
     "metadata": {},
     "output_type": "execute_result"
    }
   ],
   "source": [
    "deliveries = raw_deliveries.astype({\n",
    "    'purchase_id': 'float64', \n",
    "    'delivery_timestamp': 'datetime64',\n",
    "    'purchase_timestamp': 'datetime64'\n",
    "})\n",
    "deliveries.set_index('purchase_id')\n",
    "\n",
    "deliveries.dtypes"
   ]
  },
  {
   "cell_type": "code",
   "execution_count": 439,
   "metadata": {},
   "outputs": [
    {
     "data": {
      "text/html": [
       "<div>\n",
       "<style scoped>\n",
       "    .dataframe tbody tr th:only-of-type {\n",
       "        vertical-align: middle;\n",
       "    }\n",
       "\n",
       "    .dataframe tbody tr th {\n",
       "        vertical-align: top;\n",
       "    }\n",
       "\n",
       "    .dataframe thead th {\n",
       "        text-align: right;\n",
       "    }\n",
       "</style>\n",
       "<table border=\"1\" class=\"dataframe\">\n",
       "  <thead>\n",
       "    <tr style=\"text-align: right;\">\n",
       "      <th></th>\n",
       "      <th>purchase_id</th>\n",
       "      <th>purchase_timestamp</th>\n",
       "      <th>delivery_timestamp</th>\n",
       "      <th>delivery_company</th>\n",
       "      <th>delivery_time</th>\n",
       "    </tr>\n",
       "  </thead>\n",
       "  <tbody>\n",
       "    <tr>\n",
       "      <th>0</th>\n",
       "      <td>20001.0</td>\n",
       "      <td>2020-01-13 00:29:10</td>\n",
       "      <td>2020-01-17 00:31:53</td>\n",
       "      <td>516.0</td>\n",
       "      <td>4 days 00:02:43</td>\n",
       "    </tr>\n",
       "    <tr>\n",
       "      <th>1</th>\n",
       "      <td>20002.0</td>\n",
       "      <td>2020-02-04 19:09:12</td>\n",
       "      <td>2020-02-06 19:13:06</td>\n",
       "      <td>516.0</td>\n",
       "      <td>2 days 00:03:54</td>\n",
       "    </tr>\n",
       "    <tr>\n",
       "      <th>2</th>\n",
       "      <td>20003.0</td>\n",
       "      <td>2020-01-16 14:40:39</td>\n",
       "      <td>2020-01-18 14:41:27</td>\n",
       "      <td>620.0</td>\n",
       "      <td>2 days 00:00:48</td>\n",
       "    </tr>\n",
       "    <tr>\n",
       "      <th>3</th>\n",
       "      <td>20004.0</td>\n",
       "      <td>2020-02-05 08:08:59</td>\n",
       "      <td>NaT</td>\n",
       "      <td>360.0</td>\n",
       "      <td>NaT</td>\n",
       "    </tr>\n",
       "    <tr>\n",
       "      <th>4</th>\n",
       "      <td>20005.0</td>\n",
       "      <td>2020-02-18 09:27:06</td>\n",
       "      <td>2020-02-21 09:31:35</td>\n",
       "      <td>620.0</td>\n",
       "      <td>3 days 00:04:29</td>\n",
       "    </tr>\n",
       "  </tbody>\n",
       "</table>\n",
       "</div>"
      ],
      "text/plain": [
       "   purchase_id  purchase_timestamp  delivery_timestamp  delivery_company  \\\n",
       "0      20001.0 2020-01-13 00:29:10 2020-01-17 00:31:53             516.0   \n",
       "1      20002.0 2020-02-04 19:09:12 2020-02-06 19:13:06             516.0   \n",
       "2      20003.0 2020-01-16 14:40:39 2020-01-18 14:41:27             620.0   \n",
       "3      20004.0 2020-02-05 08:08:59                 NaT             360.0   \n",
       "4      20005.0 2020-02-18 09:27:06 2020-02-21 09:31:35             620.0   \n",
       "\n",
       "    delivery_time  \n",
       "0 4 days 00:02:43  \n",
       "1 2 days 00:03:54  \n",
       "2 2 days 00:00:48  \n",
       "3             NaT  \n",
       "4 3 days 00:04:29  "
      ]
     },
     "execution_count": 439,
     "metadata": {},
     "output_type": "execute_result"
    }
   ],
   "source": [
    "deliveries['delivery_time'] = deliveries.apply(lambda row: row['delivery_timestamp'] - row['purchase_timestamp'], axis=1)\n",
    "deliveries.head()"
   ]
  },
  {
   "cell_type": "code",
   "execution_count": 440,
   "metadata": {},
   "outputs": [
    {
     "name": "stdout",
     "output_type": "stream",
     "text": [
      "Removed 9.9% of rows (before 3184, after 3533).\n"
     ]
    }
   ],
   "source": [
    "deliveries = deliveries[deliveries.purchase_id.isin(sessions['purchase_id'])]\n",
    "print('Removed {:.1f}% of rows (before {}, after {}).'.format(\n",
    "    100-100*len(deliveries)/len(raw_deliveries), len(deliveries), len(raw_deliveries)))\n"
   ]
  },
  {
   "cell_type": "markdown",
   "metadata": {},
   "source": [
    "## Merge datasets"
   ]
  },
  {
   "cell_type": "code",
   "execution_count": 441,
   "metadata": {},
   "outputs": [
    {
     "data": {
      "text/html": [
       "<div>\n",
       "<style scoped>\n",
       "    .dataframe tbody tr th:only-of-type {\n",
       "        vertical-align: middle;\n",
       "    }\n",
       "\n",
       "    .dataframe tbody tr th {\n",
       "        vertical-align: top;\n",
       "    }\n",
       "\n",
       "    .dataframe thead th {\n",
       "        text-align: right;\n",
       "    }\n",
       "</style>\n",
       "<table border=\"1\" class=\"dataframe\">\n",
       "  <thead>\n",
       "    <tr style=\"text-align: right;\">\n",
       "      <th></th>\n",
       "      <th>session_id</th>\n",
       "      <th>timestamp</th>\n",
       "      <th>user_id</th>\n",
       "      <th>product_id</th>\n",
       "      <th>event_type</th>\n",
       "      <th>offered_discount</th>\n",
       "      <th>purchase_id</th>\n",
       "      <th>made_purchase</th>\n",
       "      <th>is_invalid</th>\n",
       "      <th>timestamp_date</th>\n",
       "      <th>...</th>\n",
       "      <th>price</th>\n",
       "      <th>categories</th>\n",
       "      <th>main_category</th>\n",
       "      <th>name</th>\n",
       "      <th>city</th>\n",
       "      <th>street</th>\n",
       "      <th>purchase_timestamp</th>\n",
       "      <th>delivery_timestamp</th>\n",
       "      <th>delivery_company</th>\n",
       "      <th>delivery_time</th>\n",
       "    </tr>\n",
       "  </thead>\n",
       "  <tbody>\n",
       "    <tr>\n",
       "      <th>0</th>\n",
       "      <td>100001.0</td>\n",
       "      <td>2020-01-17 16:08:57</td>\n",
       "      <td>102.0</td>\n",
       "      <td>1001.0</td>\n",
       "      <td>VIEW_PRODUCT</td>\n",
       "      <td>0</td>\n",
       "      <td>NaN</td>\n",
       "      <td>False</td>\n",
       "      <td>True</td>\n",
       "      <td>2020-01-17</td>\n",
       "      <td>...</td>\n",
       "      <td>58.97</td>\n",
       "      <td>[Telefony i akcesoria, Telefony stacjonarne]</td>\n",
       "      <td>Telefony i akcesoria</td>\n",
       "      <td>Juliusz Męcik</td>\n",
       "      <td>Warszawa</td>\n",
       "      <td>plac Krakowska 69</td>\n",
       "      <td>NaT</td>\n",
       "      <td>NaT</td>\n",
       "      <td>NaN</td>\n",
       "      <td>NaT</td>\n",
       "    </tr>\n",
       "    <tr>\n",
       "      <th>1</th>\n",
       "      <td>100002.0</td>\n",
       "      <td>2020-01-07 05:10:41</td>\n",
       "      <td>102.0</td>\n",
       "      <td>1277.0</td>\n",
       "      <td>VIEW_PRODUCT</td>\n",
       "      <td>20</td>\n",
       "      <td>NaN</td>\n",
       "      <td>False</td>\n",
       "      <td>True</td>\n",
       "      <td>2020-01-07</td>\n",
       "      <td>...</td>\n",
       "      <td>2317.02</td>\n",
       "      <td>[Komputery, Tablety i akcesoria, Tablety]</td>\n",
       "      <td>Komputery</td>\n",
       "      <td>Juliusz Męcik</td>\n",
       "      <td>Warszawa</td>\n",
       "      <td>plac Krakowska 69</td>\n",
       "      <td>NaT</td>\n",
       "      <td>NaT</td>\n",
       "      <td>NaN</td>\n",
       "      <td>NaT</td>\n",
       "    </tr>\n",
       "    <tr>\n",
       "      <th>2</th>\n",
       "      <td>100002.0</td>\n",
       "      <td>2020-01-07 05:14:26</td>\n",
       "      <td>102.0</td>\n",
       "      <td>1276.0</td>\n",
       "      <td>VIEW_PRODUCT</td>\n",
       "      <td>20</td>\n",
       "      <td>NaN</td>\n",
       "      <td>False</td>\n",
       "      <td>True</td>\n",
       "      <td>2020-01-07</td>\n",
       "      <td>...</td>\n",
       "      <td>1816.97</td>\n",
       "      <td>[Komputery, Tablety i akcesoria, Tablety]</td>\n",
       "      <td>Komputery</td>\n",
       "      <td>Juliusz Męcik</td>\n",
       "      <td>Warszawa</td>\n",
       "      <td>plac Krakowska 69</td>\n",
       "      <td>NaT</td>\n",
       "      <td>NaT</td>\n",
       "      <td>NaN</td>\n",
       "      <td>NaT</td>\n",
       "    </tr>\n",
       "    <tr>\n",
       "      <th>3</th>\n",
       "      <td>100003.0</td>\n",
       "      <td>2020-01-16 09:37:42</td>\n",
       "      <td>102.0</td>\n",
       "      <td>1276.0</td>\n",
       "      <td>VIEW_PRODUCT</td>\n",
       "      <td>0</td>\n",
       "      <td>NaN</td>\n",
       "      <td>False</td>\n",
       "      <td>True</td>\n",
       "      <td>2020-01-16</td>\n",
       "      <td>...</td>\n",
       "      <td>1816.97</td>\n",
       "      <td>[Komputery, Tablety i akcesoria, Tablety]</td>\n",
       "      <td>Komputery</td>\n",
       "      <td>Juliusz Męcik</td>\n",
       "      <td>Warszawa</td>\n",
       "      <td>plac Krakowska 69</td>\n",
       "      <td>NaT</td>\n",
       "      <td>NaT</td>\n",
       "      <td>NaN</td>\n",
       "      <td>NaT</td>\n",
       "    </tr>\n",
       "    <tr>\n",
       "      <th>4</th>\n",
       "      <td>100003.0</td>\n",
       "      <td>2020-01-16 09:38:22</td>\n",
       "      <td>102.0</td>\n",
       "      <td>1277.0</td>\n",
       "      <td>VIEW_PRODUCT</td>\n",
       "      <td>0</td>\n",
       "      <td>NaN</td>\n",
       "      <td>False</td>\n",
       "      <td>True</td>\n",
       "      <td>2020-01-16</td>\n",
       "      <td>...</td>\n",
       "      <td>2317.02</td>\n",
       "      <td>[Komputery, Tablety i akcesoria, Tablety]</td>\n",
       "      <td>Komputery</td>\n",
       "      <td>Juliusz Męcik</td>\n",
       "      <td>Warszawa</td>\n",
       "      <td>plac Krakowska 69</td>\n",
       "      <td>NaT</td>\n",
       "      <td>NaT</td>\n",
       "      <td>NaN</td>\n",
       "      <td>NaT</td>\n",
       "    </tr>\n",
       "  </tbody>\n",
       "</table>\n",
       "<p>5 rows × 21 columns</p>\n",
       "</div>"
      ],
      "text/plain": [
       "   session_id           timestamp  user_id  product_id    event_type  \\\n",
       "0    100001.0 2020-01-17 16:08:57    102.0      1001.0  VIEW_PRODUCT   \n",
       "1    100002.0 2020-01-07 05:10:41    102.0      1277.0  VIEW_PRODUCT   \n",
       "2    100002.0 2020-01-07 05:14:26    102.0      1276.0  VIEW_PRODUCT   \n",
       "3    100003.0 2020-01-16 09:37:42    102.0      1276.0  VIEW_PRODUCT   \n",
       "4    100003.0 2020-01-16 09:38:22    102.0      1277.0  VIEW_PRODUCT   \n",
       "\n",
       "   offered_discount  purchase_id  made_purchase  is_invalid timestamp_date  \\\n",
       "0                 0          NaN          False        True     2020-01-17   \n",
       "1                20          NaN          False        True     2020-01-07   \n",
       "2                20          NaN          False        True     2020-01-07   \n",
       "3                 0          NaN          False        True     2020-01-16   \n",
       "4                 0          NaN          False        True     2020-01-16   \n",
       "\n",
       "   ...    price                                    categories  \\\n",
       "0  ...    58.97  [Telefony i akcesoria, Telefony stacjonarne]   \n",
       "1  ...  2317.02     [Komputery, Tablety i akcesoria, Tablety]   \n",
       "2  ...  1816.97     [Komputery, Tablety i akcesoria, Tablety]   \n",
       "3  ...  1816.97     [Komputery, Tablety i akcesoria, Tablety]   \n",
       "4  ...  2317.02     [Komputery, Tablety i akcesoria, Tablety]   \n",
       "\n",
       "          main_category           name      city             street  \\\n",
       "0  Telefony i akcesoria  Juliusz Męcik  Warszawa  plac Krakowska 69   \n",
       "1             Komputery  Juliusz Męcik  Warszawa  plac Krakowska 69   \n",
       "2             Komputery  Juliusz Męcik  Warszawa  plac Krakowska 69   \n",
       "3             Komputery  Juliusz Męcik  Warszawa  plac Krakowska 69   \n",
       "4             Komputery  Juliusz Męcik  Warszawa  plac Krakowska 69   \n",
       "\n",
       "  purchase_timestamp delivery_timestamp delivery_company  delivery_time  \n",
       "0                NaT                NaT              NaN            NaT  \n",
       "1                NaT                NaT              NaN            NaT  \n",
       "2                NaT                NaT              NaN            NaT  \n",
       "3                NaT                NaT              NaN            NaT  \n",
       "4                NaT                NaT              NaN            NaT  \n",
       "\n",
       "[5 rows x 21 columns]"
      ]
     },
     "execution_count": 441,
     "metadata": {},
     "output_type": "execute_result"
    }
   ],
   "source": [
    "data = sessions.merge(products, how='left', on='product_id')\n",
    "data = data.merge(users, how='left', on='user_id')\n",
    "data = data.merge(deliveries, how='left', on='purchase_id')\n",
    "data = data.drop(['category_path'], axis=1)\n",
    "data.head()"
   ]
  },
  {
   "cell_type": "code",
   "execution_count": 442,
   "metadata": {},
   "outputs": [],
   "source": [
    "data.to_json('data/merged.jsonl', orient='records', lines=True)"
   ]
  },
  {
   "cell_type": "markdown",
   "metadata": {},
   "source": [
    "\n",
    "\n",
    "docelowo input: session_id zawierający: listę eventów, dane usera i jego zakupy historyczne jeśli są dostępne, dane produktu"
   ]
  }
 ],
 "metadata": {
  "kernelspec": {
   "display_name": "Python 3",
   "language": "python",
   "name": "python3"
  },
  "language_info": {
   "codemirror_mode": {
    "name": "ipython",
    "version": 3
   },
   "file_extension": ".py",
   "mimetype": "text/x-python",
   "name": "python",
   "nbconvert_exporter": "python",
   "pygments_lexer": "ipython3",
   "version": "3.7.3"
  }
 },
 "nbformat": 4,
 "nbformat_minor": 2
}
