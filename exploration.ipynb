{
 "cells": [
  {
   "cell_type": "code",
   "execution_count": 14,
   "metadata": {},
   "outputs": [],
   "source": [
    "import pandas as pd\n",
    "\n",
    "raw_users = pd.read_json('data/users.jsonl', lines=True)\n",
    "raw_sessions = pd.read_json('data/sessions.jsonl', lines=True)\n",
    "raw_products = pd.read_json('data/products.jsonl', lines=True)\n",
    "raw_deliveries = pd.read_json('data/deliveries.jsonl', lines=True)"
   ]
  },
  {
   "cell_type": "code",
   "execution_count": 16,
   "metadata": {},
   "outputs": [
    {
     "data": {
      "text/html": [
       "<div>\n",
       "<style scoped>\n",
       "    .dataframe tbody tr th:only-of-type {\n",
       "        vertical-align: middle;\n",
       "    }\n",
       "\n",
       "    .dataframe tbody tr th {\n",
       "        vertical-align: top;\n",
       "    }\n",
       "\n",
       "    .dataframe thead th {\n",
       "        text-align: right;\n",
       "    }\n",
       "</style>\n",
       "<table border=\"1\" class=\"dataframe\">\n",
       "  <thead>\n",
       "    <tr style=\"text-align: right;\">\n",
       "      <th></th>\n",
       "      <th>event_type</th>\n",
       "      <th>offered_discount</th>\n",
       "      <th>product_id</th>\n",
       "      <th>purchase_id</th>\n",
       "      <th>session_id</th>\n",
       "      <th>timestamp</th>\n",
       "      <th>user_id</th>\n",
       "    </tr>\n",
       "  </thead>\n",
       "  <tbody>\n",
       "    <tr>\n",
       "      <th>0</th>\n",
       "      <td>VIEW_PRODUCT</td>\n",
       "      <td>0</td>\n",
       "      <td>1001.0</td>\n",
       "      <td>NaN</td>\n",
       "      <td>100001</td>\n",
       "      <td>2020-01-17 16:08:57</td>\n",
       "      <td>102.0</td>\n",
       "    </tr>\n",
       "    <tr>\n",
       "      <th>1</th>\n",
       "      <td>VIEW_PRODUCT</td>\n",
       "      <td>20</td>\n",
       "      <td>1277.0</td>\n",
       "      <td>NaN</td>\n",
       "      <td>100002</td>\n",
       "      <td>2020-01-07 05:10:41</td>\n",
       "      <td>102.0</td>\n",
       "    </tr>\n",
       "    <tr>\n",
       "      <th>2</th>\n",
       "      <td>VIEW_PRODUCT</td>\n",
       "      <td>20</td>\n",
       "      <td>1276.0</td>\n",
       "      <td>NaN</td>\n",
       "      <td>100002</td>\n",
       "      <td>2020-01-07 05:14:26</td>\n",
       "      <td>102.0</td>\n",
       "    </tr>\n",
       "    <tr>\n",
       "      <th>3</th>\n",
       "      <td>VIEW_PRODUCT</td>\n",
       "      <td>0</td>\n",
       "      <td>1276.0</td>\n",
       "      <td>NaN</td>\n",
       "      <td>100003</td>\n",
       "      <td>2020-01-16 09:37:42</td>\n",
       "      <td>102.0</td>\n",
       "    </tr>\n",
       "    <tr>\n",
       "      <th>4</th>\n",
       "      <td>VIEW_PRODUCT</td>\n",
       "      <td>0</td>\n",
       "      <td>1277.0</td>\n",
       "      <td>NaN</td>\n",
       "      <td>100003</td>\n",
       "      <td>2020-01-16 09:38:22</td>\n",
       "      <td>102.0</td>\n",
       "    </tr>\n",
       "  </tbody>\n",
       "</table>\n",
       "</div>"
      ],
      "text/plain": [
       "     event_type  offered_discount  product_id  purchase_id  session_id  \\\n",
       "0  VIEW_PRODUCT                 0      1001.0          NaN      100001   \n",
       "1  VIEW_PRODUCT                20      1277.0          NaN      100002   \n",
       "2  VIEW_PRODUCT                20      1276.0          NaN      100002   \n",
       "3  VIEW_PRODUCT                 0      1276.0          NaN      100003   \n",
       "4  VIEW_PRODUCT                 0      1277.0          NaN      100003   \n",
       "\n",
       "            timestamp  user_id  \n",
       "0 2020-01-17 16:08:57    102.0  \n",
       "1 2020-01-07 05:10:41    102.0  \n",
       "2 2020-01-07 05:14:26    102.0  \n",
       "3 2020-01-16 09:37:42    102.0  \n",
       "4 2020-01-16 09:38:22    102.0  "
      ]
     },
     "execution_count": 16,
     "metadata": {},
     "output_type": "execute_result"
    }
   ],
   "source": [
    "raw_sessions.head()"
   ]
  }
 ],
 "metadata": {
  "kernelspec": {
   "display_name": "Python 3",
   "language": "python",
   "name": "python3"
  },
  "language_info": {
   "codemirror_mode": {
    "name": "ipython",
    "version": 2
   },
   "file_extension": ".py",
   "mimetype": "text/x-python",
   "name": "python",
   "nbconvert_exporter": "python",
   "pygments_lexer": "ipython2",
   "version": "2.7.17"
  }
 },
 "nbformat": 4,
 "nbformat_minor": 2
}
