{
 "cells": [
  {
   "cell_type": "code",
   "execution_count": 1,
   "metadata": {},
   "outputs": [],
   "source": [
    "import pandas as pd\n",
    "import numpy as np\n",
    "\n",
    "raw_users = pd.read_json('data/users.jsonl', lines=True)\n",
    "raw_products = pd.read_json('data/products.jsonl', lines=True)\n",
    "raw_sessions = pd.read_json('data/sessions.jsonl', lines=True)\n",
    "raw_deliveries = pd.read_json('data/deliveries.jsonl', lines=True)"
   ]
  },
  {
   "cell_type": "code",
   "execution_count": 2,
   "metadata": {},
   "outputs": [
    {
     "data": {
      "text/plain": [
       "user_id     int64\n",
       "name       object\n",
       "city       object\n",
       "street     object\n",
       "dtype: object"
      ]
     },
     "execution_count": 2,
     "metadata": {},
     "output_type": "execute_result"
    }
   ],
   "source": [
    "raw_users.dtypes"
   ]
  },
  {
   "cell_type": "code",
   "execution_count": 3,
   "metadata": {},
   "outputs": [
    {
     "data": {
      "text/plain": [
       "product_id         int64\n",
       "product_name      object\n",
       "category_path     object\n",
       "price            float64\n",
       "dtype: object"
      ]
     },
     "execution_count": 3,
     "metadata": {},
     "output_type": "execute_result"
    }
   ],
   "source": [
    "raw_products.dtypes"
   ]
  },
  {
   "cell_type": "code",
   "execution_count": 4,
   "metadata": {},
   "outputs": [
    {
     "data": {
      "text/plain": [
       "purchase_id             int64\n",
       "purchase_timestamp     object\n",
       "delivery_timestamp     object\n",
       "delivery_company      float64\n",
       "dtype: object"
      ]
     },
     "execution_count": 4,
     "metadata": {},
     "output_type": "execute_result"
    }
   ],
   "source": [
    "raw_deliveries.dtypes"
   ]
  },
  {
   "cell_type": "code",
   "execution_count": 5,
   "metadata": {
    "scrolled": true
   },
   "outputs": [
    {
     "data": {
      "text/plain": [
       "session_id                   int64\n",
       "timestamp           datetime64[ns]\n",
       "user_id                    float64\n",
       "product_id                 float64\n",
       "event_type                  object\n",
       "offered_discount             int64\n",
       "purchase_id                float64\n",
       "dtype: object"
      ]
     },
     "execution_count": 5,
     "metadata": {},
     "output_type": "execute_result"
    }
   ],
   "source": [
    "raw_sessions.dtypes"
   ]
  },
  {
   "cell_type": "markdown",
   "metadata": {},
   "source": [
    "### Clean user data"
   ]
  },
  {
   "cell_type": "code",
   "execution_count": 6,
   "metadata": {},
   "outputs": [
    {
     "data": {
      "text/plain": [
       "user_id    float64\n",
       "name        object\n",
       "city        object\n",
       "street      object\n",
       "dtype: object"
      ]
     },
     "execution_count": 6,
     "metadata": {},
     "output_type": "execute_result"
    }
   ],
   "source": [
    "users = raw_users.astype({\n",
    "    'user_id': 'float64'\n",
    "})\n",
    "users.set_index('user_id')\n",
    "users.dtypes"
   ]
  },
  {
   "cell_type": "code",
   "execution_count": 7,
   "metadata": {
    "scrolled": true
   },
   "outputs": [
    {
     "data": {
      "text/html": [
       "<div>\n",
       "<style scoped>\n",
       "    .dataframe tbody tr th:only-of-type {\n",
       "        vertical-align: middle;\n",
       "    }\n",
       "\n",
       "    .dataframe tbody tr th {\n",
       "        vertical-align: top;\n",
       "    }\n",
       "\n",
       "    .dataframe thead th {\n",
       "        text-align: right;\n",
       "    }\n",
       "</style>\n",
       "<table border=\"1\" class=\"dataframe\">\n",
       "  <thead>\n",
       "    <tr style=\"text-align: right;\">\n",
       "      <th></th>\n",
       "      <th>user_id</th>\n",
       "      <th>name</th>\n",
       "      <th>city</th>\n",
       "      <th>street</th>\n",
       "    </tr>\n",
       "  </thead>\n",
       "  <tbody>\n",
       "    <tr>\n",
       "      <th>0</th>\n",
       "      <td>102.0</td>\n",
       "      <td>Juliusz Męcik</td>\n",
       "      <td>Warszawa</td>\n",
       "      <td>plac Krakowska 69</td>\n",
       "    </tr>\n",
       "    <tr>\n",
       "      <th>1</th>\n",
       "      <td>103.0</td>\n",
       "      <td>Eliza Miętka</td>\n",
       "      <td>Radom</td>\n",
       "      <td>ul. Bursztynowa 56/10</td>\n",
       "    </tr>\n",
       "    <tr>\n",
       "      <th>2</th>\n",
       "      <td>104.0</td>\n",
       "      <td>Kacper Kolarz</td>\n",
       "      <td>Warszawa</td>\n",
       "      <td>plac Wiślana 99</td>\n",
       "    </tr>\n",
       "    <tr>\n",
       "      <th>3</th>\n",
       "      <td>105.0</td>\n",
       "      <td>Tobiasz Radko</td>\n",
       "      <td>Gdynia</td>\n",
       "      <td>ulica Zwycięstwa 76/98</td>\n",
       "    </tr>\n",
       "    <tr>\n",
       "      <th>4</th>\n",
       "      <td>106.0</td>\n",
       "      <td>Roksana Merchel</td>\n",
       "      <td>Kutno</td>\n",
       "      <td>plac Głogowa 53/95</td>\n",
       "    </tr>\n",
       "  </tbody>\n",
       "</table>\n",
       "</div>"
      ],
      "text/plain": [
       "   user_id             name      city                  street\n",
       "0    102.0    Juliusz Męcik  Warszawa       plac Krakowska 69\n",
       "1    103.0     Eliza Miętka     Radom   ul. Bursztynowa 56/10\n",
       "2    104.0    Kacper Kolarz  Warszawa         plac Wiślana 99\n",
       "3    105.0    Tobiasz Radko    Gdynia  ulica Zwycięstwa 76/98\n",
       "4    106.0  Roksana Merchel     Kutno      plac Głogowa 53/95"
      ]
     },
     "execution_count": 7,
     "metadata": {},
     "output_type": "execute_result"
    }
   ],
   "source": [
    "users.head()"
   ]
  },
  {
   "cell_type": "markdown",
   "metadata": {},
   "source": [
    "### Clean product data"
   ]
  },
  {
   "cell_type": "code",
   "execution_count": 8,
   "metadata": {},
   "outputs": [
    {
     "ename": "AttributeError",
     "evalue": "'DataFrame' object has no attribute 'categories'",
     "output_type": "error",
     "traceback": [
      "\u001b[0;31m---------------------------------------------------------------------------\u001b[0m",
      "\u001b[0;31mAttributeError\u001b[0m                            Traceback (most recent call last)",
      "\u001b[0;32m<ipython-input-8-0e7b91302cd3>\u001b[0m in \u001b[0;36m<module>\u001b[0;34m\u001b[0m\n\u001b[1;32m      7\u001b[0m \u001b[0mcategories\u001b[0m \u001b[0;34m=\u001b[0m \u001b[0mcategories\u001b[0m\u001b[0;34m.\u001b[0m\u001b[0mrename\u001b[0m\u001b[0;34m(\u001b[0m\u001b[0mcolumns\u001b[0m \u001b[0;34m=\u001b[0m \u001b[0;32mlambda\u001b[0m \u001b[0mx\u001b[0m \u001b[0;34m:\u001b[0m \u001b[0;34m'cat_'\u001b[0m \u001b[0;34m+\u001b[0m \u001b[0mstr\u001b[0m\u001b[0;34m(\u001b[0m\u001b[0mx\u001b[0m\u001b[0;34m)\u001b[0m\u001b[0;34m)\u001b[0m\u001b[0;34m\u001b[0m\u001b[0;34m\u001b[0m\u001b[0m\n\u001b[1;32m      8\u001b[0m \u001b[0mproducts\u001b[0m \u001b[0;34m=\u001b[0m \u001b[0mpd\u001b[0m\u001b[0;34m.\u001b[0m\u001b[0mconcat\u001b[0m\u001b[0;34m(\u001b[0m\u001b[0;34m[\u001b[0m\u001b[0mproducts\u001b[0m\u001b[0;34m,\u001b[0m \u001b[0mcategories\u001b[0m\u001b[0;34m]\u001b[0m\u001b[0;34m,\u001b[0m \u001b[0maxis\u001b[0m\u001b[0;34m=\u001b[0m\u001b[0;36m1\u001b[0m\u001b[0;34m)\u001b[0m\u001b[0;34m\u001b[0m\u001b[0;34m\u001b[0m\u001b[0m\n\u001b[0;32m----> 9\u001b[0;31m \u001b[0mproducts\u001b[0m\u001b[0;34m[\u001b[0m\u001b[0;34m'main_category'\u001b[0m\u001b[0;34m]\u001b[0m \u001b[0;34m=\u001b[0m \u001b[0mproducts\u001b[0m\u001b[0;34m.\u001b[0m\u001b[0mcategories\u001b[0m\u001b[0;34m.\u001b[0m\u001b[0mapply\u001b[0m\u001b[0;34m(\u001b[0m\u001b[0;32mlambda\u001b[0m \u001b[0ms\u001b[0m\u001b[0;34m:\u001b[0m \u001b[0ms\u001b[0m\u001b[0;34m[\u001b[0m\u001b[0;36m0\u001b[0m\u001b[0;34m]\u001b[0m\u001b[0;34m)\u001b[0m\u001b[0;34m\u001b[0m\u001b[0;34m\u001b[0m\u001b[0m\n\u001b[0m\u001b[1;32m     10\u001b[0m \u001b[0mproducts\u001b[0m\u001b[0;34m.\u001b[0m\u001b[0mhead\u001b[0m\u001b[0;34m(\u001b[0m\u001b[0;34m)\u001b[0m\u001b[0;34m\u001b[0m\u001b[0;34m\u001b[0m\u001b[0m\n",
      "\u001b[0;32m~/Documents/Jupyter/ium/venv/lib/python3.7/site-packages/pandas/core/generic.py\u001b[0m in \u001b[0;36m__getattr__\u001b[0;34m(self, name)\u001b[0m\n\u001b[1;32m   5272\u001b[0m             \u001b[0;32mif\u001b[0m \u001b[0mself\u001b[0m\u001b[0;34m.\u001b[0m\u001b[0m_info_axis\u001b[0m\u001b[0;34m.\u001b[0m\u001b[0m_can_hold_identifiers_and_holds_name\u001b[0m\u001b[0;34m(\u001b[0m\u001b[0mname\u001b[0m\u001b[0;34m)\u001b[0m\u001b[0;34m:\u001b[0m\u001b[0;34m\u001b[0m\u001b[0;34m\u001b[0m\u001b[0m\n\u001b[1;32m   5273\u001b[0m                 \u001b[0;32mreturn\u001b[0m \u001b[0mself\u001b[0m\u001b[0;34m[\u001b[0m\u001b[0mname\u001b[0m\u001b[0;34m]\u001b[0m\u001b[0;34m\u001b[0m\u001b[0;34m\u001b[0m\u001b[0m\n\u001b[0;32m-> 5274\u001b[0;31m             \u001b[0;32mreturn\u001b[0m \u001b[0mobject\u001b[0m\u001b[0;34m.\u001b[0m\u001b[0m__getattribute__\u001b[0m\u001b[0;34m(\u001b[0m\u001b[0mself\u001b[0m\u001b[0;34m,\u001b[0m \u001b[0mname\u001b[0m\u001b[0;34m)\u001b[0m\u001b[0;34m\u001b[0m\u001b[0;34m\u001b[0m\u001b[0m\n\u001b[0m\u001b[1;32m   5275\u001b[0m \u001b[0;34m\u001b[0m\u001b[0m\n\u001b[1;32m   5276\u001b[0m     \u001b[0;32mdef\u001b[0m \u001b[0m__setattr__\u001b[0m\u001b[0;34m(\u001b[0m\u001b[0mself\u001b[0m\u001b[0;34m,\u001b[0m \u001b[0mname\u001b[0m\u001b[0;34m:\u001b[0m \u001b[0mstr\u001b[0m\u001b[0;34m,\u001b[0m \u001b[0mvalue\u001b[0m\u001b[0;34m)\u001b[0m \u001b[0;34m->\u001b[0m \u001b[0;32mNone\u001b[0m\u001b[0;34m:\u001b[0m\u001b[0;34m\u001b[0m\u001b[0;34m\u001b[0m\u001b[0m\n",
      "\u001b[0;31mAttributeError\u001b[0m: 'DataFrame' object has no attribute 'categories'"
     ]
    }
   ],
   "source": [
    "products = raw_products.astype({\n",
    "    'product_id': 'float64', \n",
    "    'category_path': 'unicode',\n",
    "})\n",
    "products.set_index('product_id')\n",
    "categories = products.category_path.apply(lambda s: s.split(';')).apply(pd.Series)\n",
    "categories = categories.rename(columns = lambda x : 'cat_' + str(x))\n",
    "products = pd.concat([products, categories], axis=1)\n",
    "products['main_category'] = products.categories.apply(lambda s: s[0])\n",
    "products.head()"
   ]
  },
  {
   "cell_type": "code",
   "execution_count": null,
   "metadata": {},
   "outputs": [],
   "source": [
    "# analyse invalid products\n",
    "invalid_prices_filter = (products['price']>0) & (products['price']<100000)\n",
    "\n",
    "pd.concat([\n",
    "    products['main_category'].value_counts().rename('Products'), \n",
    "    products[~invalid_prices_filter]['main_category'].value_counts().rename('Invalid products')\n",
    "          ], axis=1).fillna(value=0).sort_values(by='Products', ascending=False).plot(kind='bar', \n",
    "        title='Invalid products by main category')\n",
    "\n",
    "cp_df = pd.concat([\n",
    "    products['category_path'].value_counts().rename('Products'), \n",
    "    products[~invalid_prices_filter]['category_path'].value_counts().rename('Invalid products')\n",
    "          ], axis=1).fillna(value=0).sort_values(by='Products', ascending=False)\n",
    "cp_df[cp_df['Invalid products']>0].plot(kind='bar', title='Invalid products by category path')"
   ]
  },
  {
   "cell_type": "code",
   "execution_count": null,
   "metadata": {},
   "outputs": [],
   "source": [
    "cat_df = pd.concat([\n",
    "    products['category_path'].value_counts().rename('Products'), \n",
    "    products[~invalid_prices_filter]['category_path'].value_counts().rename('Invalid products')\n",
    "          ], axis=1).fillna(value=0)\n",
    "cat_df['invalid_percent'] = cat_df.apply(lambda r: round(100*r['Invalid products']/r['Products'],1), axis=1)\n",
    "cat_df[cat_df['invalid_percent'] > 0].sort_values(by='Invalid products', ascending=False)\n"
   ]
  },
  {
   "cell_type": "code",
   "execution_count": null,
   "metadata": {},
   "outputs": [],
   "source": [
    "# Filter invalid prices: out of range (0.01, 100 000)\n",
    "products = products[invalid_prices_filter]\n",
    "print('Removed {:.1f}% of rows (before {}, after {}).'.format(\n",
    "    100-100*len(products)/len(raw_products), len(products), len(raw_products)))"
   ]
  },
  {
   "cell_type": "code",
   "execution_count": null,
   "metadata": {},
   "outputs": [],
   "source": [
    "products.head()"
   ]
  },
  {
   "cell_type": "markdown",
   "metadata": {},
   "source": [
    "### Clean session data"
   ]
  },
  {
   "cell_type": "code",
   "execution_count": null,
   "metadata": {},
   "outputs": [],
   "source": [
    "sessions = raw_sessions.astype({\n",
    "    'session_id': 'float64'\n",
    "})\n",
    "sessions['made_purchase'] = sessions.purchase_id.map(lambda x: False if pd.isnull(x) else True)\n",
    "\n",
    "sessions.dtypes"
   ]
  },
  {
   "cell_type": "markdown",
   "metadata": {},
   "source": [
    "#### Invalid sessions OVER CONVERSIONS"
   ]
  },
  {
   "cell_type": "code",
   "execution_count": null,
   "metadata": {},
   "outputs": [],
   "source": [
    "invalid_session_cond = sessions['product_id'].isin(products['product_id'].unique())\n",
    "sessions['is_invalid'] = sessions['product_id'].isin(products['product_id'].unique())\n",
    "\n",
    "sessions.groupby(['is_invalid', 'made_purchase']).session_id.count()"
   ]
  },
  {
   "cell_type": "markdown",
   "metadata": {},
   "source": [
    "#### Invalid sessions OVER USERS"
   ]
  },
  {
   "cell_type": "code",
   "execution_count": null,
   "metadata": {},
   "outputs": [],
   "source": [
    "plt = pd.concat([\n",
    "    sessions['user_id'].value_counts().rename('User sessions'), \n",
    "    sessions[~invalid_session_cond]['user_id'].value_counts().rename('User invalid sessions')\n",
    "          ], axis=1).fillna(value=0).sort_values(by='User sessions', ascending=False)\\\n",
    "    .plot(kind='bar', title='Invalid sessions over users', figsize=(15,5), xticks=None).axis('off')\n",
    "\n",
    "\n",
    "df = pd.concat([\n",
    "    sessions['user_id'].value_counts(dropna=False).rename('User sessions'), \n",
    "    sessions[~invalid_session_cond]['user_id'].value_counts(dropna=False).rename('User invalid sessions')\n",
    "          ], axis=1).fillna(value=0).sort_values(by='User sessions', ascending=False)\n",
    "df['invalid_percent_per_user'] = df.apply(lambda r: 100*r['User invalid sessions']/r['User sessions'], axis=1)\n",
    "df['invalid_percent_per_user'].describe()"
   ]
  },
  {
   "cell_type": "markdown",
   "metadata": {},
   "source": [
    "#### Invalid sessions OVER TIME"
   ]
  },
  {
   "cell_type": "code",
   "execution_count": null,
   "metadata": {},
   "outputs": [],
   "source": [
    "sessions['timestamp_date'] = sessions['timestamp'].dt.date\n",
    "\n",
    "pd.concat([\n",
    "    sessions['timestamp_date'].value_counts().rename('Sessions'), \n",
    "    sessions[~invalid_session_cond]['timestamp_date'].value_counts().rename('Invalid sessions')\n",
    "          ], axis=1).fillna(value=0).sort_values(by='Sessions', ascending=True)\\\n",
    "    .plot(kind='bar', title='Invalid sessions over timestamp.date').axis('off')\n"
   ]
  },
  {
   "cell_type": "markdown",
   "metadata": {},
   "source": [
    "#### Filtering sessions"
   ]
  },
  {
   "cell_type": "code",
   "execution_count": null,
   "metadata": {},
   "outputs": [],
   "source": [
    "sessions = sessions[invalid_session_cond]\n",
    "print('Removed {:.1f}% of rows (before {}, after {}).'.format(\n",
    "    100-100*len(sessions)/len(raw_sessions), len(sessions), len(raw_sessions)))\n",
    "\n",
    "\n",
    "sessions.head()"
   ]
  },
  {
   "cell_type": "markdown",
   "metadata": {},
   "source": [
    "### Clean delivery data"
   ]
  },
  {
   "cell_type": "code",
   "execution_count": null,
   "metadata": {},
   "outputs": [],
   "source": [
    "deliveries = raw_deliveries.astype({\n",
    "    'purchase_id': 'float64', \n",
    "    'delivery_timestamp': 'datetime64',\n",
    "    'purchase_timestamp': 'datetime64'\n",
    "})\n",
    "deliveries.set_index('purchase_id')\n",
    "\n",
    "deliveries.dtypes"
   ]
  },
  {
   "cell_type": "code",
   "execution_count": null,
   "metadata": {},
   "outputs": [],
   "source": [
    "deliveries['delivery_time'] = deliveries.apply(lambda row: row['delivery_timestamp'] - row['purchase_timestamp'], axis=1)\n",
    "deliveries.head()"
   ]
  },
  {
   "cell_type": "code",
   "execution_count": null,
   "metadata": {},
   "outputs": [],
   "source": [
    "deliveries = deliveries[deliveries.purchase_id.isin(sessions['purchase_id'])]\n",
    "print('Removed {:.1f}% of rows (before {}, after {}).'.format(\n",
    "    100-100*len(deliveries)/len(raw_deliveries), len(deliveries), len(raw_deliveries)))\n"
   ]
  },
  {
   "cell_type": "markdown",
   "metadata": {},
   "source": [
    "## Merge datasets"
   ]
  },
  {
   "cell_type": "code",
   "execution_count": null,
   "metadata": {},
   "outputs": [],
   "source": [
    "data = sessions.merge(products, how='left', on='product_id')\n",
    "data = data.merge(users, how='left', on='user_id')\n",
    "data = data.merge(deliveries, how='left', on='purchase_id')\n",
    "data = data.drop(['category_path'], axis=1)\n",
    "data.head()"
   ]
  },
  {
   "cell_type": "code",
   "execution_count": null,
   "metadata": {},
   "outputs": [],
   "source": [
    "data.to_json('data/merged.jsonl', orient='records', lines=True)"
   ]
  }
 ],
 "metadata": {
  "kernelspec": {
   "display_name": "local",
   "language": "python",
   "name": "local"
  },
  "language_info": {
   "codemirror_mode": {
    "name": "ipython",
    "version": 3
   },
   "file_extension": ".py",
   "mimetype": "text/x-python",
   "name": "python",
   "nbconvert_exporter": "python",
   "pygments_lexer": "ipython3",
   "version": "3.7.7"
  }
 },
 "nbformat": 4,
 "nbformat_minor": 2
}
