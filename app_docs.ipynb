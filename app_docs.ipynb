{
 "cells": [
  {
   "cell_type": "markdown",
   "metadata": {},
   "source": [
    "# App documentation\n",
    "\n",
    "## General\n",
    "\n",
    "The application is designed for internal use - there is no authorization system, and the data is transmitted in the form of byte streams in POST requests (the format would be unacceptable in external APIs).\n",
    "\n",
    "The application design allows for easy implementation of subsequent models and succession. The models are updated automatically at a fixed time interval.\n",
    "\n",
    "## Tests\n",
    "\n",
    "Running *server.py* will automatically turn on the scheduler, which will perform test data requests to the server.\n",
    "\n",
    "\n",
    "## A/B testing\n",
    "\n",
    "On the server side, the data is divided into a set A and B, which are passed to the appropriate model to perform predictions. \n",
    "\n",
    "The division is based on the session_id parameter (session_id % 2 == 0 and session_id % 2 == 1). From the data we know that this parameter is incremented continuously, also there is no need to create a hash function."
   ]
  },
  {
   "cell_type": "code",
   "execution_count": null,
   "metadata": {},
   "outputs": [],
   "source": []
  }
 ],
 "metadata": {
  "kernelspec": {
   "display_name": "Python 3",
   "language": "python",
   "name": "python3"
  },
  "language_info": {
   "codemirror_mode": {
    "name": "ipython",
    "version": 3
   },
   "file_extension": ".py",
   "mimetype": "text/x-python",
   "name": "python",
   "nbconvert_exporter": "python",
   "pygments_lexer": "ipython3",
   "version": "3.7.3"
  }
 },
 "nbformat": 4,
 "nbformat_minor": 4
}
