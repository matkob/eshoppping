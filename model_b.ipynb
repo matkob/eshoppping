{
 "cells": [
  {
   "cell_type": "code",
   "execution_count": 60,
   "metadata": {},
   "outputs": [],
   "source": [
    "import pandas as pd\n",
    "import numpy as np\n",
    "import random\n",
    "from joblib import dump, load\n",
    "from sklearn import svm\n",
    "from sklearn.model_selection import train_test_split\n",
    "import matplotlib.pyplot as plt\n",
    "from sklearn import metrics\n",
    "import statistics"
   ]
  },
  {
   "cell_type": "code",
   "execution_count": 2,
   "metadata": {},
   "outputs": [],
   "source": [
    "features = pd.read_pickle('data/features.pickle')\n",
    "features = features.drop(['delivery_duration', 'syntetic_delivery_duration', 'products_bought'], axis=1)"
   ]
  },
  {
   "cell_type": "markdown",
   "metadata": {},
   "source": [
    "Delivery info is appended after purchase - it makes no sense to take those columns as features because prediction about conversion takes place before purchase. Same with products_bought column."
   ]
  },
  {
   "cell_type": "code",
   "execution_count": 3,
   "metadata": {},
   "outputs": [],
   "source": [
    "def train_and_test(df: pd.DataFrame, x_cols, y_col, runs=1, silent=False):\n",
    "    scores = []\n",
    "    for i in range(runs):\n",
    "        train, test = train_test_split(df, test_size=0.3)\n",
    "        clf = svm.SVC()\n",
    "        clf.fit(train[x_cols], train[y_col])\n",
    "        correct = test[y_col] == clf.predict(test[x_cols])\n",
    "        scores.append(correct.sum() / len(correct))\n",
    "    score = statistics.mean(scores)\n",
    "    if not silent:\n",
    "        print(f'the score of model B is {round(score, 4)}')\n",
    "    return score"
   ]
  },
  {
   "cell_type": "markdown",
   "metadata": {},
   "source": [
    "This function will be used to quickly calculate score of our model."
   ]
  },
  {
   "cell_type": "markdown",
   "metadata": {},
   "source": [
    "# Preprocessing"
   ]
  },
  {
   "cell_type": "code",
   "execution_count": 4,
   "metadata": {},
   "outputs": [
    {
     "data": {
      "text/plain": [
       "made_purchase               bool\n",
       "events_count               int64\n",
       "product_views              int64\n",
       "total_duration           float64\n",
       "mean_event_duration      float64\n",
       "products_viewed           object\n",
       "mean_time_per_product    float64\n",
       "user_id                  float64\n",
       "is_female                   bool\n",
       "weekday_cos_min          float64\n",
       "weekday_cos_max          float64\n",
       "weekday_sin_min          float64\n",
       "weekday_sin_max          float64\n",
       "hour_sin_min             float64\n",
       "hour_sin_max             float64\n",
       "hour_cos_min             float64\n",
       "hour_cos_max             float64\n",
       "cat_0                     object\n",
       "cat_1                     object\n",
       "cat_2                     object\n",
       "cat_3                     object\n",
       "syntetic_duration           bool\n",
       "dtype: object"
      ]
     },
     "execution_count": 4,
     "metadata": {},
     "output_type": "execute_result"
    }
   ],
   "source": [
    "features.dtypes"
   ]
  },
  {
   "cell_type": "markdown",
   "metadata": {},
   "source": [
    "Feature matrix contains mostly real number or integer values but there are some non numerical types that we must take care of."
   ]
  },
  {
   "cell_type": "markdown",
   "metadata": {},
   "source": [
    "## Label encoding"
   ]
  },
  {
   "cell_type": "markdown",
   "metadata": {},
   "source": [
    "Our dataset contains categorical features that must be encoded."
   ]
  },
  {
   "cell_type": "code",
   "execution_count": 5,
   "metadata": {},
   "outputs": [
    {
     "data": {
      "text/html": [
       "<div>\n",
       "<style scoped>\n",
       "    .dataframe tbody tr th:only-of-type {\n",
       "        vertical-align: middle;\n",
       "    }\n",
       "\n",
       "    .dataframe tbody tr th {\n",
       "        vertical-align: top;\n",
       "    }\n",
       "\n",
       "    .dataframe thead th {\n",
       "        text-align: right;\n",
       "    }\n",
       "</style>\n",
       "<table border=\"1\" class=\"dataframe\">\n",
       "  <thead>\n",
       "    <tr style=\"text-align: right;\">\n",
       "      <th></th>\n",
       "      <th>products_viewed</th>\n",
       "      <th>cat_0</th>\n",
       "      <th>cat_1</th>\n",
       "      <th>cat_2</th>\n",
       "      <th>cat_3</th>\n",
       "    </tr>\n",
       "    <tr>\n",
       "      <th>session_id</th>\n",
       "      <th></th>\n",
       "      <th></th>\n",
       "      <th></th>\n",
       "      <th></th>\n",
       "      <th></th>\n",
       "    </tr>\n",
       "  </thead>\n",
       "  <tbody>\n",
       "    <tr>\n",
       "      <th>100001.0</th>\n",
       "      <td>{1001.0}</td>\n",
       "      <td>{telefony i akcesoria}</td>\n",
       "      <td>{telefony stacjonarne}</td>\n",
       "      <td>{}</td>\n",
       "      <td>{}</td>\n",
       "    </tr>\n",
       "    <tr>\n",
       "      <th>100002.0</th>\n",
       "      <td>{1276.0, 1277.0}</td>\n",
       "      <td>{komputery}</td>\n",
       "      <td>{tablety i akcesoria}</td>\n",
       "      <td>{tablety}</td>\n",
       "      <td>{}</td>\n",
       "    </tr>\n",
       "    <tr>\n",
       "      <th>100003.0</th>\n",
       "      <td>{1276.0, 1277.0}</td>\n",
       "      <td>{komputery}</td>\n",
       "      <td>{tablety i akcesoria}</td>\n",
       "      <td>{tablety}</td>\n",
       "      <td>{}</td>\n",
       "    </tr>\n",
       "    <tr>\n",
       "      <th>100004.0</th>\n",
       "      <td>{1030.0, 1032.0, 1033.0, 1034.0, 1036.0, 1037....</td>\n",
       "      <td>{komputery}</td>\n",
       "      <td>{monitory}</td>\n",
       "      <td>{monitory lcd}</td>\n",
       "      <td>{}</td>\n",
       "    </tr>\n",
       "    <tr>\n",
       "      <th>100005.0</th>\n",
       "      <td>{1233.0, 1234.0}</td>\n",
       "      <td>{sprzęt rtv}</td>\n",
       "      <td>{video}</td>\n",
       "      <td>{odtwarzacze dvd}</td>\n",
       "      <td>{}</td>\n",
       "    </tr>\n",
       "  </tbody>\n",
       "</table>\n",
       "</div>"
      ],
      "text/plain": [
       "                                              products_viewed  \\\n",
       "session_id                                                      \n",
       "100001.0                                             {1001.0}   \n",
       "100002.0                                     {1276.0, 1277.0}   \n",
       "100003.0                                     {1276.0, 1277.0}   \n",
       "100004.0    {1030.0, 1032.0, 1033.0, 1034.0, 1036.0, 1037....   \n",
       "100005.0                                     {1233.0, 1234.0}   \n",
       "\n",
       "                             cat_0                   cat_1              cat_2  \\\n",
       "session_id                                                                      \n",
       "100001.0    {telefony i akcesoria}  {telefony stacjonarne}                 {}   \n",
       "100002.0               {komputery}   {tablety i akcesoria}          {tablety}   \n",
       "100003.0               {komputery}   {tablety i akcesoria}          {tablety}   \n",
       "100004.0               {komputery}              {monitory}     {monitory lcd}   \n",
       "100005.0              {sprzęt rtv}                 {video}  {odtwarzacze dvd}   \n",
       "\n",
       "           cat_3  \n",
       "session_id        \n",
       "100001.0      {}  \n",
       "100002.0      {}  \n",
       "100003.0      {}  \n",
       "100004.0      {}  \n",
       "100005.0      {}  "
      ]
     },
     "execution_count": 5,
     "metadata": {},
     "output_type": "execute_result"
    }
   ],
   "source": [
    "objects = features.select_dtypes(include=['object']).columns\n",
    "features[objects].head()"
   ]
  },
  {
   "cell_type": "markdown",
   "metadata": {},
   "source": [
    "Because those columns are sets of categories, there are at least two ways we can encode them."
   ]
  },
  {
   "cell_type": "markdown",
   "metadata": {},
   "source": [
    "### One hot encoding"
   ]
  },
  {
   "cell_type": "code",
   "execution_count": 6,
   "metadata": {},
   "outputs": [
    {
     "data": {
      "text/plain": [
       "(9714, 2065)"
      ]
     },
     "execution_count": 6,
     "metadata": {},
     "output_type": "execute_result"
    }
   ],
   "source": [
    "encoded_objects = []\n",
    "for col in objects:\n",
    "    encoded_objects.append(pd.get_dummies(features[col].apply(str)))\n",
    "one_hot = features.drop(objects, axis=1)\n",
    "one_hot = pd.concat([one_hot] + encoded_objects, axis=1)\n",
    "one_hot.shape"
   ]
  },
  {
   "cell_type": "code",
   "execution_count": 7,
   "metadata": {},
   "outputs": [
    {
     "name": "stdout",
     "output_type": "stream",
     "text": [
      "the score of model B is 0.9297\n"
     ]
    },
    {
     "data": {
      "text/plain": [
       "0.9296740994854202"
      ]
     },
     "execution_count": 7,
     "metadata": {},
     "output_type": "execute_result"
    }
   ],
   "source": [
    "x_cols = one_hot.drop('made_purchase', axis=1).columns\n",
    "y_col = 'made_purchase'\n",
    "train_and_test(one_hot.reset_index(drop=True), x_cols, y_col)"
   ]
  },
  {
   "cell_type": "markdown",
   "metadata": {},
   "source": [
    "After performing one hot encoding on columns that are sets of labels we have 2068 features - this value could be reduced if we encoded the presence of any particular category with a boolean flag. That way a set of two labels would have two columns with True value. This also makes sense when adding two vectors - adding a set with label A to a set with label B will result in a set that contains both label A and label B. We will try and create another DataFrame, this time using the second technique."
   ]
  },
  {
   "cell_type": "markdown",
   "metadata": {},
   "source": [
    "### Multi hot encoding"
   ]
  },
  {
   "cell_type": "code",
   "execution_count": 8,
   "metadata": {},
   "outputs": [],
   "source": [
    "def multi_hot_encoder(s: pd.Series):\n",
    "    result = pd.DataFrame(index=s.index)\n",
    "    numpy_data = pd.DataFrame(s.apply(list).tolist()).to_numpy()\n",
    "    clean = numpy_data[np.logical_not(pd.isna(numpy_data))]\n",
    "    unique = np.unique(clean)    \n",
    "    for c in unique:\n",
    "        result[c] = s.apply(lambda r: c in r)\n",
    "    return result"
   ]
  },
  {
   "cell_type": "code",
   "execution_count": 9,
   "metadata": {
    "scrolled": true
   },
   "outputs": [
    {
     "data": {
      "text/plain": [
       "(9714, 118)"
      ]
     },
     "execution_count": 9,
     "metadata": {},
     "output_type": "execute_result"
    }
   ],
   "source": [
    "encoded_objects = []\n",
    "for col in objects:\n",
    "    encoded_objects.append(multi_hot_encoder(features[col]))\n",
    "multi_hot = features.drop(objects, axis=1)\n",
    "multi_hot = pd.concat([multi_hot] + encoded_objects, axis=1)\n",
    "multi_hot.shape"
   ]
  },
  {
   "cell_type": "markdown",
   "metadata": {},
   "source": [
    "That method returned an encoded dataset with as few as 121 features."
   ]
  },
  {
   "cell_type": "code",
   "execution_count": 10,
   "metadata": {},
   "outputs": [
    {
     "name": "stdout",
     "output_type": "stream",
     "text": [
      "the score of model B is 0.942\n"
     ]
    },
    {
     "data": {
      "text/plain": [
       "0.942024013722127"
      ]
     },
     "execution_count": 10,
     "metadata": {},
     "output_type": "execute_result"
    }
   ],
   "source": [
    "x_cols = multi_hot.drop('made_purchase', axis=1).columns\n",
    "y_col = 'made_purchase'\n",
    "train_and_test(multi_hot.reset_index(drop=True), x_cols, y_col)"
   ]
  },
  {
   "cell_type": "markdown",
   "metadata": {},
   "source": [
    "Although model a with multi encoding works way faster than with one hot encoding (121 vs 2068 features!) its score is very similar. That being said we will stick with it just because it's faster and easier to work with."
   ]
  },
  {
   "cell_type": "code",
   "execution_count": 11,
   "metadata": {},
   "outputs": [],
   "source": [
    "features = multi_hot"
   ]
  },
  {
   "cell_type": "markdown",
   "metadata": {},
   "source": [
    "## Scaling"
   ]
  },
  {
   "cell_type": "code",
   "execution_count": 12,
   "metadata": {},
   "outputs": [
    {
     "data": {
      "text/plain": [
       "(9714, 118)"
      ]
     },
     "execution_count": 12,
     "metadata": {},
     "output_type": "execute_result"
    }
   ],
   "source": [
    "numeric = features.select_dtypes(include=['int64', 'float64']).columns\n",
    "scaled_numeric = (features[numeric] - features[numeric].mean()) / features[numeric].std()\n",
    "scaled = features.drop(numeric, axis=1)\n",
    "scaled = pd.concat([scaled, scaled_numeric], axis=1).reset_index(drop=True)\n",
    "scaled.shape"
   ]
  },
  {
   "cell_type": "code",
   "execution_count": 13,
   "metadata": {},
   "outputs": [
    {
     "name": "stdout",
     "output_type": "stream",
     "text": [
      "the score of model B is 0.978\n"
     ]
    },
    {
     "data": {
      "text/plain": [
       "0.9780445969125214"
      ]
     },
     "execution_count": 13,
     "metadata": {},
     "output_type": "execute_result"
    }
   ],
   "source": [
    "x_cols = scaled.drop('made_purchase', axis=1).columns\n",
    "y_col = 'made_purchase'\n",
    "train_and_test(scaled.reset_index(drop=True), x_cols, y_col)"
   ]
  },
  {
   "cell_type": "markdown",
   "metadata": {},
   "source": [
    "Normalization helped with our classification problem and now the final score is above 99%."
   ]
  },
  {
   "cell_type": "code",
   "execution_count": 14,
   "metadata": {},
   "outputs": [],
   "source": [
    "features = scaled"
   ]
  },
  {
   "cell_type": "markdown",
   "metadata": {},
   "source": [
    "# Feature selection"
   ]
  },
  {
   "cell_type": "markdown",
   "metadata": {},
   "source": [
    "After dataset encoding now it's time to select only those features that are most informative. Deleting unwanted noise-producing columns will speed up calculations and improve overall model score."
   ]
  },
  {
   "cell_type": "markdown",
   "metadata": {},
   "source": [
    "## Correlation"
   ]
  },
  {
   "cell_type": "code",
   "execution_count": 15,
   "metadata": {},
   "outputs": [
    {
     "data": {
      "image/png": "[encoded data removed]",
      "text/plain": [
       "<Figure size 1080x1080 with 1 Axes>"
      ]
     },
     "metadata": {
      "needs_background": "light"
     },
     "output_type": "display_data"
    }
   ],
   "source": [
    "f = plt.figure(figsize=(15, 15))\n",
    "plt.matshow(features.corr(), fignum=f.number)\n",
    "plt.show()"
   ]
  },
  {
   "cell_type": "markdown",
   "metadata": {},
   "source": [
    "## Mutual information"
   ]
  },
  {
   "cell_type": "code",
   "execution_count": 16,
   "metadata": {},
   "outputs": [
    {
     "data": {
      "text/html": [
       "<div>\n",
       "<style scoped>\n",
       "    .dataframe tbody tr th:only-of-type {\n",
       "        vertical-align: middle;\n",
       "    }\n",
       "\n",
       "    .dataframe tbody tr th {\n",
       "        vertical-align: top;\n",
       "    }\n",
       "\n",
       "    .dataframe thead th {\n",
       "        text-align: right;\n",
       "    }\n",
       "</style>\n",
       "<table border=\"1\" class=\"dataframe\">\n",
       "  <thead>\n",
       "    <tr style=\"text-align: right;\">\n",
       "      <th></th>\n",
       "      <th>mi</th>\n",
       "      <th>co</th>\n",
       "      <th>both</th>\n",
       "    </tr>\n",
       "  </thead>\n",
       "  <tbody>\n",
       "    <tr>\n",
       "      <th>made_purchase</th>\n",
       "      <td>6.207918e-01</td>\n",
       "      <td>1.000000</td>\n",
       "      <td>6.207918e-01</td>\n",
       "    </tr>\n",
       "    <tr>\n",
       "      <th>mean_time_per_product</th>\n",
       "      <td>3.811512e-01</td>\n",
       "      <td>0.609886</td>\n",
       "      <td>2.324588e-01</td>\n",
       "    </tr>\n",
       "    <tr>\n",
       "      <th>total_duration</th>\n",
       "      <td>1.726258e-01</td>\n",
       "      <td>0.154606</td>\n",
       "      <td>2.668900e-02</td>\n",
       "    </tr>\n",
       "    <tr>\n",
       "      <th>mean_event_duration</th>\n",
       "      <td>1.941896e-01</td>\n",
       "      <td>0.029992</td>\n",
       "      <td>5.824189e-03</td>\n",
       "    </tr>\n",
       "    <tr>\n",
       "      <th>events_count</th>\n",
       "      <td>1.071022e-01</td>\n",
       "      <td>0.052173</td>\n",
       "      <td>5.587851e-03</td>\n",
       "    </tr>\n",
       "    <tr>\n",
       "      <th>...</th>\n",
       "      <td>...</td>\n",
       "      <td>...</td>\n",
       "      <td>...</td>\n",
       "    </tr>\n",
       "    <tr>\n",
       "      <th>1278.0</th>\n",
       "      <td>4.451608e-05</td>\n",
       "      <td>0.009484</td>\n",
       "      <td>4.221873e-07</td>\n",
       "    </tr>\n",
       "    <tr>\n",
       "      <th>1072.0</th>\n",
       "      <td>3.917067e-05</td>\n",
       "      <td>0.008798</td>\n",
       "      <td>3.446279e-07</td>\n",
       "    </tr>\n",
       "    <tr>\n",
       "      <th>zestawy głośnomówiące</th>\n",
       "      <td>1.975826e-05</td>\n",
       "      <td>0.006267</td>\n",
       "      <td>1.238258e-07</td>\n",
       "    </tr>\n",
       "    <tr>\n",
       "      <th>1074.0</th>\n",
       "      <td>1.498781e-05</td>\n",
       "      <td>0.005454</td>\n",
       "      <td>8.174374e-08</td>\n",
       "    </tr>\n",
       "    <tr>\n",
       "      <th>1277.0</th>\n",
       "      <td>8.236791e-07</td>\n",
       "      <td>0.001284</td>\n",
       "      <td>1.057959e-09</td>\n",
       "    </tr>\n",
       "  </tbody>\n",
       "</table>\n",
       "<p>118 rows × 3 columns</p>\n",
       "</div>"
      ],
      "text/plain": [
       "                                 mi        co          both\n",
       "made_purchase          6.207918e-01  1.000000  6.207918e-01\n",
       "mean_time_per_product  3.811512e-01  0.609886  2.324588e-01\n",
       "total_duration         1.726258e-01  0.154606  2.668900e-02\n",
       "mean_event_duration    1.941896e-01  0.029992  5.824189e-03\n",
       "events_count           1.071022e-01  0.052173  5.587851e-03\n",
       "...                             ...       ...           ...\n",
       "1278.0                 4.451608e-05  0.009484  4.221873e-07\n",
       "1072.0                 3.917067e-05  0.008798  3.446279e-07\n",
       "zestawy głośnomówiące  1.975826e-05  0.006267  1.238258e-07\n",
       "1074.0                 1.498781e-05  0.005454  8.174374e-08\n",
       "1277.0                 8.236791e-07  0.001284  1.057959e-09\n",
       "\n",
       "[118 rows x 3 columns]"
      ]
     },
     "execution_count": 16,
     "metadata": {},
     "output_type": "execute_result"
    }
   ],
   "source": [
    "columns = features.columns.to_series()\n",
    "mutual_info = columns.apply(lambda c: metrics.mutual_info_score(features[c], features.made_purchase))\n",
    "corr = features.corr().made_purchase\n",
    "information = pd.DataFrame(data={'mi': mutual_info, 'co': corr.abs(), 'both': mutual_info * corr.abs()})\n",
    "information.sort_values(by='both', ascending=False)"
   ]
  },
  {
   "cell_type": "markdown",
   "metadata": {},
   "source": [
    "## Testing features"
   ]
  },
  {
   "cell_type": "code",
   "execution_count": 43,
   "metadata": {},
   "outputs": [],
   "source": [
    "def test_features(df: pd.DataFrame, indicator: pd.Series):\n",
    "    results = pd.DataFrame(columns=['features', 'score'])\n",
    "    for f in range(len(df.columns), 2, -5):\n",
    "        best = indicator.nlargest(f).index\n",
    "        x_cols = best.drop('made_purchase').tolist()\n",
    "        y_col = 'made_purchase'\n",
    "        score = train_and_test(features[best].reset_index(drop=True), x_cols, y_col, runs=1, silent=True)\n",
    "        results = results.append({'count': f, 'score': score, 'features': x_cols}, ignore_index=True)\n",
    "    return results"
   ]
  },
  {
   "cell_type": "markdown",
   "metadata": {},
   "source": [
    "### Based on mutual information and correlation"
   ]
  },
  {
   "cell_type": "code",
   "execution_count": 30,
   "metadata": {},
   "outputs": [
    {
     "data": {
      "text/plain": [
       "<matplotlib.axes._subplots.AxesSubplot at 0x7f8ae4019c90>"
      ]
     },
     "execution_count": 30,
     "metadata": {},
     "output_type": "execute_result"
    },
    {
     "data": {
      "image/png": "[encoded data removed]",
      "text/plain": [
       "<Figure size 432x288 with 1 Axes>"
      ]
     },
     "metadata": {
      "needs_background": "light"
     },
     "output_type": "display_data"
    }
   ],
   "source": [
    "results_both = test_features(features, information.both)\n",
    "results_both.plot(x='count', y='score')"
   ]
  },
  {
   "cell_type": "code",
   "execution_count": 31,
   "metadata": {},
   "outputs": [
    {
     "data": {
      "text/html": [
       "<div>\n",
       "<style scoped>\n",
       "    .dataframe tbody tr th:only-of-type {\n",
       "        vertical-align: middle;\n",
       "    }\n",
       "\n",
       "    .dataframe tbody tr th {\n",
       "        vertical-align: top;\n",
       "    }\n",
       "\n",
       "    .dataframe thead th {\n",
       "        text-align: right;\n",
       "    }\n",
       "</style>\n",
       "<table border=\"1\" class=\"dataframe\">\n",
       "  <thead>\n",
       "    <tr style=\"text-align: right;\">\n",
       "      <th></th>\n",
       "      <th>features</th>\n",
       "      <th>score</th>\n",
       "      <th>count</th>\n",
       "    </tr>\n",
       "  </thead>\n",
       "  <tbody>\n",
       "    <tr>\n",
       "      <th>22</th>\n",
       "      <td>Index(['made_purchase', 'mean_time_per_product...</td>\n",
       "      <td>0.998971</td>\n",
       "      <td>8.0</td>\n",
       "    </tr>\n",
       "    <tr>\n",
       "      <th>18</th>\n",
       "      <td>Index([                    'made_purchase',\n",
       "  ...</td>\n",
       "      <td>0.998285</td>\n",
       "      <td>28.0</td>\n",
       "    </tr>\n",
       "  </tbody>\n",
       "</table>\n",
       "</div>"
      ],
      "text/plain": [
       "                                             features     score  count\n",
       "22  Index(['made_purchase', 'mean_time_per_product...  0.998971    8.0\n",
       "18  Index([                    'made_purchase',\n",
       "  ...  0.998285   28.0"
      ]
     },
     "execution_count": 31,
     "metadata": {},
     "output_type": "execute_result"
    }
   ],
   "source": [
    "results_both.sort_values(by='score', ascending=False).head(2)"
   ]
  },
  {
   "cell_type": "markdown",
   "metadata": {},
   "source": [
    "### Based on correlation"
   ]
  },
  {
   "cell_type": "code",
   "execution_count": 49,
   "metadata": {},
   "outputs": [
    {
     "data": {
      "text/plain": [
       "<matplotlib.axes._subplots.AxesSubplot at 0x7f8ae1567450>"
      ]
     },
     "execution_count": 49,
     "metadata": {},
     "output_type": "execute_result"
    },
    {
     "data": {
      "image/png": "[encoded data removed]",
      "text/plain": [
       "<Figure size 432x288 with 1 Axes>"
      ]
     },
     "metadata": {
      "needs_background": "light"
     },
     "output_type": "display_data"
    }
   ],
   "source": [
    "results_co = test_features(features, information.co)\n",
    "results_co.plot(x='count', y='score')"
   ]
  },
  {
   "cell_type": "code",
   "execution_count": 50,
   "metadata": {},
   "outputs": [
    {
     "data": {
      "text/html": [
       "<div>\n",
       "<style scoped>\n",
       "    .dataframe tbody tr th:only-of-type {\n",
       "        vertical-align: middle;\n",
       "    }\n",
       "\n",
       "    .dataframe tbody tr th {\n",
       "        vertical-align: top;\n",
       "    }\n",
       "\n",
       "    .dataframe thead th {\n",
       "        text-align: right;\n",
       "    }\n",
       "</style>\n",
       "<table border=\"1\" class=\"dataframe\">\n",
       "  <thead>\n",
       "    <tr style=\"text-align: right;\">\n",
       "      <th></th>\n",
       "      <th>features</th>\n",
       "      <th>score</th>\n",
       "      <th>count</th>\n",
       "    </tr>\n",
       "  </thead>\n",
       "  <tbody>\n",
       "    <tr>\n",
       "      <th>19</th>\n",
       "      <td>[mean_time_per_product, total_duration, produc...</td>\n",
       "      <td>0.999314</td>\n",
       "      <td>23.0</td>\n",
       "    </tr>\n",
       "    <tr>\n",
       "      <th>18</th>\n",
       "      <td>[mean_time_per_product, total_duration, produc...</td>\n",
       "      <td>0.998971</td>\n",
       "      <td>28.0</td>\n",
       "    </tr>\n",
       "  </tbody>\n",
       "</table>\n",
       "</div>"
      ],
      "text/plain": [
       "                                             features     score  count\n",
       "19  [mean_time_per_product, total_duration, produc...  0.999314   23.0\n",
       "18  [mean_time_per_product, total_duration, produc...  0.998971   28.0"
      ]
     },
     "execution_count": 50,
     "metadata": {},
     "output_type": "execute_result"
    }
   ],
   "source": [
    "results_co.sort_values(by='score', ascending=False).head(2)"
   ]
  },
  {
   "cell_type": "markdown",
   "metadata": {},
   "source": [
    "### Based on mutual information"
   ]
  },
  {
   "cell_type": "code",
   "execution_count": 34,
   "metadata": {},
   "outputs": [
    {
     "data": {
      "text/plain": [
       "<matplotlib.axes._subplots.AxesSubplot at 0x7f8ae3f6c6d0>"
      ]
     },
     "execution_count": 34,
     "metadata": {},
     "output_type": "execute_result"
    },
    {
     "data": {
      "image/png": "[encoded data removed]",
      "text/plain": [
       "<Figure size 432x288 with 1 Axes>"
      ]
     },
     "metadata": {
      "needs_background": "light"
     },
     "output_type": "display_data"
    }
   ],
   "source": [
    "results_mi = test_features(features, information.mi)\n",
    "results_mi.plot(x='count', y='score')"
   ]
  },
  {
   "cell_type": "code",
   "execution_count": 35,
   "metadata": {
    "scrolled": true
   },
   "outputs": [
    {
     "data": {
      "text/html": [
       "<div>\n",
       "<style scoped>\n",
       "    .dataframe tbody tr th:only-of-type {\n",
       "        vertical-align: middle;\n",
       "    }\n",
       "\n",
       "    .dataframe tbody tr th {\n",
       "        vertical-align: top;\n",
       "    }\n",
       "\n",
       "    .dataframe thead th {\n",
       "        text-align: right;\n",
       "    }\n",
       "</style>\n",
       "<table border=\"1\" class=\"dataframe\">\n",
       "  <thead>\n",
       "    <tr style=\"text-align: right;\">\n",
       "      <th></th>\n",
       "      <th>features</th>\n",
       "      <th>score</th>\n",
       "      <th>count</th>\n",
       "    </tr>\n",
       "  </thead>\n",
       "  <tbody>\n",
       "    <tr>\n",
       "      <th>20</th>\n",
       "      <td>Index([        'made_purchase', 'mean_time_per...</td>\n",
       "      <td>0.997942</td>\n",
       "      <td>18.0</td>\n",
       "    </tr>\n",
       "    <tr>\n",
       "      <th>19</th>\n",
       "      <td>Index([                    'made_purchase',\n",
       "  ...</td>\n",
       "      <td>0.997599</td>\n",
       "      <td>23.0</td>\n",
       "    </tr>\n",
       "  </tbody>\n",
       "</table>\n",
       "</div>"
      ],
      "text/plain": [
       "                                             features     score  count\n",
       "20  Index([        'made_purchase', 'mean_time_per...  0.997942   18.0\n",
       "19  Index([                    'made_purchase',\n",
       "  ...  0.997599   23.0"
      ]
     },
     "execution_count": 35,
     "metadata": {},
     "output_type": "execute_result"
    }
   ],
   "source": [
    "results_mi.sort_values(by='score', ascending=False).head(2)"
   ]
  },
  {
   "cell_type": "markdown",
   "metadata": {},
   "source": [
    "# Saving model"
   ]
  },
  {
   "cell_type": "code",
   "execution_count": 59,
   "metadata": {},
   "outputs": [
    {
     "name": "stdout",
     "output_type": "stream",
     "text": [
      "Best results obtained with <bound method Series.count of index                                                      19\n",
      "features    [mean_time_per_product, total_duration, produc...\n",
      "score                                                0.999314\n",
      "count                                                      23\n",
      "Name: 43, dtype: object> features\n"
     ]
    }
   ],
   "source": [
    "all_results = pd.concat([results_both, results_co, results_mi], axis=0).reset_index()\n",
    "best_result = all_results.loc[all_results.score.idxmax()]\n",
    "print(f'Best results obtained with {best_result.count} features')\n",
    "features = features[best_result.features ['made_purchase']]"
   ]
  },
  {
   "cell_type": "code",
   "execution_count": 61,
   "metadata": {},
   "outputs": [
    {
     "ename": "KeyError",
     "evalue": "\"['weekday_sin_min', 1025.0, 1281.0, 1284.0, 1285.0, 1030.0, 1032.0, 1033.0, 1034.0, 1035.0, 1036.0, 1037.0, 1038.0, 1039.0, 1040.0, 1041.0, 1042.0, 1043.0, 1044.0, 1045.0, 1046.0, 1047.0, 1048.0, 1049.0, 1050.0, 1051.0, 1052.0, 1053.0, 1055.0, 1056.0, 1057.0, 'telefony i akcesoria', 1067.0, 'is_female', 1072.0, 1073.0, 1074.0, 1075.0, 1076.0, 1077.0, 1078.0, 1079.0, 1080.0, 'weekday_sin_max', 'weekday_cos_min', 1084.0, 'gry komputerowe', 'hour_sin_min', 'gry na konsole', 'monitory', 'weekday_cos_max', 1287.0, 'tablety', 1288.0, 'komputery', 1289.0, 1290.0, 1291.0, 'anteny rtv', 1292.0, 'odtwarzacze mp3 i mp4', 1293.0, 'hour_cos_max', 'tablety i akcesoria', 'hour_cos_min', 'monitory lcd', 'przenośne audio i video', 'mean_event_duration', 'telewizory i akcesoria', 'gry xbox 360', 'telefony komórkowe', 'gry playstation3', 'zestawy głośnomówiące', 1201.0, 'user_id', 1222.0, 'video', 1233.0, 1234.0, 1002.0, 1004.0, 1005.0, 1006.0, 1007.0, 1008.0, 1009.0, 1010.0, 'odtwarzacze dvd', 1012.0, 1013.0, 'hour_sin_max', 1017.0, 1276.0, 1277.0, 1278.0] not in index\"",
     "output_type": "error",
     "traceback": [
      "\u001b[0;31m---------------------------------------------------------------------------\u001b[0m",
      "\u001b[0;31mKeyError\u001b[0m                                  Traceback (most recent call last)",
      "\u001b[0;32m<ipython-input-61-7f4d15abc9fe>\u001b[0m in \u001b[0;36m<module>\u001b[0;34m\u001b[0m\n\u001b[1;32m      1\u001b[0m \u001b[0mtrain\u001b[0m\u001b[0;34m,\u001b[0m \u001b[0mtest\u001b[0m \u001b[0;34m=\u001b[0m \u001b[0mtrain_test_split\u001b[0m\u001b[0;34m(\u001b[0m\u001b[0mfeatures\u001b[0m\u001b[0;34m[\u001b[0m\u001b[0mbest_results\u001b[0m\u001b[0;34m.\u001b[0m\u001b[0mfeatures\u001b[0m\u001b[0;34m]\u001b[0m\u001b[0;34m,\u001b[0m \u001b[0mtest_size\u001b[0m\u001b[0;34m=\u001b[0m\u001b[0;36m0.3\u001b[0m\u001b[0;34m)\u001b[0m\u001b[0;34m\u001b[0m\u001b[0;34m\u001b[0m\u001b[0m\n\u001b[1;32m      2\u001b[0m \u001b[0mclf\u001b[0m \u001b[0;34m=\u001b[0m \u001b[0msvm\u001b[0m\u001b[0;34m.\u001b[0m\u001b[0mSVC\u001b[0m\u001b[0;34m(\u001b[0m\u001b[0;34m)\u001b[0m\u001b[0;34m\u001b[0m\u001b[0;34m\u001b[0m\u001b[0m\n\u001b[0;32m----> 3\u001b[0;31m \u001b[0mclf\u001b[0m\u001b[0;34m.\u001b[0m\u001b[0mfit\u001b[0m\u001b[0;34m(\u001b[0m\u001b[0mtrain\u001b[0m\u001b[0;34m[\u001b[0m\u001b[0mx_cols\u001b[0m\u001b[0;34m]\u001b[0m\u001b[0;34m,\u001b[0m \u001b[0mtrain\u001b[0m\u001b[0;34m[\u001b[0m\u001b[0my_col\u001b[0m\u001b[0;34m]\u001b[0m\u001b[0;34m)\u001b[0m\u001b[0;34m\u001b[0m\u001b[0;34m\u001b[0m\u001b[0m\n\u001b[0m\u001b[1;32m      4\u001b[0m \u001b[0mcorrect\u001b[0m \u001b[0;34m=\u001b[0m \u001b[0mtest\u001b[0m\u001b[0;34m[\u001b[0m\u001b[0my_col\u001b[0m\u001b[0;34m]\u001b[0m \u001b[0;34m==\u001b[0m \u001b[0mclf\u001b[0m\u001b[0;34m.\u001b[0m\u001b[0mpredict\u001b[0m\u001b[0;34m(\u001b[0m\u001b[0mtest\u001b[0m\u001b[0;34m[\u001b[0m\u001b[0mx_cols\u001b[0m\u001b[0;34m]\u001b[0m\u001b[0;34m)\u001b[0m\u001b[0;34m\u001b[0m\u001b[0;34m\u001b[0m\u001b[0m\n\u001b[1;32m      5\u001b[0m \u001b[0mprint\u001b[0m\u001b[0;34m(\u001b[0m\u001b[0;34mf'Final result: {correct.sum() / len(correct)}'\u001b[0m\u001b[0;34m)\u001b[0m\u001b[0;34m\u001b[0m\u001b[0;34m\u001b[0m\u001b[0m\n",
      "\u001b[0;32m~/Documents/Jupyter/ium/venv/lib/python3.7/site-packages/pandas/core/frame.py\u001b[0m in \u001b[0;36m__getitem__\u001b[0;34m(self, key)\u001b[0m\n\u001b[1;32m   2804\u001b[0m             \u001b[0;32mif\u001b[0m \u001b[0mis_iterator\u001b[0m\u001b[0;34m(\u001b[0m\u001b[0mkey\u001b[0m\u001b[0;34m)\u001b[0m\u001b[0;34m:\u001b[0m\u001b[0;34m\u001b[0m\u001b[0;34m\u001b[0m\u001b[0m\n\u001b[1;32m   2805\u001b[0m                 \u001b[0mkey\u001b[0m \u001b[0;34m=\u001b[0m \u001b[0mlist\u001b[0m\u001b[0;34m(\u001b[0m\u001b[0mkey\u001b[0m\u001b[0;34m)\u001b[0m\u001b[0;34m\u001b[0m\u001b[0;34m\u001b[0m\u001b[0m\n\u001b[0;32m-> 2806\u001b[0;31m             \u001b[0mindexer\u001b[0m \u001b[0;34m=\u001b[0m \u001b[0mself\u001b[0m\u001b[0;34m.\u001b[0m\u001b[0mloc\u001b[0m\u001b[0;34m.\u001b[0m\u001b[0m_get_listlike_indexer\u001b[0m\u001b[0;34m(\u001b[0m\u001b[0mkey\u001b[0m\u001b[0;34m,\u001b[0m \u001b[0maxis\u001b[0m\u001b[0;34m=\u001b[0m\u001b[0;36m1\u001b[0m\u001b[0;34m,\u001b[0m \u001b[0mraise_missing\u001b[0m\u001b[0;34m=\u001b[0m\u001b[0;32mTrue\u001b[0m\u001b[0;34m)\u001b[0m\u001b[0;34m[\u001b[0m\u001b[0;36m1\u001b[0m\u001b[0;34m]\u001b[0m\u001b[0;34m\u001b[0m\u001b[0;34m\u001b[0m\u001b[0m\n\u001b[0m\u001b[1;32m   2807\u001b[0m \u001b[0;34m\u001b[0m\u001b[0m\n\u001b[1;32m   2808\u001b[0m         \u001b[0;31m# take() does not accept boolean indexers\u001b[0m\u001b[0;34m\u001b[0m\u001b[0;34m\u001b[0m\u001b[0;34m\u001b[0m\u001b[0m\n",
      "\u001b[0;32m~/Documents/Jupyter/ium/venv/lib/python3.7/site-packages/pandas/core/indexing.py\u001b[0m in \u001b[0;36m_get_listlike_indexer\u001b[0;34m(self, key, axis, raise_missing)\u001b[0m\n\u001b[1;32m   1551\u001b[0m \u001b[0;34m\u001b[0m\u001b[0m\n\u001b[1;32m   1552\u001b[0m         self._validate_read_indexer(\n\u001b[0;32m-> 1553\u001b[0;31m             \u001b[0mkeyarr\u001b[0m\u001b[0;34m,\u001b[0m \u001b[0mindexer\u001b[0m\u001b[0;34m,\u001b[0m \u001b[0mo\u001b[0m\u001b[0;34m.\u001b[0m\u001b[0m_get_axis_number\u001b[0m\u001b[0;34m(\u001b[0m\u001b[0maxis\u001b[0m\u001b[0;34m)\u001b[0m\u001b[0;34m,\u001b[0m \u001b[0mraise_missing\u001b[0m\u001b[0;34m=\u001b[0m\u001b[0mraise_missing\u001b[0m\u001b[0;34m\u001b[0m\u001b[0;34m\u001b[0m\u001b[0m\n\u001b[0m\u001b[1;32m   1554\u001b[0m         )\n\u001b[1;32m   1555\u001b[0m         \u001b[0;32mreturn\u001b[0m \u001b[0mkeyarr\u001b[0m\u001b[0;34m,\u001b[0m \u001b[0mindexer\u001b[0m\u001b[0;34m\u001b[0m\u001b[0;34m\u001b[0m\u001b[0m\n",
      "\u001b[0;32m~/Documents/Jupyter/ium/venv/lib/python3.7/site-packages/pandas/core/indexing.py\u001b[0m in \u001b[0;36m_validate_read_indexer\u001b[0;34m(self, key, indexer, axis, raise_missing)\u001b[0m\n\u001b[1;32m   1644\u001b[0m             \u001b[0;32mif\u001b[0m \u001b[0;32mnot\u001b[0m \u001b[0;34m(\u001b[0m\u001b[0mself\u001b[0m\u001b[0;34m.\u001b[0m\u001b[0mname\u001b[0m \u001b[0;34m==\u001b[0m \u001b[0;34m\"loc\"\u001b[0m \u001b[0;32mand\u001b[0m \u001b[0;32mnot\u001b[0m \u001b[0mraise_missing\u001b[0m\u001b[0;34m)\u001b[0m\u001b[0;34m:\u001b[0m\u001b[0;34m\u001b[0m\u001b[0;34m\u001b[0m\u001b[0m\n\u001b[1;32m   1645\u001b[0m                 \u001b[0mnot_found\u001b[0m \u001b[0;34m=\u001b[0m \u001b[0mlist\u001b[0m\u001b[0;34m(\u001b[0m\u001b[0mset\u001b[0m\u001b[0;34m(\u001b[0m\u001b[0mkey\u001b[0m\u001b[0;34m)\u001b[0m \u001b[0;34m-\u001b[0m \u001b[0mset\u001b[0m\u001b[0;34m(\u001b[0m\u001b[0max\u001b[0m\u001b[0;34m)\u001b[0m\u001b[0;34m)\u001b[0m\u001b[0;34m\u001b[0m\u001b[0;34m\u001b[0m\u001b[0m\n\u001b[0;32m-> 1646\u001b[0;31m                 \u001b[0;32mraise\u001b[0m \u001b[0mKeyError\u001b[0m\u001b[0;34m(\u001b[0m\u001b[0;34mf\"{not_found} not in index\"\u001b[0m\u001b[0;34m)\u001b[0m\u001b[0;34m\u001b[0m\u001b[0;34m\u001b[0m\u001b[0m\n\u001b[0m\u001b[1;32m   1647\u001b[0m \u001b[0;34m\u001b[0m\u001b[0m\n\u001b[1;32m   1648\u001b[0m             \u001b[0;31m# we skip the warning on Categorical/Interval\u001b[0m\u001b[0;34m\u001b[0m\u001b[0;34m\u001b[0m\u001b[0;34m\u001b[0m\u001b[0m\n",
      "\u001b[0;31mKeyError\u001b[0m: \"['weekday_sin_min', 1025.0, 1281.0, 1284.0, 1285.0, 1030.0, 1032.0, 1033.0, 1034.0, 1035.0, 1036.0, 1037.0, 1038.0, 1039.0, 1040.0, 1041.0, 1042.0, 1043.0, 1044.0, 1045.0, 1046.0, 1047.0, 1048.0, 1049.0, 1050.0, 1051.0, 1052.0, 1053.0, 1055.0, 1056.0, 1057.0, 'telefony i akcesoria', 1067.0, 'is_female', 1072.0, 1073.0, 1074.0, 1075.0, 1076.0, 1077.0, 1078.0, 1079.0, 1080.0, 'weekday_sin_max', 'weekday_cos_min', 1084.0, 'gry komputerowe', 'hour_sin_min', 'gry na konsole', 'monitory', 'weekday_cos_max', 1287.0, 'tablety', 1288.0, 'komputery', 1289.0, 1290.0, 1291.0, 'anteny rtv', 1292.0, 'odtwarzacze mp3 i mp4', 1293.0, 'hour_cos_max', 'tablety i akcesoria', 'hour_cos_min', 'monitory lcd', 'przenośne audio i video', 'mean_event_duration', 'telewizory i akcesoria', 'gry xbox 360', 'telefony komórkowe', 'gry playstation3', 'zestawy głośnomówiące', 1201.0, 'user_id', 1222.0, 'video', 1233.0, 1234.0, 1002.0, 1004.0, 1005.0, 1006.0, 1007.0, 1008.0, 1009.0, 1010.0, 'odtwarzacze dvd', 1012.0, 1013.0, 'hour_sin_max', 1017.0, 1276.0, 1277.0, 1278.0] not in index\""
     ]
    }
   ],
   "source": [
    "x_cols = best_result.features\n",
    "y_col = 'made_purchase'\n",
    "train, test = train_test_split(features[best_results.features], test_size=0.3)\n",
    "clf = svm.SVC()\n",
    "clf.fit(train[x_cols], train[y_col])\n",
    "correct = test[y_col] == clf.predict(test[x_cols])\n",
    "print(f'Final result: {correct.sum() / len(correct)}')"
   ]
  },
  {
   "cell_type": "code",
   "execution_count": null,
   "metadata": {},
   "outputs": [],
   "source": [
    "dump(clf, 'filename.joblib') "
   ]
  }
 ],
 "metadata": {
  "kernelspec": {
   "display_name": "local",
   "language": "python",
   "name": "local"
  },
  "language_info": {
   "codemirror_mode": {
    "name": "ipython",
    "version": 3
   },
   "file_extension": ".py",
   "mimetype": "text/x-python",
   "name": "python",
   "nbconvert_exporter": "python",
   "pygments_lexer": "ipython3",
   "version": "3.7.7"
  }
 },
 "nbformat": 4,
 "nbformat_minor": 4
}
