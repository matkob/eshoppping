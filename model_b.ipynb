{
 "cells": [
  {
   "cell_type": "code",
   "execution_count": 1,
   "metadata": {},
   "outputs": [],
   "source": [
    "import pandas as pd\n",
    "import numpy as np\n",
    "import random\n",
    "from joblib import dump, load\n",
    "from sklearn import svm\n",
    "from sklearn.model_selection import train_test_split\n",
    "import matplotlib.pyplot as plt\n",
    "from sklearn import metrics\n",
    "import statistics"
   ]
  },
  {
   "cell_type": "code",
   "execution_count": 2,
   "metadata": {},
   "outputs": [],
   "source": [
    "features = pd.read_pickle('data/features_develop.pickle')\n",
    "features = features.drop(['delivery_duration', 'syntetic_delivery_duration', 'products_bought'], axis=1)"
   ]
  },
  {
   "cell_type": "markdown",
   "metadata": {},
   "source": [
    "Delivery info is appended after purchase - it makes no sense to take those columns as features because prediction about conversion takes place before purchase. Same with products_bought column."
   ]
  },
  {
   "cell_type": "code",
   "execution_count": 3,
   "metadata": {},
   "outputs": [],
   "source": [
    "def train_and_test(df: pd.DataFrame, preprocess, runs=1, silent=False):\n",
    "    scores = []\n",
    "    for i in range(runs):\n",
    "        train, test = train_test_split(df, test_size=0.3)\n",
    "        for func in preprocess:\n",
    "            train = func(train)\n",
    "            test = func(test)\n",
    "        test = test.assign(**{c:False for c in list(train.columns) if c not in set(test.columns)})\n",
    "        clf = svm.SVC()\n",
    "        y_col = 'made_purchase'\n",
    "        x_cols = train.drop(y_col, axis=1).columns\n",
    "        clf.fit(train[x_cols], train[y_col])\n",
    "        correct = test[y_col] == clf.predict(test[x_cols])\n",
    "        scores.append(correct.sum() / len(correct))\n",
    "    score = statistics.mean(scores)\n",
    "    if not silent:\n",
    "        print(f'The score of model B is {round(score, 4)}')\n",
    "    return score"
   ]
  },
  {
   "cell_type": "markdown",
   "metadata": {},
   "source": [
    "This function will be used to quickly calculate score of our model."
   ]
  },
  {
   "cell_type": "markdown",
   "metadata": {},
   "source": [
    "# Preprocessing"
   ]
  },
  {
   "cell_type": "code",
   "execution_count": 4,
   "metadata": {},
   "outputs": [
    {
     "data": {
      "text/plain": [
       "made_purchase               bool\n",
       "events_count               int64\n",
       "product_views              int64\n",
       "total_duration           float64\n",
       "mean_event_duration      float64\n",
       "products_viewed           object\n",
       "mean_time_per_product    float64\n",
       "user_id                  float64\n",
       "is_female                   bool\n",
       "weekday_cos_min          float64\n",
       "weekday_cos_max          float64\n",
       "weekday_sin_min          float64\n",
       "weekday_sin_max          float64\n",
       "hour_sin_min             float64\n",
       "hour_sin_max             float64\n",
       "hour_cos_min             float64\n",
       "hour_cos_max             float64\n",
       "cat_0                     object\n",
       "cat_1                     object\n",
       "cat_2                     object\n",
       "cat_3                     object\n",
       "syntetic_duration           bool\n",
       "dtype: object"
      ]
     },
     "execution_count": 4,
     "metadata": {},
     "output_type": "execute_result"
    }
   ],
   "source": [
    "features.dtypes"
   ]
  },
  {
   "cell_type": "markdown",
   "metadata": {},
   "source": [
    "Feature matrix contains mostly real number or integer values but there are some non numerical types that we must take care of."
   ]
  },
  {
   "cell_type": "markdown",
   "metadata": {},
   "source": [
    "## Label encoding"
   ]
  },
  {
   "cell_type": "markdown",
   "metadata": {},
   "source": [
    "Our dataset contains categorical features that must be encoded."
   ]
  },
  {
   "cell_type": "code",
   "execution_count": 5,
   "metadata": {},
   "outputs": [
    {
     "data": {
      "text/html": [
       "<div>\n",
       "<style scoped>\n",
       "    .dataframe tbody tr th:only-of-type {\n",
       "        vertical-align: middle;\n",
       "    }\n",
       "\n",
       "    .dataframe tbody tr th {\n",
       "        vertical-align: top;\n",
       "    }\n",
       "\n",
       "    .dataframe thead th {\n",
       "        text-align: right;\n",
       "    }\n",
       "</style>\n",
       "<table border=\"1\" class=\"dataframe\">\n",
       "  <thead>\n",
       "    <tr style=\"text-align: right;\">\n",
       "      <th></th>\n",
       "      <th>products_viewed</th>\n",
       "      <th>cat_0</th>\n",
       "      <th>cat_1</th>\n",
       "      <th>cat_2</th>\n",
       "      <th>cat_3</th>\n",
       "    </tr>\n",
       "    <tr>\n",
       "      <th>session_id</th>\n",
       "      <th></th>\n",
       "      <th></th>\n",
       "      <th></th>\n",
       "      <th></th>\n",
       "      <th></th>\n",
       "    </tr>\n",
       "  </thead>\n",
       "  <tbody>\n",
       "    <tr>\n",
       "      <th>109811.0</th>\n",
       "      <td>{1284.0, 1287.0}</td>\n",
       "      <td>{sprzęt rtv}</td>\n",
       "      <td>{video}</td>\n",
       "      <td>{telewizory i akcesoria}</td>\n",
       "      <td>{anteny rtv}</td>\n",
       "    </tr>\n",
       "    <tr>\n",
       "      <th>102058.0</th>\n",
       "      <td>{1004.0, 1005.0, 1007.0, 1009.0, 1012.0, 1013.0}</td>\n",
       "      <td>{gry i konsole}</td>\n",
       "      <td>{gry na konsole}</td>\n",
       "      <td>{gry xbox 360}</td>\n",
       "      <td>{}</td>\n",
       "    </tr>\n",
       "    <tr>\n",
       "      <th>104909.0</th>\n",
       "      <td>{1040.0, 1041.0, 1045.0, 1046.0, 1047.0}</td>\n",
       "      <td>{gry i konsole}</td>\n",
       "      <td>{gry na konsole}</td>\n",
       "      <td>{gry playstation3}</td>\n",
       "      <td>{}</td>\n",
       "    </tr>\n",
       "    <tr>\n",
       "      <th>105228.0</th>\n",
       "      <td>{1067.0}</td>\n",
       "      <td>{telefony i akcesoria}</td>\n",
       "      <td>{telefony komórkowe}</td>\n",
       "      <td>{}</td>\n",
       "      <td>{}</td>\n",
       "    </tr>\n",
       "    <tr>\n",
       "      <th>105640.0</th>\n",
       "      <td>{1007.0}</td>\n",
       "      <td>{gry i konsole}</td>\n",
       "      <td>{gry na konsole}</td>\n",
       "      <td>{gry xbox 360}</td>\n",
       "      <td>{}</td>\n",
       "    </tr>\n",
       "  </tbody>\n",
       "</table>\n",
       "</div>"
      ],
      "text/plain": [
       "                                             products_viewed  \\\n",
       "session_id                                                     \n",
       "109811.0                                    {1284.0, 1287.0}   \n",
       "102058.0    {1004.0, 1005.0, 1007.0, 1009.0, 1012.0, 1013.0}   \n",
       "104909.0            {1040.0, 1041.0, 1045.0, 1046.0, 1047.0}   \n",
       "105228.0                                            {1067.0}   \n",
       "105640.0                                            {1007.0}   \n",
       "\n",
       "                             cat_0                 cat_1  \\\n",
       "session_id                                                 \n",
       "109811.0              {sprzęt rtv}               {video}   \n",
       "102058.0           {gry i konsole}      {gry na konsole}   \n",
       "104909.0           {gry i konsole}      {gry na konsole}   \n",
       "105228.0    {telefony i akcesoria}  {telefony komórkowe}   \n",
       "105640.0           {gry i konsole}      {gry na konsole}   \n",
       "\n",
       "                               cat_2         cat_3  \n",
       "session_id                                          \n",
       "109811.0    {telewizory i akcesoria}  {anteny rtv}  \n",
       "102058.0              {gry xbox 360}            {}  \n",
       "104909.0          {gry playstation3}            {}  \n",
       "105228.0                          {}            {}  \n",
       "105640.0              {gry xbox 360}            {}  "
      ]
     },
     "execution_count": 5,
     "metadata": {},
     "output_type": "execute_result"
    }
   ],
   "source": [
    "objects = features.select_dtypes(include=['object']).columns\n",
    "features[objects].head()"
   ]
  },
  {
   "cell_type": "markdown",
   "metadata": {},
   "source": [
    "Because those columns are sets of categories, there are at least two ways we can encode them."
   ]
  },
  {
   "cell_type": "markdown",
   "metadata": {},
   "source": [
    "### One hot encoding"
   ]
  },
  {
   "cell_type": "code",
   "execution_count": 6,
   "metadata": {},
   "outputs": [],
   "source": [
    "def encode_one_hot(df):\n",
    "    objects = df.select_dtypes(include=['object']).columns\n",
    "    encoded_objects = []\n",
    "    for col in objects:\n",
    "        encoded_objects.append(pd.get_dummies(df[col].apply(str)))\n",
    "    return pd.concat([df.drop(objects, axis=1)] + encoded_objects, axis=1)"
   ]
  },
  {
   "cell_type": "code",
   "execution_count": 7,
   "metadata": {},
   "outputs": [
    {
     "data": {
      "text/plain": [
       "(7771, 1812)"
      ]
     },
     "execution_count": 7,
     "metadata": {},
     "output_type": "execute_result"
    }
   ],
   "source": [
    "one_hot = encode_one_hot(features)\n",
    "one_hot.shape"
   ]
  },
  {
   "cell_type": "code",
   "execution_count": 8,
   "metadata": {
    "scrolled": false
   },
   "outputs": [
    {
     "name": "stdout",
     "output_type": "stream",
     "text": [
      "The score of model B is 0.9275\n"
     ]
    },
    {
     "data": {
      "text/plain": [
       "0.9275300171526587"
      ]
     },
     "execution_count": 8,
     "metadata": {},
     "output_type": "execute_result"
    }
   ],
   "source": [
    "train_and_test(features.reset_index(drop=True), [encode_one_hot])"
   ]
  },
  {
   "cell_type": "markdown",
   "metadata": {},
   "source": [
    "After performing one hot encoding on columns that are sets of labels we've got many more features - those could be reduced if we encoded the presence of any particular category with a boolean flag. That way a set of two labels would have two columns with True value. This also makes sense when adding two vectors - adding a set with label A to a set with label B will result in a set that contains both label A and label B. We will try and create another DataFrame, this time using the second technique."
   ]
  },
  {
   "cell_type": "markdown",
   "metadata": {},
   "source": [
    "### Multi hot encoding"
   ]
  },
  {
   "cell_type": "code",
   "execution_count": 9,
   "metadata": {},
   "outputs": [],
   "source": [
    "def multi_hot_encoder(s: pd.Series):\n",
    "    result = pd.DataFrame(index=s.index)\n",
    "    numpy_data = pd.DataFrame(s.apply(list).tolist()).to_numpy()\n",
    "    clean = numpy_data[np.logical_not(pd.isna(numpy_data))]\n",
    "    unique = np.unique(clean)    \n",
    "    for c in unique:\n",
    "        result[c] = s.apply(lambda r: c in r)\n",
    "    return result"
   ]
  },
  {
   "cell_type": "code",
   "execution_count": 10,
   "metadata": {},
   "outputs": [],
   "source": [
    "def encode_multi_hot(df):\n",
    "    objects = df.select_dtypes(include=['object']).columns\n",
    "    encoded_objects = []\n",
    "    for col in objects:\n",
    "        encoded_objects.append(multi_hot_encoder(df[col]))\n",
    "    multi_hot = df.drop(objects, axis=1)\n",
    "    return pd.concat([multi_hot] + encoded_objects, axis=1)    "
   ]
  },
  {
   "cell_type": "code",
   "execution_count": 11,
   "metadata": {
    "scrolled": true
   },
   "outputs": [
    {
     "data": {
      "text/plain": [
       "(7771, 118)"
      ]
     },
     "execution_count": 11,
     "metadata": {},
     "output_type": "execute_result"
    }
   ],
   "source": [
    "multi_hot = encode_multi_hot(features)\n",
    "multi_hot.shape"
   ]
  },
  {
   "cell_type": "markdown",
   "metadata": {},
   "source": [
    "That method returned an encoded dataset with as few as 118 features."
   ]
  },
  {
   "cell_type": "code",
   "execution_count": 12,
   "metadata": {},
   "outputs": [
    {
     "name": "stdout",
     "output_type": "stream",
     "text": [
      "The score of model B is 0.9318\n"
     ]
    },
    {
     "data": {
      "text/plain": [
       "0.9318181818181818"
      ]
     },
     "execution_count": 12,
     "metadata": {},
     "output_type": "execute_result"
    }
   ],
   "source": [
    "train_and_test(features.reset_index(drop=True), [encode_multi_hot])"
   ]
  },
  {
   "cell_type": "markdown",
   "metadata": {},
   "source": [
    "Although model a with multi encoding works way faster than with one hot encoding (because of less features used in calculations) its score is very similar. That being said we will stick with it just because it's faster and easier to work with."
   ]
  },
  {
   "cell_type": "code",
   "execution_count": 13,
   "metadata": {},
   "outputs": [],
   "source": [
    "preprocessing = [encode_multi_hot]"
   ]
  },
  {
   "cell_type": "markdown",
   "metadata": {},
   "source": [
    "## Scaling"
   ]
  },
  {
   "cell_type": "code",
   "execution_count": 14,
   "metadata": {},
   "outputs": [],
   "source": [
    "def normalize_numeric(df):\n",
    "    numeric = df.select_dtypes(include=['int64', 'float64']).columns\n",
    "    scaled_numeric = (df[numeric] - df[numeric].mean()) / df[numeric].std()\n",
    "    scaled = df.drop(numeric, axis=1)\n",
    "    return pd.concat([scaled, scaled_numeric], axis=1).reset_index(drop=True)"
   ]
  },
  {
   "cell_type": "code",
   "execution_count": 15,
   "metadata": {},
   "outputs": [
    {
     "data": {
      "text/plain": [
       "(7771, 22)"
      ]
     },
     "execution_count": 15,
     "metadata": {},
     "output_type": "execute_result"
    }
   ],
   "source": [
    "scaled = normalize_numeric(features)\n",
    "scaled.shape"
   ]
  },
  {
   "cell_type": "code",
   "execution_count": 16,
   "metadata": {},
   "outputs": [
    {
     "name": "stdout",
     "output_type": "stream",
     "text": [
      "The score of model B is 0.964\n"
     ]
    },
    {
     "data": {
      "text/plain": [
       "0.9639794168096055"
      ]
     },
     "execution_count": 16,
     "metadata": {},
     "output_type": "execute_result"
    }
   ],
   "source": [
    "train_and_test(scaled.reset_index(drop=True), preprocessing + [normalize_numeric])"
   ]
  },
  {
   "cell_type": "markdown",
   "metadata": {},
   "source": [
    "Normalization helped with our classification problem and now the final score is much higher."
   ]
  },
  {
   "cell_type": "code",
   "execution_count": 38,
   "metadata": {},
   "outputs": [],
   "source": [
    "preprocessing = [encode_multi_hot, normalize_numeric]"
   ]
  },
  {
   "cell_type": "markdown",
   "metadata": {},
   "source": [
    "# Feature selection"
   ]
  },
  {
   "cell_type": "markdown",
   "metadata": {},
   "source": [
    "After dataset encoding now it's time to select only those features that are most informative. Deleting unwanted noise-producing columns will speed up calculations and improve overall model score."
   ]
  },
  {
   "cell_type": "code",
   "execution_count": 18,
   "metadata": {},
   "outputs": [],
   "source": [
    "preprocessed = features\n",
    "for func in preprocessing:\n",
    "    preprocessed = func(preprocessed)"
   ]
  },
  {
   "cell_type": "markdown",
   "metadata": {},
   "source": [
    "## Correlation"
   ]
  },
  {
   "cell_type": "code",
   "execution_count": 19,
   "metadata": {},
   "outputs": [
    {
     "data": {
      "image/png": "[encoded data removed]",
      "text/plain": [
       "<Figure size 1080x1080 with 1 Axes>"
      ]
     },
     "metadata": {
      "needs_background": "light"
     },
     "output_type": "display_data"
    }
   ],
   "source": [
    "f = plt.figure(figsize=(15, 15))\n",
    "plt.matshow(preprocessed.corr(), fignum=f.number)\n",
    "plt.show()"
   ]
  },
  {
   "cell_type": "markdown",
   "metadata": {},
   "source": [
    "This plot shows us that there are features that are not really helpful with our problem. Deleting them will not only speed up learning/predicting processes but also can lead to better performance and scores. Further analysis will be based on mutual information and correlation of the columns in our dataset."
   ]
  },
  {
   "cell_type": "markdown",
   "metadata": {},
   "source": [
    "## Mutual information / correlation table"
   ]
  },
  {
   "cell_type": "code",
   "execution_count": 20,
   "metadata": {},
   "outputs": [
    {
     "data": {
      "text/html": [
       "<div>\n",
       "<style scoped>\n",
       "    .dataframe tbody tr th:only-of-type {\n",
       "        vertical-align: middle;\n",
       "    }\n",
       "\n",
       "    .dataframe tbody tr th {\n",
       "        vertical-align: top;\n",
       "    }\n",
       "\n",
       "    .dataframe thead th {\n",
       "        text-align: right;\n",
       "    }\n",
       "</style>\n",
       "<table border=\"1\" class=\"dataframe\">\n",
       "  <thead>\n",
       "    <tr style=\"text-align: right;\">\n",
       "      <th></th>\n",
       "      <th>mi</th>\n",
       "      <th>co</th>\n",
       "      <th>both</th>\n",
       "    </tr>\n",
       "  </thead>\n",
       "  <tbody>\n",
       "    <tr>\n",
       "      <th>made_purchase</th>\n",
       "      <td>6.214473e-01</td>\n",
       "      <td>1.000000</td>\n",
       "      <td>0.621447</td>\n",
       "    </tr>\n",
       "    <tr>\n",
       "      <th>mean_time_per_product</th>\n",
       "      <td>3.896305e-01</td>\n",
       "      <td>0.608291</td>\n",
       "      <td>0.237009</td>\n",
       "    </tr>\n",
       "    <tr>\n",
       "      <th>total_duration</th>\n",
       "      <td>1.866328e-01</td>\n",
       "      <td>0.160572</td>\n",
       "      <td>0.029968</td>\n",
       "    </tr>\n",
       "    <tr>\n",
       "      <th>mean_event_duration</th>\n",
       "      <td>2.038935e-01</td>\n",
       "      <td>0.037262</td>\n",
       "      <td>0.007597</td>\n",
       "    </tr>\n",
       "    <tr>\n",
       "      <th>events_count</th>\n",
       "      <td>1.053808e-01</td>\n",
       "      <td>0.056347</td>\n",
       "      <td>0.005938</td>\n",
       "    </tr>\n",
       "    <tr>\n",
       "      <th>...</th>\n",
       "      <td>...</td>\n",
       "      <td>...</td>\n",
       "      <td>...</td>\n",
       "    </tr>\n",
       "    <tr>\n",
       "      <th>telewizory i akcesoria</th>\n",
       "      <td>2.179986e-04</td>\n",
       "      <td>NaN</td>\n",
       "      <td>NaN</td>\n",
       "    </tr>\n",
       "    <tr>\n",
       "      <th>zestawy głośnomówiące</th>\n",
       "      <td>6.095102e-07</td>\n",
       "      <td>NaN</td>\n",
       "      <td>NaN</td>\n",
       "    </tr>\n",
       "    <tr>\n",
       "      <th>zestawy słuchawkowe</th>\n",
       "      <td>3.283410e-03</td>\n",
       "      <td>NaN</td>\n",
       "      <td>NaN</td>\n",
       "    </tr>\n",
       "    <tr>\n",
       "      <th>anteny rtv</th>\n",
       "      <td>7.144750e-04</td>\n",
       "      <td>NaN</td>\n",
       "      <td>NaN</td>\n",
       "    </tr>\n",
       "    <tr>\n",
       "      <th>okulary 3d</th>\n",
       "      <td>2.137023e-03</td>\n",
       "      <td>NaN</td>\n",
       "      <td>NaN</td>\n",
       "    </tr>\n",
       "  </tbody>\n",
       "</table>\n",
       "<p>118 rows × 3 columns</p>\n",
       "</div>"
      ],
      "text/plain": [
       "                                  mi        co      both\n",
       "made_purchase           6.214473e-01  1.000000  0.621447\n",
       "mean_time_per_product   3.896305e-01  0.608291  0.237009\n",
       "total_duration          1.866328e-01  0.160572  0.029968\n",
       "mean_event_duration     2.038935e-01  0.037262  0.007597\n",
       "events_count            1.053808e-01  0.056347  0.005938\n",
       "...                              ...       ...       ...\n",
       "telewizory i akcesoria  2.179986e-04       NaN       NaN\n",
       "zestawy głośnomówiące   6.095102e-07       NaN       NaN\n",
       "zestawy słuchawkowe     3.283410e-03       NaN       NaN\n",
       "anteny rtv              7.144750e-04       NaN       NaN\n",
       "okulary 3d              2.137023e-03       NaN       NaN\n",
       "\n",
       "[118 rows x 3 columns]"
      ]
     },
     "execution_count": 20,
     "metadata": {},
     "output_type": "execute_result"
    }
   ],
   "source": [
    "columns = preprocessed.columns.to_series()\n",
    "mutual_info = columns.apply(lambda c: metrics.mutual_info_score(preprocessed[c], preprocessed.made_purchase))\n",
    "corr = features.corr().made_purchase\n",
    "information = pd.DataFrame(data={'mi': mutual_info, 'co': corr.abs(), 'both': mutual_info * corr.abs()})\n",
    "information.sort_values(by='both', ascending=False)"
   ]
  },
  {
   "cell_type": "markdown",
   "metadata": {},
   "source": [
    "Having this information, now it's time to test most promissing subsets of features and pick the best result in terms of overall model score."
   ]
  },
  {
   "cell_type": "markdown",
   "metadata": {},
   "source": [
    "## Testing features"
   ]
  },
  {
   "cell_type": "code",
   "execution_count": 21,
   "metadata": {},
   "outputs": [],
   "source": [
    "def take_n_best(df, n):\n",
    "    return "
   ]
  },
  {
   "cell_type": "code",
   "execution_count": 22,
   "metadata": {},
   "outputs": [],
   "source": [
    "def test_features(df: pd.DataFrame, indicator: pd.Series):\n",
    "    results = pd.DataFrame(columns=['features', 'score'])\n",
    "    for f in range(len(df.columns), 2, -5):\n",
    "        best = indicator.nlargest(f).index\n",
    "        take_n_best = lambda df: df[best]\n",
    "        score = train_and_test(features.reset_index(drop=True), preprocessing + [take_n_best], runs=1, silent=True)\n",
    "        results = results.append({'count': int(f-1), 'score': score, 'features': best}, ignore_index=True)\n",
    "    return results"
   ]
  },
  {
   "cell_type": "markdown",
   "metadata": {},
   "source": [
    "### Based on mutual information and correlation"
   ]
  },
  {
   "cell_type": "code",
   "execution_count": 23,
   "metadata": {},
   "outputs": [
    {
     "data": {
      "text/html": [
       "<div>\n",
       "<style scoped>\n",
       "    .dataframe tbody tr th:only-of-type {\n",
       "        vertical-align: middle;\n",
       "    }\n",
       "\n",
       "    .dataframe tbody tr th {\n",
       "        vertical-align: top;\n",
       "    }\n",
       "\n",
       "    .dataframe thead th {\n",
       "        text-align: right;\n",
       "    }\n",
       "</style>\n",
       "<table border=\"1\" class=\"dataframe\">\n",
       "  <thead>\n",
       "    <tr style=\"text-align: right;\">\n",
       "      <th></th>\n",
       "      <th>features</th>\n",
       "      <th>score</th>\n",
       "      <th>count</th>\n",
       "    </tr>\n",
       "  </thead>\n",
       "  <tbody>\n",
       "    <tr>\n",
       "      <th>22</th>\n",
       "      <td>Index(['made_purchase', 'mean_time_per_product...</td>\n",
       "      <td>0.996998</td>\n",
       "      <td>7.0</td>\n",
       "    </tr>\n",
       "    <tr>\n",
       "      <th>21</th>\n",
       "      <td>Index(['made_purchase', 'mean_time_per_product...</td>\n",
       "      <td>0.986707</td>\n",
       "      <td>12.0</td>\n",
       "    </tr>\n",
       "  </tbody>\n",
       "</table>\n",
       "</div>"
      ],
      "text/plain": [
       "                                             features     score  count\n",
       "22  Index(['made_purchase', 'mean_time_per_product...  0.996998    7.0\n",
       "21  Index(['made_purchase', 'mean_time_per_product...  0.986707   12.0"
      ]
     },
     "execution_count": 23,
     "metadata": {},
     "output_type": "execute_result"
    }
   ],
   "source": [
    "results_both = test_features(preprocessed, information.both)\n",
    "results_both.sort_values(by='score', ascending=False).head(2)"
   ]
  },
  {
   "cell_type": "markdown",
   "metadata": {},
   "source": [
    "### Based on correlation"
   ]
  },
  {
   "cell_type": "code",
   "execution_count": 24,
   "metadata": {},
   "outputs": [
    {
     "data": {
      "text/html": [
       "<div>\n",
       "<style scoped>\n",
       "    .dataframe tbody tr th:only-of-type {\n",
       "        vertical-align: middle;\n",
       "    }\n",
       "\n",
       "    .dataframe tbody tr th {\n",
       "        vertical-align: top;\n",
       "    }\n",
       "\n",
       "    .dataframe thead th {\n",
       "        text-align: right;\n",
       "    }\n",
       "</style>\n",
       "<table border=\"1\" class=\"dataframe\">\n",
       "  <thead>\n",
       "    <tr style=\"text-align: right;\">\n",
       "      <th></th>\n",
       "      <th>features</th>\n",
       "      <th>score</th>\n",
       "      <th>count</th>\n",
       "    </tr>\n",
       "  </thead>\n",
       "  <tbody>\n",
       "    <tr>\n",
       "      <th>22</th>\n",
       "      <td>Index(['made_purchase', 'mean_time_per_product...</td>\n",
       "      <td>0.997427</td>\n",
       "      <td>7.0</td>\n",
       "    </tr>\n",
       "    <tr>\n",
       "      <th>21</th>\n",
       "      <td>Index(['made_purchase', 'mean_time_per_product...</td>\n",
       "      <td>0.995283</td>\n",
       "      <td>12.0</td>\n",
       "    </tr>\n",
       "  </tbody>\n",
       "</table>\n",
       "</div>"
      ],
      "text/plain": [
       "                                             features     score  count\n",
       "22  Index(['made_purchase', 'mean_time_per_product...  0.997427    7.0\n",
       "21  Index(['made_purchase', 'mean_time_per_product...  0.995283   12.0"
      ]
     },
     "execution_count": 24,
     "metadata": {},
     "output_type": "execute_result"
    }
   ],
   "source": [
    "results_co = test_features(preprocessed, information.co)\n",
    "results_co.sort_values(by='score', ascending=False).head(2)"
   ]
  },
  {
   "cell_type": "markdown",
   "metadata": {},
   "source": [
    "### Based on mutual information"
   ]
  },
  {
   "cell_type": "code",
   "execution_count": 25,
   "metadata": {},
   "outputs": [
    {
     "data": {
      "text/html": [
       "<div>\n",
       "<style scoped>\n",
       "    .dataframe tbody tr th:only-of-type {\n",
       "        vertical-align: middle;\n",
       "    }\n",
       "\n",
       "    .dataframe tbody tr th {\n",
       "        vertical-align: top;\n",
       "    }\n",
       "\n",
       "    .dataframe thead th {\n",
       "        text-align: right;\n",
       "    }\n",
       "</style>\n",
       "<table border=\"1\" class=\"dataframe\">\n",
       "  <thead>\n",
       "    <tr style=\"text-align: right;\">\n",
       "      <th></th>\n",
       "      <th>features</th>\n",
       "      <th>score</th>\n",
       "      <th>count</th>\n",
       "    </tr>\n",
       "  </thead>\n",
       "  <tbody>\n",
       "    <tr>\n",
       "      <th>21</th>\n",
       "      <td>Index([        'made_purchase', 'mean_time_per...</td>\n",
       "      <td>0.996998</td>\n",
       "      <td>12.0</td>\n",
       "    </tr>\n",
       "    <tr>\n",
       "      <th>19</th>\n",
       "      <td>Index([                    'made_purchase',\n",
       "  ...</td>\n",
       "      <td>0.995712</td>\n",
       "      <td>22.0</td>\n",
       "    </tr>\n",
       "  </tbody>\n",
       "</table>\n",
       "</div>"
      ],
      "text/plain": [
       "                                             features     score  count\n",
       "21  Index([        'made_purchase', 'mean_time_per...  0.996998   12.0\n",
       "19  Index([                    'made_purchase',\n",
       "  ...  0.995712   22.0"
      ]
     },
     "execution_count": 25,
     "metadata": {},
     "output_type": "execute_result"
    }
   ],
   "source": [
    "results_mi = test_features(preprocessed, information.mi)\n",
    "results_mi.sort_values(by='score', ascending=False).head(2)"
   ]
  },
  {
   "cell_type": "markdown",
   "metadata": {},
   "source": [
    "## Comparison"
   ]
  },
  {
   "cell_type": "code",
   "execution_count": 26,
   "metadata": {
    "scrolled": true
   },
   "outputs": [
    {
     "data": {
      "text/plain": [
       "<matplotlib.axes._subplots.AxesSubplot at 0x7fcbabbbb810>"
      ]
     },
     "execution_count": 26,
     "metadata": {},
     "output_type": "execute_result"
    },
    {
     "data": {
      "image/png": "[encoded data removed]",
      "text/plain": [
       "<Figure size 432x288 with 1 Axes>"
      ]
     },
     "metadata": {
      "needs_background": "light"
     },
     "output_type": "display_data"
    }
   ],
   "source": [
    "res = []\n",
    "res.append(results_both[['count']])\n",
    "res.append(results_both[['score']].add_prefix('both_'))\n",
    "res.append(results_co[['score']].add_prefix('co_'))\n",
    "res.append(results_mi[['score']].add_prefix('mi_'))\n",
    "pd.concat(res, axis=1).plot(x='count', y=['both_score', 'co_score', 'mi_score'])"
   ]
  },
  {
   "cell_type": "code",
   "execution_count": 44,
   "metadata": {
    "scrolled": false
   },
   "outputs": [
    {
     "name": "stdout",
     "output_type": "stream",
     "text": [
      "Best results obtained with 7 features\n"
     ]
    }
   ],
   "source": [
    "all_results = pd.concat([results_both, results_co, results_mi], axis=0).reset_index()\n",
    "best_result = all_results.loc[all_results.score.idxmax()]\n",
    "best_result = best_result.append(pd.Series(['made_purchase'], index=['y']))\n",
    "print(f'Best results obtained with {int(best_result[\"count\"])} features')\n",
    "best_features = preprocessed[best_result.features]\n",
    "preprocessing = [encode_multi_hot, normalize_numeric, lambda df: df[best_result.features]]"
   ]
  },
  {
   "cell_type": "markdown",
   "metadata": {},
   "source": [
    "# Final training"
   ]
  },
  {
   "cell_type": "code",
   "execution_count": 48,
   "metadata": {},
   "outputs": [
    {
     "data": {
      "text/plain": [
       "SVC()"
      ]
     },
     "execution_count": 48,
     "metadata": {},
     "output_type": "execute_result"
    }
   ],
   "source": [
    "final_train = pd.read_pickle('data/features_develop.pickle')\n",
    "final_train = final_train.drop(['delivery_duration', 'syntetic_delivery_duration', 'products_bought'], axis=1)\n",
    "for func in preprocessing:\n",
    "    final_train = func(final)\n",
    "y_col = 'made_purchase'\n",
    "clf = svm.SVC()\n",
    "clf.fit(final_train.drop(y_col, axis=1), final_train[y_col])"
   ]
  },
  {
   "cell_type": "markdown",
   "metadata": {},
   "source": [
    "# Final testing"
   ]
  },
  {
   "cell_type": "code",
   "execution_count": null,
   "metadata": {},
   "outputs": [],
   "source": [
    "final_testing = pd.read_pickle('data/features_prod.pickle')\n",
    "final_testing = final_testing.drop(['delivery_duration', 'syntetic_delivery_duration', 'products_bought'], axis=1)\n",
    "for func in preprocessing:\n",
    "    final_testing = func(final)\n",
    "final_testing.assign(**{c:False for c in list(final_training.columns) if c not in set(final_testing.columns)})\n",
    "y_col = 'made_purchase'\n",
    "correct = final_testing[y_col] == clf.predict(final_testing[x_cols])\n",
    "score = correct.sum() / len(correct)"
   ]
  },
  {
   "cell_type": "markdown",
   "metadata": {},
   "source": [
    "# Saving model"
   ]
  },
  {
   "cell_type": "code",
   "execution_count": 29,
   "metadata": {},
   "outputs": [
    {
     "data": {
      "text/plain": [
       "index                                                      22\n",
       "features    Index(['made_purchase', 'mean_time_per_product...\n",
       "score                                                0.997427\n",
       "count                                                       7\n",
       "y                                               made_purchase\n",
       "dtype: object"
      ]
     },
     "execution_count": 29,
     "metadata": {},
     "output_type": "execute_result"
    }
   ],
   "source": [
    "best_result"
   ]
  },
  {
   "cell_type": "code",
   "execution_count": 30,
   "metadata": {},
   "outputs": [],
   "source": [
    "dump(clf, 'data/model_b.joblib') \n",
    "best_result.to_pickle('data/model_b_metadata.pickle')\n",
    "preprocessed[best_result.features].describe().to_pickle('data/model_b_data.pickle')"
   ]
  }
 ],
 "metadata": {
  "kernelspec": {
   "display_name": "local",
   "language": "python",
   "name": "local"
  },
  "language_info": {
   "codemirror_mode": {
    "name": "ipython",
    "version": 3
   },
   "file_extension": ".py",
   "mimetype": "text/x-python",
   "name": "python",
   "nbconvert_exporter": "python",
   "pygments_lexer": "ipython3",
   "version": "3.7.7"
  }
 },
 "nbformat": 4,
 "nbformat_minor": 4
}
