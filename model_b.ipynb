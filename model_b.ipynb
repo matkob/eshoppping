{
 "cells": [
  {
   "cell_type": "code",
   "execution_count": 1,
   "metadata": {},
   "outputs": [],
   "source": [
    "import pandas as pd\n",
    "import numpy as np\n",
    "import random\n",
    "from joblib import dump, load\n",
    "from sklearn import svm\n",
    "from sklearn.model_selection import train_test_split\n",
    "import matplotlib.pyplot as plt\n",
    "from sklearn import metrics\n",
    "import statistics"
   ]
  },
  {
   "cell_type": "code",
   "execution_count": 2,
   "metadata": {},
   "outputs": [],
   "source": [
    "features = pd.read_pickle('data/features_develop.pickle')"
   ]
  },
  {
   "cell_type": "markdown",
   "metadata": {},
   "source": [
    "Delivery info is appended after purchase - it makes no sense to take those columns as features because prediction about conversion takes place before purchase. Same with products_bought column."
   ]
  },
  {
   "cell_type": "code",
   "execution_count": 45,
   "metadata": {},
   "outputs": [],
   "source": [
    "def train_and_test(df: pd.DataFrame, preprocess, runs=1, silent=False):\n",
    "    scores = []\n",
    "    for i in range(runs):\n",
    "        train, test = train_test_split(df, test_size=0.3)\n",
    "        for func in preprocess:\n",
    "            train = func(train)\n",
    "            test = func(test)\n",
    "        test = test.assign(**{str(c): False for c in train.columns if c not in set(test.columns)})\n",
    "        clf = svm.SVC()\n",
    "        y_col = 'made_purchase'\n",
    "        x_cols = train.drop(y_col, axis=1).columns\n",
    "        clf.fit(train[x_cols], train[y_col])\n",
    "        correct = test[y_col] == clf.predict(test[x_cols])\n",
    "        scores.append(correct.sum() / len(correct))\n",
    "    score = statistics.mean(scores)\n",
    "    if not silent:\n",
    "        print(f'The score of model B is {round(score, 4)}')\n",
    "    return score"
   ]
  },
  {
   "cell_type": "markdown",
   "metadata": {},
   "source": [
    "This function will be used to quickly calculate score of our model."
   ]
  },
  {
   "cell_type": "markdown",
   "metadata": {},
   "source": [
    "# Preprocessing"
   ]
  },
  {
   "cell_type": "code",
   "execution_count": 4,
   "metadata": {},
   "outputs": [
    {
     "data": {
      "text/plain": [
       "made_purchase               bool\n",
       "events_count               int64\n",
       "views                      int64\n",
       "total_duration           float64\n",
       "mean_duration            float64\n",
       "products_viewed            int64\n",
       "mean_time_per_product    float64\n",
       "user_id                  float64\n",
       "female                      bool\n",
       "product_ids               object\n",
       "weekday_cos              float64\n",
       "weekday_sin              float64\n",
       "hour_cos                 float64\n",
       "hour_sin                 float64\n",
       "cat_0                     object\n",
       "cat_1                     object\n",
       "cat_2                     object\n",
       "cat_3                     object\n",
       "syntetic_duration           bool\n",
       "dtype: object"
      ]
     },
     "execution_count": 4,
     "metadata": {},
     "output_type": "execute_result"
    }
   ],
   "source": [
    "features.dtypes"
   ]
  },
  {
   "cell_type": "markdown",
   "metadata": {},
   "source": [
    "Feature matrix contains mostly real number or integer values but there are some non numerical types that we must take care of."
   ]
  },
  {
   "cell_type": "markdown",
   "metadata": {},
   "source": [
    "## Label encoding"
   ]
  },
  {
   "cell_type": "markdown",
   "metadata": {},
   "source": [
    "Our dataset contains categorical features that must be encoded."
   ]
  },
  {
   "cell_type": "code",
   "execution_count": 5,
   "metadata": {
    "scrolled": true
   },
   "outputs": [
    {
     "data": {
      "text/html": [
       "<div>\n",
       "<style scoped>\n",
       "    .dataframe tbody tr th:only-of-type {\n",
       "        vertical-align: middle;\n",
       "    }\n",
       "\n",
       "    .dataframe tbody tr th {\n",
       "        vertical-align: top;\n",
       "    }\n",
       "\n",
       "    .dataframe thead th {\n",
       "        text-align: right;\n",
       "    }\n",
       "</style>\n",
       "<table border=\"1\" class=\"dataframe\">\n",
       "  <thead>\n",
       "    <tr style=\"text-align: right;\">\n",
       "      <th></th>\n",
       "      <th>product_ids</th>\n",
       "      <th>cat_0</th>\n",
       "      <th>cat_1</th>\n",
       "      <th>cat_2</th>\n",
       "      <th>cat_3</th>\n",
       "    </tr>\n",
       "  </thead>\n",
       "  <tbody>\n",
       "    <tr>\n",
       "      <th>13164</th>\n",
       "      <td>{1288.0, 1284.0, 1293.0, 1286.0}</td>\n",
       "      <td>{sprzęt rtv}</td>\n",
       "      <td>{video}</td>\n",
       "      <td>{telewizory i akcesoria}</td>\n",
       "      <td>{anteny rtv}</td>\n",
       "    </tr>\n",
       "    <tr>\n",
       "      <th>30418</th>\n",
       "      <td>{1077.0, 1078.0}</td>\n",
       "      <td>{komputery}</td>\n",
       "      <td>{drukarki i skanery}</td>\n",
       "      <td>{biurowe urządzenia wielofunkcyjne}</td>\n",
       "      <td>{nan}</td>\n",
       "    </tr>\n",
       "    <tr>\n",
       "      <th>25999</th>\n",
       "      <td>{1004.0, 1005.0, 1008.0, 1012.0, 1013.0}</td>\n",
       "      <td>{gry i konsole}</td>\n",
       "      <td>{gry na konsole}</td>\n",
       "      <td>{gry xbox 360}</td>\n",
       "      <td>{nan}</td>\n",
       "    </tr>\n",
       "    <tr>\n",
       "      <th>26835</th>\n",
       "      <td>{1032.0, 1034.0, 1037.0, 1038.0, 1039.0, 1017.0}</td>\n",
       "      <td>{komputery}</td>\n",
       "      <td>{monitory}</td>\n",
       "      <td>{monitory lcd}</td>\n",
       "      <td>{nan}</td>\n",
       "    </tr>\n",
       "    <tr>\n",
       "      <th>5998</th>\n",
       "      <td>{1080.0, 1002.0, 1076.0, 1079.0}</td>\n",
       "      <td>{komputery}</td>\n",
       "      <td>{drukarki i skanery}</td>\n",
       "      <td>{biurowe urządzenia wielofunkcyjne}</td>\n",
       "      <td>{nan}</td>\n",
       "    </tr>\n",
       "  </tbody>\n",
       "</table>\n",
       "</div>"
      ],
      "text/plain": [
       "                                            product_ids            cat_0  \\\n",
       "13164                  {1288.0, 1284.0, 1293.0, 1286.0}     {sprzęt rtv}   \n",
       "30418                                  {1077.0, 1078.0}      {komputery}   \n",
       "25999          {1004.0, 1005.0, 1008.0, 1012.0, 1013.0}  {gry i konsole}   \n",
       "26835  {1032.0, 1034.0, 1037.0, 1038.0, 1039.0, 1017.0}      {komputery}   \n",
       "5998                   {1080.0, 1002.0, 1076.0, 1079.0}      {komputery}   \n",
       "\n",
       "                      cat_1                                cat_2         cat_3  \n",
       "13164               {video}             {telewizory i akcesoria}  {anteny rtv}  \n",
       "30418  {drukarki i skanery}  {biurowe urządzenia wielofunkcyjne}         {nan}  \n",
       "25999      {gry na konsole}                       {gry xbox 360}         {nan}  \n",
       "26835            {monitory}                       {monitory lcd}         {nan}  \n",
       "5998   {drukarki i skanery}  {biurowe urządzenia wielofunkcyjne}         {nan}  "
      ]
     },
     "execution_count": 5,
     "metadata": {},
     "output_type": "execute_result"
    }
   ],
   "source": [
    "objects = features.select_dtypes(include=['object']).columns\n",
    "features[objects].head()"
   ]
  },
  {
   "cell_type": "markdown",
   "metadata": {},
   "source": [
    "Because those columns are sets of categories, there are at least two ways we can encode them."
   ]
  },
  {
   "cell_type": "markdown",
   "metadata": {},
   "source": [
    "### One hot encoding"
   ]
  },
  {
   "cell_type": "code",
   "execution_count": 64,
   "metadata": {},
   "outputs": [],
   "source": [
    "def encode_one_hot(df):\n",
    "    objects = df.select_dtypes(include=['object']).columns\n",
    "    encoded_objects = []\n",
    "    for col in objects:\n",
    "        encoded_objects.append(pd.get_dummies(df[col].apply(str)))\n",
    "    return pd.concat([df.drop(objects, axis=1)] + encoded_objects, axis=1)"
   ]
  },
  {
   "cell_type": "code",
   "execution_count": 7,
   "metadata": {},
   "outputs": [
    {
     "data": {
      "text/plain": [
       "(23595, 3584)"
      ]
     },
     "execution_count": 7,
     "metadata": {},
     "output_type": "execute_result"
    }
   ],
   "source": [
    "one_hot = encode_one_hot(features)\n",
    "one_hot.shape"
   ]
  },
  {
   "cell_type": "code",
   "execution_count": 8,
   "metadata": {
    "scrolled": false
   },
   "outputs": [],
   "source": [
    "# train_and_test(features.reset_index(drop=True), [encode_one_hot]) (takes very long)"
   ]
  },
  {
   "cell_type": "markdown",
   "metadata": {},
   "source": [
    "After performing one hot encoding on columns that are sets of labels we've got many more features - those could be reduced if we encoded the presence of any particular category with a boolean flag. That would drastically improve training and testing time as it takes more than 15 mins to do so using one-hot-encoded data."
   ]
  },
  {
   "cell_type": "markdown",
   "metadata": {},
   "source": [
    "### Multi hot encoding"
   ]
  },
  {
   "cell_type": "markdown",
   "metadata": {},
   "source": [
    "Multi hot encoding means creating one column per category and setting boolean flag as True if a set of labels contains it. This also means that one value (set of labels) is mapped to boolean vector that could potentially have more than one flag set to True. This property makes sense in case of additivity - set of one label plus another label equals two labels (same with boolean columns) and leads to fewer features in outcomig dataset. We will try and create another DataFrame, this time using the second technique."
   ]
  },
  {
   "cell_type": "code",
   "execution_count": 65,
   "metadata": {},
   "outputs": [],
   "source": [
    "def multi_hot_encoder(s: pd.Series):\n",
    "    result = pd.DataFrame(index=s.index)\n",
    "    numpy_data = pd.DataFrame(s.apply(list).tolist()).to_numpy()\n",
    "    clean = numpy_data[np.logical_not(pd.isna(numpy_data))]\n",
    "    unique = np.unique(clean)    \n",
    "    for c in unique:\n",
    "        result[c] = s.apply(lambda r: c in r)\n",
    "    return result"
   ]
  },
  {
   "cell_type": "code",
   "execution_count": 61,
   "metadata": {},
   "outputs": [],
   "source": [
    "def encode_multi_hot(df):\n",
    "    objects = df.select_dtypes(include=['object']).columns\n",
    "    encoded_objects = []\n",
    "    for col in objects:\n",
    "        encoded_objects.append(multi_hot_encoder(df[col]))\n",
    "    multi_hot = df.drop(objects, axis=1)\n",
    "    return pd.concat([multi_hot] + encoded_objects, axis=1)    "
   ]
  },
  {
   "cell_type": "code",
   "execution_count": 11,
   "metadata": {
    "scrolled": false
   },
   "outputs": [
    {
     "data": {
      "text/plain": [
       "(23595, 115)"
      ]
     },
     "execution_count": 11,
     "metadata": {},
     "output_type": "execute_result"
    }
   ],
   "source": [
    "multi_hot = encode_multi_hot(features)\n",
    "multi_hot.shape"
   ]
  },
  {
   "cell_type": "markdown",
   "metadata": {},
   "source": [
    "That method returned an encoded dataset with as few as 115 features."
   ]
  },
  {
   "cell_type": "code",
   "execution_count": 63,
   "metadata": {},
   "outputs": [
    {
     "name": "stdout",
     "output_type": "stream",
     "text": [
      "The score of model B is 0.7535\n"
     ]
    }
   ],
   "source": [
    "train, test = train_test_split(features, test_size=0.3)\n",
    "train = encode_multi_hot(train)\n",
    "test = encode_multi_hot(test)\n",
    "test = test.assign(**{str(c): False for c in train.columns if c not in set(test.columns)})\n",
    "clf = svm.SVC()\n",
    "\n",
    "y_col = 'made_purchase'\n",
    "x_cols = train.drop(y_col, axis=1).columns\n",
    "clf.fit(train[x_cols], train[y_col])\n",
    "correct = test[y_col] == clf.predict(test[x_cols])\n",
    "score = correct.sum() / len(correct)\n",
    "print(f'The score of model B is {round(score, 4)}')"
   ]
  },
  {
   "cell_type": "markdown",
   "metadata": {},
   "source": [
    "Dataset created with multi hot encoding technique takes less time to process and gives really promissing results. We will use it in further preprocessing processes."
   ]
  },
  {
   "cell_type": "code",
   "execution_count": 49,
   "metadata": {},
   "outputs": [],
   "source": [
    "preprocessing = [encode_multi_hot]"
   ]
  },
  {
   "cell_type": "markdown",
   "metadata": {},
   "source": [
    "## User id"
   ]
  },
  {
   "cell_type": "markdown",
   "metadata": {},
   "source": [
    "User id although a number can not be treated as one. In this case we use one hot encoding to encode its possible values."
   ]
  },
  {
   "cell_type": "code",
   "execution_count": 59,
   "metadata": {},
   "outputs": [],
   "source": [
    "def one_hot_user(df):\n",
    "    encoded = pd.concat([df.drop('user_id', axis=1), pd.get_dummies(df.user_id)], axis=1) \n",
    "    encoded.columns = [str(c) for c in list(encoded.columns)]\n",
    "    return encoded"
   ]
  },
  {
   "cell_type": "code",
   "execution_count": 51,
   "metadata": {},
   "outputs": [],
   "source": [
    "preprocessed = features\n",
    "for func in preprocessing:\n",
    "    preprocessed = func(preprocessed)"
   ]
  },
  {
   "cell_type": "code",
   "execution_count": 52,
   "metadata": {},
   "outputs": [
    {
     "data": {
      "text/plain": [
       "(23595, 314)"
      ]
     },
     "execution_count": 52,
     "metadata": {},
     "output_type": "execute_result"
    }
   ],
   "source": [
    "user_id_encoded = one_hot_user(preprocessed)\n",
    "user_id_encoded.shape"
   ]
  },
  {
   "cell_type": "code",
   "execution_count": 66,
   "metadata": {},
   "outputs": [
    {
     "name": "stdout",
     "output_type": "stream",
     "text": [
      "The score of model B is 0.7532\n"
     ]
    }
   ],
   "source": [
    "train, test = train_test_split(features, test_size=0.3)\n",
    "train = one_hot_user(encode_multi_hot(train))\n",
    "test = one_hot_user(encode_multi_hot(test))\n",
    "test = test.assign(**{str(c): False for c in train.columns if c not in set(test.columns)})\n",
    "clf = svm.SVC()\n",
    "\n",
    "y_col = 'made_purchase'\n",
    "x_cols = train.drop(y_col, axis=1).columns\n",
    "clf.fit(train[x_cols], train[y_col])\n",
    "correct = test[y_col] == clf.predict(test[x_cols])\n",
    "score = correct.sum() / len(correct)\n",
    "print(f'The score of model B is {round(score, 4)}')"
   ]
  },
  {
   "cell_type": "markdown",
   "metadata": {},
   "source": [
    "The overall score of our model stays pretty much the same."
   ]
  },
  {
   "cell_type": "code",
   "execution_count": 36,
   "metadata": {},
   "outputs": [],
   "source": [
    "preprocessing = [encode_multi_hot, one_hot_user]"
   ]
  },
  {
   "cell_type": "markdown",
   "metadata": {},
   "source": [
    "## Scaling"
   ]
  },
  {
   "cell_type": "code",
   "execution_count": 68,
   "metadata": {},
   "outputs": [],
   "source": [
    "def normalize_numeric(df, mean, std):\n",
    "    numeric = df.select_dtypes(include=['int64', 'float64']).columns\n",
    "    for col in numeric:\n",
    "        df[col] = (df[col] - mean[col]) / std[col]\n",
    "    return df"
   ]
  },
  {
   "cell_type": "code",
   "execution_count": 69,
   "metadata": {},
   "outputs": [
    {
     "name": "stdout",
     "output_type": "stream",
     "text": [
      "The score of model B is 0.8025\n"
     ]
    }
   ],
   "source": [
    "train, test = train_test_split(features, test_size=0.3)\n",
    "numeric = train.select_dtypes(include=['int64', 'float64']).columns\n",
    "mean = train[numeric].mean()\n",
    "std = train[numeric].std()\n",
    "train = normalize_numeric(one_hot_user(encode_multi_hot(train)), mean, std)\n",
    "test = normalize_numeric(one_hot_user(encode_multi_hot(test)), mean, std)\n",
    "test = test.assign(**{str(c): False for c in train.columns if c not in set(test.columns)})\n",
    "clf = svm.SVC()\n",
    "\n",
    "y_col = 'made_purchase'\n",
    "x_cols = train.drop(y_col, axis=1).columns\n",
    "clf.fit(train[x_cols], train[y_col])\n",
    "correct = test[y_col] == clf.predict(test[x_cols])\n",
    "score = correct.sum() / len(correct)\n",
    "print(f'The score of model B is {round(score, 4)}')"
   ]
  },
  {
   "cell_type": "markdown",
   "metadata": {},
   "source": [
    "Normalization helped with our classification problem and now the final score is a bit higher."
   ]
  },
  {
   "cell_type": "code",
   "execution_count": 37,
   "metadata": {},
   "outputs": [],
   "source": [
    "preprocessing = [encode_multi_hot, one_hot_user, normalize_numeric]"
   ]
  },
  {
   "cell_type": "markdown",
   "metadata": {},
   "source": [
    "# Feature selection"
   ]
  },
  {
   "cell_type": "markdown",
   "metadata": {},
   "source": [
    "After dataset encoding now it's time to select only those features that are most informative. Deleting unwanted noise-producing columns will speed up calculations and improve overall model score."
   ]
  },
  {
   "cell_type": "code",
   "execution_count": 70,
   "metadata": {},
   "outputs": [
    {
     "data": {
      "text/plain": [
       "(23595, 314)"
      ]
     },
     "execution_count": 70,
     "metadata": {},
     "output_type": "execute_result"
    }
   ],
   "source": [
    "numeric = features.select_dtypes(include=['int64', 'float64']).columns\n",
    "mean = features[numeric].mean()\n",
    "std = features[numeric].std()\n",
    "preprocessed = normalize_numeric(one_hot_user(encode_multi_hot(features)), mean, std)\n",
    "preprocessed.shape"
   ]
  },
  {
   "cell_type": "code",
   "execution_count": 71,
   "metadata": {},
   "outputs": [],
   "source": [
    "train, test = train_test_split(features, test_size=0.3)\n",
    "numeric = train.select_dtypes(include=['int64', 'float64']).columns\n",
    "mean = train[numeric].mean()\n",
    "std = train[numeric].std()\n",
    "train = normalize_numeric(one_hot_user(encode_multi_hot(train)), mean, std)\n",
    "test = normalize_numeric(one_hot_user(encode_multi_hot(test)), mean, std)\n",
    "test = test.assign(**{str(c): False for c in train.columns if c not in set(test.columns)})"
   ]
  },
  {
   "cell_type": "markdown",
   "metadata": {},
   "source": [
    "## Correlation"
   ]
  },
  {
   "cell_type": "code",
   "execution_count": 72,
   "metadata": {},
   "outputs": [
    {
     "data": {
      "image/png": "[encoded data removed]",
      "text/plain": [
       "<Figure size 1080x1080 with 1 Axes>"
      ]
     },
     "metadata": {
      "needs_background": "light"
     },
     "output_type": "display_data"
    }
   ],
   "source": [
    "f = plt.figure(figsize=(15, 15))\n",
    "plt.matshow(preprocessed.corr(), fignum=f.number)\n",
    "plt.show()"
   ]
  },
  {
   "cell_type": "markdown",
   "metadata": {},
   "source": [
    "This plot shows us that there are features that are not really helpful with our problem. Deleting them will not only speed up learning/predicting processes but also can lead to better performance and scores. Further analysis will be based on mutual information and correlation of the columns in our dataset."
   ]
  },
  {
   "cell_type": "markdown",
   "metadata": {},
   "source": [
    "## Mutual information / correlation table"
   ]
  },
  {
   "cell_type": "code",
   "execution_count": 73,
   "metadata": {},
   "outputs": [
    {
     "data": {
      "text/html": [
       "<div>\n",
       "<style scoped>\n",
       "    .dataframe tbody tr th:only-of-type {\n",
       "        vertical-align: middle;\n",
       "    }\n",
       "\n",
       "    .dataframe tbody tr th {\n",
       "        vertical-align: top;\n",
       "    }\n",
       "\n",
       "    .dataframe thead th {\n",
       "        text-align: right;\n",
       "    }\n",
       "</style>\n",
       "<table border=\"1\" class=\"dataframe\">\n",
       "  <thead>\n",
       "    <tr style=\"text-align: right;\">\n",
       "      <th></th>\n",
       "      <th>mi</th>\n",
       "      <th>co</th>\n",
       "      <th>both</th>\n",
       "    </tr>\n",
       "  </thead>\n",
       "  <tbody>\n",
       "    <tr>\n",
       "      <th>made_purchase</th>\n",
       "      <td>6.356588e-01</td>\n",
       "      <td>1.000000</td>\n",
       "      <td>6.356588e-01</td>\n",
       "    </tr>\n",
       "    <tr>\n",
       "      <th>mean_time_per_product</th>\n",
       "      <td>1.536475e-01</td>\n",
       "      <td>0.182529</td>\n",
       "      <td>2.804514e-02</td>\n",
       "    </tr>\n",
       "    <tr>\n",
       "      <th>total_duration</th>\n",
       "      <td>6.150541e-02</td>\n",
       "      <td>0.067414</td>\n",
       "      <td>4.146333e-03</td>\n",
       "    </tr>\n",
       "    <tr>\n",
       "      <th>mean_duration</th>\n",
       "      <td>9.210130e-02</td>\n",
       "      <td>0.018990</td>\n",
       "      <td>1.749003e-03</td>\n",
       "    </tr>\n",
       "    <tr>\n",
       "      <th>views</th>\n",
       "      <td>1.391631e-02</td>\n",
       "      <td>0.115357</td>\n",
       "      <td>1.605350e-03</td>\n",
       "    </tr>\n",
       "    <tr>\n",
       "      <th>...</th>\n",
       "      <td>...</td>\n",
       "      <td>...</td>\n",
       "      <td>...</td>\n",
       "    </tr>\n",
       "    <tr>\n",
       "      <th>280.0</th>\n",
       "      <td>2.380520e-07</td>\n",
       "      <td>0.000691</td>\n",
       "      <td>1.644986e-10</td>\n",
       "    </tr>\n",
       "    <tr>\n",
       "      <th>158.0</th>\n",
       "      <td>2.143614e-07</td>\n",
       "      <td>0.000656</td>\n",
       "      <td>1.405357e-10</td>\n",
       "    </tr>\n",
       "    <tr>\n",
       "      <th>244.0</th>\n",
       "      <td>8.386454e-08</td>\n",
       "      <td>0.000409</td>\n",
       "      <td>3.431578e-11</td>\n",
       "    </tr>\n",
       "    <tr>\n",
       "      <th>127.0</th>\n",
       "      <td>1.044320e-08</td>\n",
       "      <td>0.000144</td>\n",
       "      <td>1.508956e-12</td>\n",
       "    </tr>\n",
       "    <tr>\n",
       "      <th>219.0</th>\n",
       "      <td>9.981044e-09</td>\n",
       "      <td>0.000141</td>\n",
       "      <td>1.410629e-12</td>\n",
       "    </tr>\n",
       "  </tbody>\n",
       "</table>\n",
       "<p>314 rows × 3 columns</p>\n",
       "</div>"
      ],
      "text/plain": [
       "                                 mi        co          both\n",
       "made_purchase          6.356588e-01  1.000000  6.356588e-01\n",
       "mean_time_per_product  1.536475e-01  0.182529  2.804514e-02\n",
       "total_duration         6.150541e-02  0.067414  4.146333e-03\n",
       "mean_duration          9.210130e-02  0.018990  1.749003e-03\n",
       "views                  1.391631e-02  0.115357  1.605350e-03\n",
       "...                             ...       ...           ...\n",
       "280.0                  2.380520e-07  0.000691  1.644986e-10\n",
       "158.0                  2.143614e-07  0.000656  1.405357e-10\n",
       "244.0                  8.386454e-08  0.000409  3.431578e-11\n",
       "127.0                  1.044320e-08  0.000144  1.508956e-12\n",
       "219.0                  9.981044e-09  0.000141  1.410629e-12\n",
       "\n",
       "[314 rows x 3 columns]"
      ]
     },
     "execution_count": 73,
     "metadata": {},
     "output_type": "execute_result"
    }
   ],
   "source": [
    "columns = preprocessed.columns.to_series()\n",
    "mutual_info = columns.apply(lambda c: metrics.mutual_info_score(preprocessed[c], preprocessed.made_purchase))\n",
    "corr = preprocessed.corr().made_purchase\n",
    "information = pd.DataFrame(data={'mi': mutual_info, 'co': corr.abs(), 'both': mutual_info * corr.abs()})\n",
    "information.sort_values(by='both', ascending=False)"
   ]
  },
  {
   "cell_type": "markdown",
   "metadata": {},
   "source": [
    "Having this information, now it's time to test most promissing subsets of features and pick the best result in terms of overall model score."
   ]
  },
  {
   "cell_type": "markdown",
   "metadata": {},
   "source": [
    "## Testing features"
   ]
  },
  {
   "cell_type": "code",
   "execution_count": 74,
   "metadata": {},
   "outputs": [],
   "source": [
    "def test_features(indicator: pd.Series):\n",
    "    results = pd.DataFrame(columns=['features', 'score'])\n",
    "    for f in range(len(indicator), 2, -100):\n",
    "        best = indicator.nlargest(f).index\n",
    "        clf = svm.SVC()\n",
    "        y_col = 'made_purchase'\n",
    "        x_cols = [c for c in train.drop(y_col, axis=1).columns if c in best]\n",
    "        clf.fit(train[x_cols], train[y_col])\n",
    "        correct = test[y_col] == clf.predict(test[x_cols])\n",
    "        score = correct.sum() / len(correct)\n",
    "        results = results.append({'count': int(f-1), 'score': score, 'features': best}, ignore_index=True)\n",
    "    return results"
   ]
  },
  {
   "cell_type": "markdown",
   "metadata": {},
   "source": [
    "### Based on mutual information and correlation"
   ]
  },
  {
   "cell_type": "code",
   "execution_count": 75,
   "metadata": {},
   "outputs": [
    {
     "data": {
      "text/html": [
       "<div>\n",
       "<style scoped>\n",
       "    .dataframe tbody tr th:only-of-type {\n",
       "        vertical-align: middle;\n",
       "    }\n",
       "\n",
       "    .dataframe tbody tr th {\n",
       "        vertical-align: top;\n",
       "    }\n",
       "\n",
       "    .dataframe thead th {\n",
       "        text-align: right;\n",
       "    }\n",
       "</style>\n",
       "<table border=\"1\" class=\"dataframe\">\n",
       "  <thead>\n",
       "    <tr style=\"text-align: right;\">\n",
       "      <th></th>\n",
       "      <th>features</th>\n",
       "      <th>score</th>\n",
       "      <th>count</th>\n",
       "    </tr>\n",
       "  </thead>\n",
       "  <tbody>\n",
       "    <tr>\n",
       "      <th>0</th>\n",
       "      <td>Index(['made_purchase', 'mean_time_per_product...</td>\n",
       "      <td>0.812403</td>\n",
       "      <td>313.0</td>\n",
       "    </tr>\n",
       "    <tr>\n",
       "      <th>1</th>\n",
       "      <td>Index(['made_purchase', 'mean_time_per_product...</td>\n",
       "      <td>0.790083</td>\n",
       "      <td>213.0</td>\n",
       "    </tr>\n",
       "  </tbody>\n",
       "</table>\n",
       "</div>"
      ],
      "text/plain": [
       "                                            features     score  count\n",
       "0  Index(['made_purchase', 'mean_time_per_product...  0.812403  313.0\n",
       "1  Index(['made_purchase', 'mean_time_per_product...  0.790083  213.0"
      ]
     },
     "execution_count": 75,
     "metadata": {},
     "output_type": "execute_result"
    }
   ],
   "source": [
    "results_both = test_features(information.both)\n",
    "results_both.sort_values(by='score', ascending=False).head(2)"
   ]
  },
  {
   "cell_type": "markdown",
   "metadata": {},
   "source": [
    "### Based on correlation"
   ]
  },
  {
   "cell_type": "code",
   "execution_count": 76,
   "metadata": {},
   "outputs": [
    {
     "data": {
      "text/html": [
       "<div>\n",
       "<style scoped>\n",
       "    .dataframe tbody tr th:only-of-type {\n",
       "        vertical-align: middle;\n",
       "    }\n",
       "\n",
       "    .dataframe tbody tr th {\n",
       "        vertical-align: top;\n",
       "    }\n",
       "\n",
       "    .dataframe thead th {\n",
       "        text-align: right;\n",
       "    }\n",
       "</style>\n",
       "<table border=\"1\" class=\"dataframe\">\n",
       "  <thead>\n",
       "    <tr style=\"text-align: right;\">\n",
       "      <th></th>\n",
       "      <th>features</th>\n",
       "      <th>score</th>\n",
       "      <th>count</th>\n",
       "    </tr>\n",
       "  </thead>\n",
       "  <tbody>\n",
       "    <tr>\n",
       "      <th>0</th>\n",
       "      <td>Index(['made_purchase', 'mean_time_per_product...</td>\n",
       "      <td>0.812403</td>\n",
       "      <td>313.0</td>\n",
       "    </tr>\n",
       "    <tr>\n",
       "      <th>1</th>\n",
       "      <td>Index(['made_purchase', 'mean_time_per_product...</td>\n",
       "      <td>0.790225</td>\n",
       "      <td>213.0</td>\n",
       "    </tr>\n",
       "  </tbody>\n",
       "</table>\n",
       "</div>"
      ],
      "text/plain": [
       "                                            features     score  count\n",
       "0  Index(['made_purchase', 'mean_time_per_product...  0.812403  313.0\n",
       "1  Index(['made_purchase', 'mean_time_per_product...  0.790225  213.0"
      ]
     },
     "execution_count": 76,
     "metadata": {},
     "output_type": "execute_result"
    }
   ],
   "source": [
    "results_co = test_features(information.co)\n",
    "results_co.sort_values(by='score', ascending=False).head(2)"
   ]
  },
  {
   "cell_type": "markdown",
   "metadata": {},
   "source": [
    "### Based on mutual information"
   ]
  },
  {
   "cell_type": "code",
   "execution_count": 77,
   "metadata": {},
   "outputs": [
    {
     "data": {
      "text/html": [
       "<div>\n",
       "<style scoped>\n",
       "    .dataframe tbody tr th:only-of-type {\n",
       "        vertical-align: middle;\n",
       "    }\n",
       "\n",
       "    .dataframe tbody tr th {\n",
       "        vertical-align: top;\n",
       "    }\n",
       "\n",
       "    .dataframe thead th {\n",
       "        text-align: right;\n",
       "    }\n",
       "</style>\n",
       "<table border=\"1\" class=\"dataframe\">\n",
       "  <thead>\n",
       "    <tr style=\"text-align: right;\">\n",
       "      <th></th>\n",
       "      <th>features</th>\n",
       "      <th>score</th>\n",
       "      <th>count</th>\n",
       "    </tr>\n",
       "  </thead>\n",
       "  <tbody>\n",
       "    <tr>\n",
       "      <th>0</th>\n",
       "      <td>Index(['made_purchase', 'mean_time_per_product...</td>\n",
       "      <td>0.812403</td>\n",
       "      <td>313.0</td>\n",
       "    </tr>\n",
       "    <tr>\n",
       "      <th>1</th>\n",
       "      <td>Index(['made_purchase', 'mean_time_per_product...</td>\n",
       "      <td>0.790083</td>\n",
       "      <td>213.0</td>\n",
       "    </tr>\n",
       "  </tbody>\n",
       "</table>\n",
       "</div>"
      ],
      "text/plain": [
       "                                            features     score  count\n",
       "0  Index(['made_purchase', 'mean_time_per_product...  0.812403  313.0\n",
       "1  Index(['made_purchase', 'mean_time_per_product...  0.790083  213.0"
      ]
     },
     "execution_count": 77,
     "metadata": {},
     "output_type": "execute_result"
    }
   ],
   "source": [
    "results_mi = test_features(information.mi)\n",
    "results_mi.sort_values(by='score', ascending=False).head(2)"
   ]
  },
  {
   "cell_type": "markdown",
   "metadata": {},
   "source": [
    "## Comparison"
   ]
  },
  {
   "cell_type": "code",
   "execution_count": 78,
   "metadata": {
    "scrolled": true
   },
   "outputs": [
    {
     "data": {
      "text/plain": [
       "<matplotlib.axes._subplots.AxesSubplot at 0x7f5002c418d0>"
      ]
     },
     "execution_count": 78,
     "metadata": {},
     "output_type": "execute_result"
    },
    {
     "data": {
      "image/png": "[encoded data removed]",
      "text/plain": [
       "<Figure size 432x288 with 1 Axes>"
      ]
     },
     "metadata": {
      "needs_background": "light"
     },
     "output_type": "display_data"
    }
   ],
   "source": [
    "res = []\n",
    "res.append(results_both[['count']])\n",
    "res.append(results_both[['score']].add_prefix('both_'))\n",
    "res.append(results_co[['score']].add_prefix('co_'))\n",
    "res.append(results_mi[['score']].add_prefix('mi_'))\n",
    "pd.concat(res, axis=1).plot(x='count', y=['both_score', 'co_score', 'mi_score'])"
   ]
  },
  {
   "cell_type": "code",
   "execution_count": 79,
   "metadata": {
    "scrolled": false
   },
   "outputs": [
    {
     "name": "stdout",
     "output_type": "stream",
     "text": [
      "Best results obtained with 313 features\n"
     ]
    }
   ],
   "source": [
    "all_results = pd.concat([results_both, results_co, results_mi], axis=0).reset_index()\n",
    "best_result = all_results.loc[all_results.score.idxmax()]\n",
    "best_result = best_result.append(pd.Series(['made_purchase'], index=['y']))\n",
    "print(f'Best results obtained with {int(best_result[\"count\"])} features')"
   ]
  },
  {
   "cell_type": "markdown",
   "metadata": {},
   "source": [
    "# Final training"
   ]
  },
  {
   "cell_type": "code",
   "execution_count": 80,
   "metadata": {},
   "outputs": [
    {
     "data": {
      "text/plain": [
       "SVC()"
      ]
     },
     "execution_count": 80,
     "metadata": {},
     "output_type": "execute_result"
    }
   ],
   "source": [
    "final_train = pd.read_pickle('data/features_develop.pickle')\n",
    "numeric = final_train.select_dtypes(include=['int64', 'float64']).columns\n",
    "mean = final_train[numeric].mean()\n",
    "std = final_train[numeric].std()\n",
    "final_train = normalize_numeric(one_hot_user(encode_multi_hot(final_train)), mean, std)\n",
    "y_col = 'made_purchase'\n",
    "x_cols = best_result.features.drop(y_col)\n",
    "\n",
    "clf = svm.SVC()\n",
    "clf.fit(final_train[x_cols], final_train[y_col])"
   ]
  },
  {
   "cell_type": "markdown",
   "metadata": {},
   "source": [
    "# Final testing"
   ]
  },
  {
   "cell_type": "code",
   "execution_count": 83,
   "metadata": {},
   "outputs": [
    {
     "name": "stdout",
     "output_type": "stream",
     "text": [
      "The final score of model B is 0.8171\n"
     ]
    }
   ],
   "source": [
    "final_testing = pd.read_pickle('data/features_prod.pickle')\n",
    "final_testing = normalize_numeric(one_hot_user(encode_multi_hot(final_testing)), mean, std)\n",
    "final_testing = final_testing.assign(**{str(c): False for c in final_train.columns if c not in set(final_testing.columns)})\n",
    "\n",
    "correct = final_testing[y_col] == clf.predict(final_testing[x_cols])\n",
    "score = correct.sum() / len(correct)\n",
    "print(f'The final score of model B is {round(score, 4)}')"
   ]
  },
  {
   "cell_type": "markdown",
   "metadata": {},
   "source": [
    "# Saving model"
   ]
  },
  {
   "cell_type": "code",
   "execution_count": 84,
   "metadata": {},
   "outputs": [],
   "source": [
    "dump(clf, 'data/model_b.joblib') \n",
    "best_result.to_pickle('data/model_b_metadata.pickle')\n",
    "preprocessed[best_result.features].describe().to_pickle('data/model_b_data.pickle')"
   ]
  }
 ],
 "metadata": {
  "kernelspec": {
   "display_name": "local",
   "language": "python",
   "name": "local"
  },
  "language_info": {
   "codemirror_mode": {
    "name": "ipython",
    "version": 3
   },
   "file_extension": ".py",
   "mimetype": "text/x-python",
   "name": "python",
   "nbconvert_exporter": "python",
   "pygments_lexer": "ipython3",
   "version": "3.7.7"
  }
 },
 "nbformat": 4,
 "nbformat_minor": 4
}
