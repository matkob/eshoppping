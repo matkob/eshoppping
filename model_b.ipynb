{
 "cells": [
  {
   "cell_type": "code",
   "execution_count": 1,
   "metadata": {},
   "outputs": [],
   "source": [
    "import pandas as pd\n",
    "import numpy as np\n",
    "import random"
   ]
  },
  {
   "cell_type": "code",
   "execution_count": 2,
   "metadata": {},
   "outputs": [],
   "source": [
    "features = pd.read_pickle('data/features.pickle')"
   ]
  },
  {
   "cell_type": "markdown",
   "metadata": {},
   "source": [
    "# Preprocessing"
   ]
  },
  {
   "cell_type": "code",
   "execution_count": 3,
   "metadata": {},
   "outputs": [
    {
     "data": {
      "text/plain": [
       "products_bought                 int64\n",
       "made_purchase                    bool\n",
       "events_count                    int64\n",
       "product_views                   int64\n",
       "total_duration                float64\n",
       "mean_event_duration           float64\n",
       "products_viewed                object\n",
       "mean_time_per_product         float64\n",
       "user_id                       float64\n",
       "is_female                        bool\n",
       "weekday_cos_min               float64\n",
       "weekday_cos_max               float64\n",
       "weekday_sin_min               float64\n",
       "weekday_sin_max               float64\n",
       "hour_sin_min                  float64\n",
       "hour_sin_max                  float64\n",
       "hour_cos_min                  float64\n",
       "hour_cos_max                  float64\n",
       "cat_0                          object\n",
       "cat_1                          object\n",
       "cat_2                          object\n",
       "cat_3                          object\n",
       "syntetic_duration                bool\n",
       "delivery_duration             float64\n",
       "syntetic_delivery_duration       bool\n",
       "dtype: object"
      ]
     },
     "execution_count": 3,
     "metadata": {},
     "output_type": "execute_result"
    }
   ],
   "source": [
    "features.dtypes"
   ]
  },
  {
   "cell_type": "markdown",
   "metadata": {},
   "source": [
    "Feature matrix contains mostly real number or integer values but there are some non numerical types that we must take care of."
   ]
  },
  {
   "cell_type": "markdown",
   "metadata": {},
   "source": [
    "### Object columns"
   ]
  },
  {
   "cell_type": "code",
   "execution_count": 4,
   "metadata": {},
   "outputs": [],
   "source": [
    "objects = ['products_viewed', 'cat_0', 'cat_1', 'cat_2', 'cat_3']"
   ]
  },
  {
   "cell_type": "code",
   "execution_count": 5,
   "metadata": {},
   "outputs": [
    {
     "data": {
      "text/html": [
       "<div>\n",
       "<style scoped>\n",
       "    .dataframe tbody tr th:only-of-type {\n",
       "        vertical-align: middle;\n",
       "    }\n",
       "\n",
       "    .dataframe tbody tr th {\n",
       "        vertical-align: top;\n",
       "    }\n",
       "\n",
       "    .dataframe thead th {\n",
       "        text-align: right;\n",
       "    }\n",
       "</style>\n",
       "<table border=\"1\" class=\"dataframe\">\n",
       "  <thead>\n",
       "    <tr style=\"text-align: right;\">\n",
       "      <th></th>\n",
       "      <th>products_viewed</th>\n",
       "      <th>cat_0</th>\n",
       "      <th>cat_1</th>\n",
       "      <th>cat_2</th>\n",
       "      <th>cat_3</th>\n",
       "    </tr>\n",
       "    <tr>\n",
       "      <th>session_id</th>\n",
       "      <th></th>\n",
       "      <th></th>\n",
       "      <th></th>\n",
       "      <th></th>\n",
       "      <th></th>\n",
       "    </tr>\n",
       "  </thead>\n",
       "  <tbody>\n",
       "    <tr>\n",
       "      <th>100001.0</th>\n",
       "      <td>{1001.0}</td>\n",
       "      <td>{telefony i akcesoria}</td>\n",
       "      <td>{telefony stacjonarne}</td>\n",
       "      <td>{}</td>\n",
       "      <td>{}</td>\n",
       "    </tr>\n",
       "    <tr>\n",
       "      <th>100002.0</th>\n",
       "      <td>{1276.0, 1277.0}</td>\n",
       "      <td>{komputery}</td>\n",
       "      <td>{tablety i akcesoria}</td>\n",
       "      <td>{tablety}</td>\n",
       "      <td>{}</td>\n",
       "    </tr>\n",
       "    <tr>\n",
       "      <th>100003.0</th>\n",
       "      <td>{1276.0, 1277.0}</td>\n",
       "      <td>{komputery}</td>\n",
       "      <td>{tablety i akcesoria}</td>\n",
       "      <td>{tablety}</td>\n",
       "      <td>{}</td>\n",
       "    </tr>\n",
       "    <tr>\n",
       "      <th>100004.0</th>\n",
       "      <td>{1030.0, 1032.0, 1033.0, 1034.0, 1036.0, 1037....</td>\n",
       "      <td>{komputery}</td>\n",
       "      <td>{monitory}</td>\n",
       "      <td>{monitory lcd}</td>\n",
       "      <td>{}</td>\n",
       "    </tr>\n",
       "    <tr>\n",
       "      <th>100005.0</th>\n",
       "      <td>{1233.0, 1234.0}</td>\n",
       "      <td>{sprzęt rtv}</td>\n",
       "      <td>{video}</td>\n",
       "      <td>{odtwarzacze dvd}</td>\n",
       "      <td>{}</td>\n",
       "    </tr>\n",
       "  </tbody>\n",
       "</table>\n",
       "</div>"
      ],
      "text/plain": [
       "                                              products_viewed  \\\n",
       "session_id                                                      \n",
       "100001.0                                             {1001.0}   \n",
       "100002.0                                     {1276.0, 1277.0}   \n",
       "100003.0                                     {1276.0, 1277.0}   \n",
       "100004.0    {1030.0, 1032.0, 1033.0, 1034.0, 1036.0, 1037....   \n",
       "100005.0                                     {1233.0, 1234.0}   \n",
       "\n",
       "                             cat_0                   cat_1              cat_2  \\\n",
       "session_id                                                                      \n",
       "100001.0    {telefony i akcesoria}  {telefony stacjonarne}                 {}   \n",
       "100002.0               {komputery}   {tablety i akcesoria}          {tablety}   \n",
       "100003.0               {komputery}   {tablety i akcesoria}          {tablety}   \n",
       "100004.0               {komputery}              {monitory}     {monitory lcd}   \n",
       "100005.0              {sprzęt rtv}                 {video}  {odtwarzacze dvd}   \n",
       "\n",
       "           cat_3  \n",
       "session_id        \n",
       "100001.0      {}  \n",
       "100002.0      {}  \n",
       "100003.0      {}  \n",
       "100004.0      {}  \n",
       "100005.0      {}  "
      ]
     },
     "execution_count": 5,
     "metadata": {},
     "output_type": "execute_result"
    }
   ],
   "source": [
    "features[objects].head()"
   ]
  },
  {
   "cell_type": "markdown",
   "metadata": {},
   "source": [
    "all of those features are sets of labels that must be encoded"
   ]
  },
  {
   "cell_type": "markdown",
   "metadata": {},
   "source": [
    "to do so we use one hot encoding technique as the labels are not ordinal"
   ]
  },
  {
   "cell_type": "markdown",
   "metadata": {},
   "source": [
    "### Products viewed"
   ]
  },
  {
   "cell_type": "code",
   "execution_count": 6,
   "metadata": {},
   "outputs": [
    {
     "data": {
      "text/plain": [
       "(9714, 2018)"
      ]
     },
     "execution_count": 6,
     "metadata": {},
     "output_type": "execute_result"
    }
   ],
   "source": [
    "processed_products = pd.get_dummies(features.products_viewed.apply(lambda r: str(r)))\n",
    "processed_products.shape"
   ]
  },
  {
   "cell_type": "markdown",
   "metadata": {},
   "source": [
    "### Category 0"
   ]
  },
  {
   "cell_type": "code",
   "execution_count": 7,
   "metadata": {},
   "outputs": [
    {
     "data": {
      "text/plain": [
       "(9714, 4)"
      ]
     },
     "execution_count": 7,
     "metadata": {},
     "output_type": "execute_result"
    }
   ],
   "source": [
    "processed_cat0 = pd.get_dummies(features.cat_0.apply(lambda r: str(r)))\n",
    "processed_cat0.shape"
   ]
  },
  {
   "cell_type": "markdown",
   "metadata": {},
   "source": [
    "### Category 1"
   ]
  },
  {
   "cell_type": "code",
   "execution_count": 8,
   "metadata": {},
   "outputs": [
    {
     "data": {
      "text/plain": [
       "(9714, 11)"
      ]
     },
     "execution_count": 8,
     "metadata": {},
     "output_type": "execute_result"
    }
   ],
   "source": [
    "processed_cat1 = pd.get_dummies(features.cat_1.apply(lambda r: str(r)))\n",
    "processed_cat1.shape"
   ]
  },
  {
   "cell_type": "markdown",
   "metadata": {},
   "source": [
    "### Category 2"
   ]
  },
  {
   "cell_type": "code",
   "execution_count": 9,
   "metadata": {},
   "outputs": [
    {
     "data": {
      "text/plain": [
       "(9714, 12)"
      ]
     },
     "execution_count": 9,
     "metadata": {},
     "output_type": "execute_result"
    }
   ],
   "source": [
    "processed_cat2 = pd.get_dummies(features.cat_2.apply(lambda r: str(r)))\n",
    "processed_cat2.shape"
   ]
  },
  {
   "cell_type": "markdown",
   "metadata": {},
   "source": [
    "### Category 3"
   ]
  },
  {
   "cell_type": "code",
   "execution_count": 10,
   "metadata": {},
   "outputs": [
    {
     "data": {
      "text/plain": [
       "(9714, 3)"
      ]
     },
     "execution_count": 10,
     "metadata": {},
     "output_type": "execute_result"
    }
   ],
   "source": [
    "processed_cat3 = pd.get_dummies(features.cat_3.apply(lambda r: str(r)))\n",
    "processed_cat3.shape"
   ]
  },
  {
   "cell_type": "markdown",
   "metadata": {},
   "source": [
    "## New features matrix"
   ]
  },
  {
   "cell_type": "code",
   "execution_count": 11,
   "metadata": {},
   "outputs": [
    {
     "data": {
      "text/plain": [
       "(9714, 2068)"
      ]
     },
     "execution_count": 11,
     "metadata": {},
     "output_type": "execute_result"
    }
   ],
   "source": [
    "preprocessed = features.copy()\n",
    "preprocessed = preprocessed.drop(objects, axis=1)\n",
    "datasets = [preprocessed, processed_products, processed_cat0, processed_cat1, processed_cat2, processed_cat3]\n",
    "preprocessed = pd.concat(datasets, axis=1)\n",
    "preprocessed.shape"
   ]
  },
  {
   "cell_type": "markdown",
   "metadata": {},
   "source": [
    "### Reducing dimensions"
   ]
  },
  {
   "cell_type": "markdown",
   "metadata": {},
   "source": [
    "After performing one hot encoding on columns that are sets of labels we have 2068 features - this value could be reduced if we encoded the presence of any particular label with a boolean flag. That way a set of two labels would have two columns with True value. This also makes sense when adding two vectors - adding a set with label A to a set with label B will result in a set that contains both label A and label B. We will try and create another DataFrame, this time using the second technique."
   ]
  },
  {
   "cell_type": "code",
   "execution_count": 12,
   "metadata": {},
   "outputs": [],
   "source": [
    "def multi_hot_encoder(s: pd.Series):\n",
    "    result = pd.DataFrame(index=s.index)\n",
    "    numpy_data = pd.DataFrame(s.apply(list).tolist()).to_numpy()\n",
    "    clean = numpy_data[np.logical_not(pd.isna(numpy_data))]\n",
    "    unique = np.unique(clean)    \n",
    "    for c in unique:\n",
    "        result[c] = s.apply(lambda r: c in r)\n",
    "    return result"
   ]
  },
  {
   "cell_type": "code",
   "execution_count": 21,
   "metadata": {},
   "outputs": [
    {
     "name": "stdout",
     "output_type": "stream",
     "text": [
      "products_viewed\n",
      "cat_0\n",
      "cat_1\n",
      "cat_2\n",
      "cat_3\n"
     ]
    },
    {
     "data": {
      "text/plain": [
       "(9714, 121)"
      ]
     },
     "execution_count": 21,
     "metadata": {},
     "output_type": "execute_result"
    }
   ],
   "source": [
    "preprocessed_multi_hot = features.copy()\n",
    "preprocessed_multi_hot = preprocessed_multi_hot.drop(objects, axis=1)\n",
    "datasets_multi_hot = [preprocessed_multi_hot]\n",
    "\n",
    "for c in objects:\n",
    "    print(c)\n",
    "    datasets_multi_hot.append(multi_hot_encoder(features[c]))\n",
    "\n",
    "preprocessed_multi_hot = pd.concat(datasets_multi_hot, axis=1)\n",
    "preprocessed_multi_hot.shape"
   ]
  },
  {
   "cell_type": "markdown",
   "metadata": {},
   "source": [
    "That method returned an encoded dataset with as few as 121 features. We will examine which gives better results later on."
   ]
  },
  {
   "cell_type": "markdown",
   "metadata": {},
   "source": [
    "# Split data"
   ]
  },
  {
   "cell_type": "markdown",
   "metadata": {},
   "source": [
    "### One hot encoding"
   ]
  },
  {
   "cell_type": "code",
   "execution_count": 22,
   "metadata": {
    "scrolled": false
   },
   "outputs": [
    {
     "name": "stdout",
     "output_type": "stream",
     "text": [
      "train data: 5828 rows, dev data: 1943 rows, test data: 1943 rows\n"
     ]
    }
   ],
   "source": [
    "df = preprocessed.reset_index(drop=True)\n",
    "train, dev, test = np.split(df.sample(frac=1), [int(.6*len(df)), int(.8*len(df))])\n",
    "print(f'train data: {len(train)} rows, dev data: {len(dev)} rows, test data: {len(test)} rows')"
   ]
  },
  {
   "cell_type": "code",
   "execution_count": null,
   "metadata": {},
   "outputs": [],
   "source": [
    "input_cols = preprocessed.drop('made_purchase', axis=1).columns\n",
    "output_col = 'made_purchase'"
   ]
  },
  {
   "cell_type": "markdown",
   "metadata": {},
   "source": [
    "### Multi hot encoding"
   ]
  },
  {
   "cell_type": "code",
   "execution_count": 24,
   "metadata": {},
   "outputs": [
    {
     "name": "stdout",
     "output_type": "stream",
     "text": [
      "multi hot train data: 5828 rows, dev data: 1943 rows, test data: 1943 rows\n"
     ]
    }
   ],
   "source": [
    "df_m = preprocessed_multi_hot.reset_index(drop=True)\n",
    "train_m, dev_m, test_m = np.split(df_m.sample(frac=1), [int(.6*len(df_m)), int(.8*len(df_m))])\n",
    "print(f'multi hot train data: {len(train_m)} rows, dev data: {len(dev_m)} rows, test data: {len(test_m)} rows')"
   ]
  },
  {
   "cell_type": "code",
   "execution_count": 30,
   "metadata": {},
   "outputs": [],
   "source": [
    "input_cols_m = preprocessed_multi_hot.drop('made_purchase', axis=1).columns\n",
    "output_col_m = 'made_purchase'"
   ]
  },
  {
   "cell_type": "markdown",
   "metadata": {},
   "source": [
    "# Train"
   ]
  },
  {
   "cell_type": "markdown",
   "metadata": {},
   "source": [
    "### One hot encoding"
   ]
  },
  {
   "cell_type": "code",
   "execution_count": 26,
   "metadata": {},
   "outputs": [],
   "source": [
    "from sklearn import svm"
   ]
  },
  {
   "cell_type": "code",
   "execution_count": 27,
   "metadata": {},
   "outputs": [],
   "source": [
    "x = train[input_cols]\n",
    "y = train[output_col]"
   ]
  },
  {
   "cell_type": "code",
   "execution_count": 28,
   "metadata": {},
   "outputs": [
    {
     "data": {
      "text/plain": [
       "SVC()"
      ]
     },
     "execution_count": 28,
     "metadata": {},
     "output_type": "execute_result"
    }
   ],
   "source": [
    "clf = svm.SVC()\n",
    "clf.fit(x, y)"
   ]
  },
  {
   "cell_type": "markdown",
   "metadata": {},
   "source": [
    "### Multi hot encoding"
   ]
  },
  {
   "cell_type": "code",
   "execution_count": 31,
   "metadata": {},
   "outputs": [],
   "source": [
    "x_m = train_m[input_cols_m]\n",
    "y_m = train_m[output_col_m]"
   ]
  },
  {
   "cell_type": "code",
   "execution_count": 32,
   "metadata": {},
   "outputs": [
    {
     "data": {
      "text/plain": [
       "SVC()"
      ]
     },
     "execution_count": 32,
     "metadata": {},
     "output_type": "execute_result"
    }
   ],
   "source": [
    "clf_m = svm.SVC()\n",
    "clf_m.fit(x_m, y_m)"
   ]
  },
  {
   "cell_type": "markdown",
   "metadata": {},
   "source": [
    "# Adjustments"
   ]
  },
  {
   "cell_type": "code",
   "execution_count": 41,
   "metadata": {},
   "outputs": [],
   "source": [
    "x_dev = dev[input_cols]\n",
    "y_dev = dev[output_col]"
   ]
  },
  {
   "cell_type": "code",
   "execution_count": null,
   "metadata": {},
   "outputs": [],
   "source": []
  },
  {
   "cell_type": "code",
   "execution_count": null,
   "metadata": {},
   "outputs": [],
   "source": []
  },
  {
   "cell_type": "markdown",
   "metadata": {},
   "source": [
    "# Test"
   ]
  },
  {
   "cell_type": "markdown",
   "metadata": {},
   "source": [
    "### One hot encoder"
   ]
  },
  {
   "cell_type": "code",
   "execution_count": 33,
   "metadata": {},
   "outputs": [],
   "source": [
    "response = clf.predict(test[input_cols])"
   ]
  },
  {
   "cell_type": "code",
   "execution_count": 34,
   "metadata": {},
   "outputs": [],
   "source": [
    "results = pd.DataFrame(data={'y': test[output_col], 'response': response})\n",
    "results['is_correct'] = results.y == results.response"
   ]
  },
  {
   "cell_type": "code",
   "execution_count": 35,
   "metadata": {},
   "outputs": [
    {
     "name": "stdout",
     "output_type": "stream",
     "text": [
      "the score of model a is 0.9048\n"
     ]
    }
   ],
   "source": [
    "print(f'the score of model a is {round(results.is_correct.sum() / len(results), 4)}')"
   ]
  },
  {
   "cell_type": "markdown",
   "metadata": {},
   "source": [
    "### Multi hot encoder"
   ]
  },
  {
   "cell_type": "code",
   "execution_count": 37,
   "metadata": {},
   "outputs": [],
   "source": [
    "response_m = clf_m.predict(test_m[input_cols_m])"
   ]
  },
  {
   "cell_type": "code",
   "execution_count": 39,
   "metadata": {},
   "outputs": [],
   "source": [
    "results_m = pd.DataFrame(data={'y': test_m[output_col_m], 'response': response_m})\n",
    "results_m['is_correct'] = results_m.y == results_m.response"
   ]
  },
  {
   "cell_type": "code",
   "execution_count": 40,
   "metadata": {},
   "outputs": [
    {
     "name": "stdout",
     "output_type": "stream",
     "text": [
      "the score of model a with multi encoding is 0.9074\n"
     ]
    }
   ],
   "source": [
    "print(f'the score of model a with multi encoding is {round(results_m.is_correct.sum() / len(results_m), 4)}')"
   ]
  },
  {
   "cell_type": "markdown",
   "metadata": {},
   "source": [
    "# Conclusions"
   ]
  },
  {
   "cell_type": "markdown",
   "metadata": {},
   "source": [
    "Although model a with multi encoding works way faster than with one hot encoding (121 vs 2068 features!) it's score is about the same. We will stick with multi encoding just because it's faster and easier to work with."
   ]
  }
 ],
 "metadata": {
  "kernelspec": {
   "display_name": "local",
   "language": "python",
   "name": "local"
  },
  "language_info": {
   "codemirror_mode": {
    "name": "ipython",
    "version": 3
   },
   "file_extension": ".py",
   "mimetype": "text/x-python",
   "name": "python",
   "nbconvert_exporter": "python",
   "pygments_lexer": "ipython3",
   "version": "3.7.7"
  }
 },
 "nbformat": 4,
 "nbformat_minor": 4
}
